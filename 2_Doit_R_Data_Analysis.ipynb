{
 "cells": [
  {
   "cell_type": "markdown",
   "metadata": {},
   "source": [
    "# CHAP04. 데이터 프레임의 세계로!"
   ]
  },
  {
   "cell_type": "markdown",
   "metadata": {},
   "source": [
    "## 04-1 데이터는 어떻게 생겼나? - 데이터 프레임 이해하기\n",
    "\n",
    "데이터 프레임(Data Frame)은 가장 많이 사용하는 데이터 형태로, 행과 열로 구성된 사각형 모양의 표처럼 생겼다."
   ]
  },
  {
   "cell_type": "markdown",
   "metadata": {},
   "source": [
    "#### '열'은 속성이다.\n",
    "\n",
    "세로로 나열되는 열은 속성을 나타낸다. 열은 '컬럼(Column)' 또는 '변수(Variable)'라고 불린다."
   ]
  },
  {
   "cell_type": "markdown",
   "metadata": {},
   "source": [
    "#### '행'은 한 사람의 정보다.\n",
    "\n",
    "가로로 나열되는 행은 각 사람에 대한 정보를 보여 준다. 행은 Row(로) 또는 Case(케이스)라고 불린다."
   ]
  },
  {
   "cell_type": "markdown",
   "metadata": {},
   "source": [
    "#### 한 명에 대한 데이터는 가로 한 줄에 나열된다."
   ]
  },
  {
   "cell_type": "markdown",
   "metadata": {},
   "source": [
    "#### 데이터가 크다 = 행이 많다 또는 열이 많다.\n",
    "\n",
    "\"데이터가 크다\"라는 말은 행이 많다는 의미일 수도 있고, 열이 많다는 의미일 수도 있다.\n",
    "\n",
    "데이터 분석하는 입장에서 열이 많은 것이 더 중요하다.\n",
    "\n",
    "행이 많은 경우 좋은 장비를 구축하면 된다. 분석 기술 측면에서는 별다른 차이가 생기지 않는다.\n",
    "\n",
    "열이 많은 경우 변수를 조합할 수 있는 경우의 수가 늘어난다. 복잡한 고급 분석 방법이 필요하다.\n",
    "\n",
    "데이터 양을 의미하는 행보다 데이터의 다양성을 의미하는 열이 많은 것이 분석의 측면에서 더 중요하다."
   ]
  },
  {
   "cell_type": "markdown",
   "metadata": {},
   "source": [
    "#### \"데이터가 크다\"\n",
    "\n",
    "행이 많다 → 컴퓨터가 느려짐 → 고사양 장비 구축\n",
    "열이 많다 → 분석 방법의 한계 → 고급 분석 방법"
   ]
  },
  {
   "cell_type": "markdown",
   "metadata": {},
   "source": [
    "#### 빅데이터는 중요한가?\n",
    "\n",
    "데이터 분석의 가치는 어떤 현상이 조건에 따라 달라진다는 사실을 발견할 때 생겨난다.\n",
    "\n",
    "'빅'데이터가 아니라 '다양한' 데이터가 중요하다."
   ]
  },
  {
   "cell_type": "markdown",
   "metadata": {},
   "source": [
    "## 04-2 데이터 프레임 만들기 - 시험 성적 데이터 만들어 보자!"
   ]
  },
  {
   "cell_type": "markdown",
   "metadata": {},
   "source": [
    "### 데이터 입력해 데이터 프레임 만들기"
   ]
  },
  {
   "cell_type": "markdown",
   "metadata": {},
   "source": [
    "#### 1. 변수 만들기"
   ]
  },
  {
   "cell_type": "code",
   "execution_count": 1,
   "metadata": {},
   "outputs": [
    {
     "data": {
      "text/html": [
       "<ol class=list-inline>\n",
       "\t<li>90</li>\n",
       "\t<li>80</li>\n",
       "\t<li>60</li>\n",
       "\t<li>70</li>\n",
       "</ol>\n"
      ],
      "text/latex": [
       "\\begin{enumerate*}\n",
       "\\item 90\n",
       "\\item 80\n",
       "\\item 60\n",
       "\\item 70\n",
       "\\end{enumerate*}\n"
      ],
      "text/markdown": [
       "1. 90\n",
       "2. 80\n",
       "3. 60\n",
       "4. 70\n",
       "\n",
       "\n"
      ],
      "text/plain": [
       "[1] 90 80 60 70"
      ]
     },
     "metadata": {},
     "output_type": "display_data"
    }
   ],
   "source": [
    "english <- c(90, 80, 60, 70)\n",
    "english"
   ]
  },
  {
   "cell_type": "code",
   "execution_count": 2,
   "metadata": {},
   "outputs": [
    {
     "data": {
      "text/html": [
       "<ol class=list-inline>\n",
       "\t<li>50</li>\n",
       "\t<li>60</li>\n",
       "\t<li>100</li>\n",
       "\t<li>20</li>\n",
       "</ol>\n"
      ],
      "text/latex": [
       "\\begin{enumerate*}\n",
       "\\item 50\n",
       "\\item 60\n",
       "\\item 100\n",
       "\\item 20\n",
       "\\end{enumerate*}\n"
      ],
      "text/markdown": [
       "1. 50\n",
       "2. 60\n",
       "3. 100\n",
       "4. 20\n",
       "\n",
       "\n"
      ],
      "text/plain": [
       "[1]  50  60 100  20"
      ]
     },
     "metadata": {},
     "output_type": "display_data"
    }
   ],
   "source": [
    "math <- c(50, 60, 100, 20)\n",
    "math"
   ]
  },
  {
   "cell_type": "markdown",
   "metadata": {},
   "source": [
    "#### 2. 데이터 프레임 만들기\n",
    "\n",
    "data.frame() : 데이터 프레임을 구성할 변수를 괄호 안에 쉼표로 나열하면 된다. "
   ]
  },
  {
   "cell_type": "code",
   "execution_count": 5,
   "metadata": {},
   "outputs": [
    {
     "data": {
      "text/html": [
       "<table>\n",
       "<thead><tr><th scope=col>english</th><th scope=col>math</th></tr></thead>\n",
       "<tbody>\n",
       "\t<tr><td>90 </td><td> 50</td></tr>\n",
       "\t<tr><td>80 </td><td> 60</td></tr>\n",
       "\t<tr><td>60 </td><td>100</td></tr>\n",
       "\t<tr><td>70 </td><td> 20</td></tr>\n",
       "</tbody>\n",
       "</table>\n"
      ],
      "text/latex": [
       "\\begin{tabular}{r|ll}\n",
       " english & math\\\\\n",
       "\\hline\n",
       "\t 90  &  50\\\\\n",
       "\t 80  &  60\\\\\n",
       "\t 60  & 100\\\\\n",
       "\t 70  &  20\\\\\n",
       "\\end{tabular}\n"
      ],
      "text/markdown": [
       "\n",
       "| english | math |\n",
       "|---|---|\n",
       "| 90  |  50 |\n",
       "| 80  |  60 |\n",
       "| 60  | 100 |\n",
       "| 70  |  20 |\n",
       "\n"
      ],
      "text/plain": [
       "  english math\n",
       "1 90       50 \n",
       "2 80       60 \n",
       "3 60      100 \n",
       "4 70       20 "
      ]
     },
     "metadata": {},
     "output_type": "display_data"
    }
   ],
   "source": [
    "# english, math로 데이터 프레임 생성해서 df_midterm 할당\n",
    "df_midterm <- data.frame(english, math)\n",
    "df_midterm"
   ]
  },
  {
   "cell_type": "markdown",
   "metadata": {},
   "source": [
    "#### 3. 학생의 반에 대한 정보가 추가된 데이터 프레임 생성"
   ]
  },
  {
   "cell_type": "code",
   "execution_count": 6,
   "metadata": {},
   "outputs": [
    {
     "data": {
      "text/html": [
       "<ol class=list-inline>\n",
       "\t<li>1</li>\n",
       "\t<li>1</li>\n",
       "\t<li>2</li>\n",
       "\t<li>2</li>\n",
       "</ol>\n"
      ],
      "text/latex": [
       "\\begin{enumerate*}\n",
       "\\item 1\n",
       "\\item 1\n",
       "\\item 2\n",
       "\\item 2\n",
       "\\end{enumerate*}\n"
      ],
      "text/markdown": [
       "1. 1\n",
       "2. 1\n",
       "3. 2\n",
       "4. 2\n",
       "\n",
       "\n"
      ],
      "text/plain": [
       "[1] 1 1 2 2"
      ]
     },
     "metadata": {},
     "output_type": "display_data"
    }
   ],
   "source": [
    "class <- c(1, 1, 2, 2)\n",
    "class"
   ]
  },
  {
   "cell_type": "code",
   "execution_count": 7,
   "metadata": {
    "scrolled": true
   },
   "outputs": [
    {
     "data": {
      "text/html": [
       "<table>\n",
       "<thead><tr><th scope=col>english</th><th scope=col>math</th><th scope=col>class</th></tr></thead>\n",
       "<tbody>\n",
       "\t<tr><td>90 </td><td> 50</td><td>1  </td></tr>\n",
       "\t<tr><td>80 </td><td> 60</td><td>1  </td></tr>\n",
       "\t<tr><td>60 </td><td>100</td><td>2  </td></tr>\n",
       "\t<tr><td>70 </td><td> 20</td><td>2  </td></tr>\n",
       "</tbody>\n",
       "</table>\n"
      ],
      "text/latex": [
       "\\begin{tabular}{r|lll}\n",
       " english & math & class\\\\\n",
       "\\hline\n",
       "\t 90  &  50 & 1  \\\\\n",
       "\t 80  &  60 & 1  \\\\\n",
       "\t 60  & 100 & 2  \\\\\n",
       "\t 70  &  20 & 2  \\\\\n",
       "\\end{tabular}\n"
      ],
      "text/markdown": [
       "\n",
       "| english | math | class |\n",
       "|---|---|---|\n",
       "| 90  |  50 | 1   |\n",
       "| 80  |  60 | 1   |\n",
       "| 60  | 100 | 2   |\n",
       "| 70  |  20 | 2   |\n",
       "\n"
      ],
      "text/plain": [
       "  english math class\n",
       "1 90       50  1    \n",
       "2 80       60  1    \n",
       "3 60      100  2    \n",
       "4 70       20  2    "
      ]
     },
     "metadata": {},
     "output_type": "display_data"
    }
   ],
   "source": [
    "df_midterm <- data.frame(english, math, class)\n",
    "df_midterm"
   ]
  },
  {
   "cell_type": "code",
   "execution_count": 9,
   "metadata": {},
   "outputs": [
    {
     "data": {
      "text/html": [
       "<table>\n",
       "<thead><tr><th scope=col>english</th><th scope=col>math</th><th scope=col>class</th><th scope=col>id</th></tr></thead>\n",
       "<tbody>\n",
       "\t<tr><td>90 </td><td> 50</td><td>1  </td><td>1  </td></tr>\n",
       "\t<tr><td>80 </td><td> 60</td><td>1  </td><td>2  </td></tr>\n",
       "\t<tr><td>60 </td><td>100</td><td>2  </td><td>3  </td></tr>\n",
       "\t<tr><td>70 </td><td> 20</td><td>2  </td><td>4  </td></tr>\n",
       "</tbody>\n",
       "</table>\n"
      ],
      "text/latex": [
       "\\begin{tabular}{r|llll}\n",
       " english & math & class & id\\\\\n",
       "\\hline\n",
       "\t 90  &  50 & 1   & 1  \\\\\n",
       "\t 80  &  60 & 1   & 2  \\\\\n",
       "\t 60  & 100 & 2   & 3  \\\\\n",
       "\t 70  &  20 & 2   & 4  \\\\\n",
       "\\end{tabular}\n"
      ],
      "text/markdown": [
       "\n",
       "| english | math | class | id |\n",
       "|---|---|---|---|\n",
       "| 90  |  50 | 1   | 1   |\n",
       "| 80  |  60 | 1   | 2   |\n",
       "| 60  | 100 | 2   | 3   |\n",
       "| 70  |  20 | 2   | 4   |\n",
       "\n"
      ],
      "text/plain": [
       "  english math class id\n",
       "1 90       50  1     1 \n",
       "2 80       60  1     2 \n",
       "3 60      100  2     3 \n",
       "4 70       20  2     4 "
      ]
     },
     "metadata": {},
     "output_type": "display_data"
    }
   ],
   "source": [
    "df_midterm$id <- c(1, 2, 3, 4)\n",
    "df_midterm"
   ]
  },
  {
   "cell_type": "markdown",
   "metadata": {},
   "source": [
    "#### 4. 분석하기\n",
    "\n",
    "mean() 이용"
   ]
  },
  {
   "cell_type": "code",
   "execution_count": 9,
   "metadata": {},
   "outputs": [
    {
     "data": {
      "text/html": [
       "75"
      ],
      "text/latex": [
       "75"
      ],
      "text/markdown": [
       "75"
      ],
      "text/plain": [
       "[1] 75"
      ]
     },
     "metadata": {},
     "output_type": "display_data"
    }
   ],
   "source": [
    "mean(df_midterm$english)  # df_midterm의 english로 평균 산출"
   ]
  },
  {
   "cell_type": "code",
   "execution_count": 10,
   "metadata": {},
   "outputs": [
    {
     "data": {
      "text/html": [
       "57.5"
      ],
      "text/latex": [
       "57.5"
      ],
      "text/markdown": [
       "57.5"
      ],
      "text/plain": [
       "[1] 57.5"
      ]
     },
     "metadata": {},
     "output_type": "display_data"
    }
   ],
   "source": [
    "mean(df_midterm$math)  # df_midterm의 math로 평균 산술"
   ]
  },
  {
   "cell_type": "markdown",
   "metadata": {},
   "source": [
    "달러 기호($)는 데이터 프레임 안에 있는 변수를 지정할 때 사용한다."
   ]
  },
  {
   "cell_type": "markdown",
   "metadata": {},
   "source": [
    "#### 5. 데이터 프레임 한 번에 만들기\n",
    "\n",
    "data.frame()안에 변수와 값을 나열해서 한 번에 만드는 방법"
   ]
  },
  {
   "cell_type": "code",
   "execution_count": 12,
   "metadata": {},
   "outputs": [
    {
     "data": {
      "text/html": [
       "<table>\n",
       "<thead><tr><th scope=col>english</th><th scope=col>math</th><th scope=col>class</th></tr></thead>\n",
       "<tbody>\n",
       "\t<tr><td>90 </td><td> 50</td><td>1  </td></tr>\n",
       "\t<tr><td>80 </td><td> 60</td><td>1  </td></tr>\n",
       "\t<tr><td>60 </td><td>100</td><td>2  </td></tr>\n",
       "\t<tr><td>70 </td><td> 20</td><td>3  </td></tr>\n",
       "</tbody>\n",
       "</table>\n"
      ],
      "text/latex": [
       "\\begin{tabular}{r|lll}\n",
       " english & math & class\\\\\n",
       "\\hline\n",
       "\t 90  &  50 & 1  \\\\\n",
       "\t 80  &  60 & 1  \\\\\n",
       "\t 60  & 100 & 2  \\\\\n",
       "\t 70  &  20 & 3  \\\\\n",
       "\\end{tabular}\n"
      ],
      "text/markdown": [
       "\n",
       "| english | math | class |\n",
       "|---|---|---|\n",
       "| 90  |  50 | 1   |\n",
       "| 80  |  60 | 1   |\n",
       "| 60  | 100 | 2   |\n",
       "| 70  |  20 | 3   |\n",
       "\n"
      ],
      "text/plain": [
       "  english math class\n",
       "1 90       50  1    \n",
       "2 80       60  1    \n",
       "3 60      100  2    \n",
       "4 70       20  3    "
      ]
     },
     "metadata": {},
     "output_type": "display_data"
    }
   ],
   "source": [
    "df_midterm <- data.frame(english = c(90, 80, 60, 70),\n",
    "                        math = c(50, 60, 100, 20),\n",
    "                        class = c(1, 1, 2, 3))\n",
    "df_midterm"
   ]
  },
  {
   "cell_type": "markdown",
   "metadata": {},
   "source": [
    "#### ※ <- 사용하지 않고 = 을 사용한다."
   ]
  },
  {
   "cell_type": "markdown",
   "metadata": {},
   "source": [
    "## 04-3 외부 데이터 이용하기 - 축적된 시험 성적 데이터 불러오자!\n",
    "\n",
    "직접 데이터를 입력하기보다 외부에서 생성된 데이터를 불러와 분석하는 경우가 더 많다.\n",
    "\n",
    "데이터를 관리할 때 가장 많이 사용되는 엑셀 파일과 CSV 파일을 불러와 데이터 프레임을 만드는 방법을 익혀본다."
   ]
  },
  {
   "cell_type": "markdown",
   "metadata": {},
   "source": [
    "### 엑셀 파일 불러오기"
   ]
  },
  {
   "cell_type": "markdown",
   "metadata": {},
   "source": [
    "#### 1. 우선 깃허브(bit.ly/doit_ra)에서 실습에 사용할 excel_exam.xlsx 파일을 다운로드 한다.\n",
    "\n",
    "A~E열까지 총 5개의 변수로 구성되어 있다.\n",
    "\n",
    "변수는 학생의 id(번호), class(반), math(수학), english(영어), science(과학) 세 과목의 시험 점수 정보를 담고 있다.\n",
    "\n",
    "20명에 대한 자료"
   ]
  },
  {
   "cell_type": "markdown",
   "metadata": {},
   "source": [
    "#### 2. 프로젝트 폴데에 엑셀 파일 삽입하기\n",
    "\n",
    "현재 작업중인 프로젝트 폴더에 불러올 파일을 삽입한다."
   ]
  },
  {
   "cell_type": "markdown",
   "metadata": {},
   "source": [
    "#### 3. readxl 패키지 설치하고 로드하기\n",
    "\n",
    "readxl : 엑셀 파일을 불러오는 기능을 제공하는 패키지"
   ]
  },
  {
   "cell_type": "code",
   "execution_count": 13,
   "metadata": {},
   "outputs": [
    {
     "name": "stderr",
     "output_type": "stream",
     "text": [
      "Installing package into 'C:/Users/SOJINSOO/Documents/R/win-library/3.5'\n",
      "(as 'lib' is unspecified)\n"
     ]
    },
    {
     "name": "stdout",
     "output_type": "stream",
     "text": [
      "package 'readxl' successfully unpacked and MD5 sums checked\n",
      "\n",
      "The downloaded binary packages are in\n",
      "\tC:\\Users\\SOJINSOO\\AppData\\Local\\Temp\\RtmpqwWYJ0\\downloaded_packages\n"
     ]
    }
   ],
   "source": [
    "install.packages(\"readxl\")"
   ]
  },
  {
   "cell_type": "code",
   "execution_count": 14,
   "metadata": {},
   "outputs": [],
   "source": [
    "library(readxl)"
   ]
  },
  {
   "cell_type": "markdown",
   "metadata": {},
   "source": [
    "#### 4. 엑셀 파일 불러오기\n",
    "\n",
    "readxl 패키지에서 제공하는 read_excel()을 이용해 엑셀 파일을 불러온다.\n",
    "\n",
    "read_excel()은 엑셀 파일을 데이터 프레임으로 만드는 기능을 한다.\n",
    "\n",
    "괄호 안에 불러올 엑셀 파일명과 확장자까지 기입한다. \n",
    "\n",
    "R에서는 파일명을 지정할 때 항상 앞뒤에 따옴표를 넣는다."
   ]
  },
  {
   "cell_type": "code",
   "execution_count": 15,
   "metadata": {},
   "outputs": [
    {
     "data": {
      "text/html": [
       "<table>\n",
       "<thead><tr><th scope=col>id</th><th scope=col>class</th><th scope=col>math</th><th scope=col>english</th><th scope=col>science</th></tr></thead>\n",
       "<tbody>\n",
       "\t<tr><td> 1</td><td>1 </td><td>50</td><td>98</td><td>50</td></tr>\n",
       "\t<tr><td> 2</td><td>1 </td><td>60</td><td>97</td><td>60</td></tr>\n",
       "\t<tr><td> 3</td><td>1 </td><td>45</td><td>86</td><td>78</td></tr>\n",
       "\t<tr><td> 4</td><td>1 </td><td>30</td><td>98</td><td>58</td></tr>\n",
       "\t<tr><td> 5</td><td>2 </td><td>25</td><td>80</td><td>65</td></tr>\n",
       "\t<tr><td> 6</td><td>2 </td><td>50</td><td>89</td><td>98</td></tr>\n",
       "\t<tr><td> 7</td><td>2 </td><td>80</td><td>90</td><td>45</td></tr>\n",
       "\t<tr><td> 8</td><td>2 </td><td>90</td><td>78</td><td>25</td></tr>\n",
       "\t<tr><td> 9</td><td>3 </td><td>20</td><td>98</td><td>15</td></tr>\n",
       "\t<tr><td>10</td><td>3 </td><td>50</td><td>98</td><td>45</td></tr>\n",
       "\t<tr><td>11</td><td>3 </td><td>65</td><td>65</td><td>65</td></tr>\n",
       "\t<tr><td>12</td><td>3 </td><td>45</td><td>85</td><td>32</td></tr>\n",
       "\t<tr><td>13</td><td>4 </td><td>46</td><td>98</td><td>65</td></tr>\n",
       "\t<tr><td>14</td><td>4 </td><td>48</td><td>87</td><td>12</td></tr>\n",
       "\t<tr><td>15</td><td>4 </td><td>75</td><td>56</td><td>78</td></tr>\n",
       "\t<tr><td>16</td><td>4 </td><td>58</td><td>98</td><td>65</td></tr>\n",
       "\t<tr><td>17</td><td>5 </td><td>65</td><td>68</td><td>98</td></tr>\n",
       "\t<tr><td>18</td><td>5 </td><td>80</td><td>78</td><td>90</td></tr>\n",
       "\t<tr><td>19</td><td>5 </td><td>89</td><td>68</td><td>87</td></tr>\n",
       "\t<tr><td>20</td><td>5 </td><td>78</td><td>83</td><td>58</td></tr>\n",
       "</tbody>\n",
       "</table>\n"
      ],
      "text/latex": [
       "\\begin{tabular}{r|lllll}\n",
       " id & class & math & english & science\\\\\n",
       "\\hline\n",
       "\t  1 & 1  & 50 & 98 & 50\\\\\n",
       "\t  2 & 1  & 60 & 97 & 60\\\\\n",
       "\t  3 & 1  & 45 & 86 & 78\\\\\n",
       "\t  4 & 1  & 30 & 98 & 58\\\\\n",
       "\t  5 & 2  & 25 & 80 & 65\\\\\n",
       "\t  6 & 2  & 50 & 89 & 98\\\\\n",
       "\t  7 & 2  & 80 & 90 & 45\\\\\n",
       "\t  8 & 2  & 90 & 78 & 25\\\\\n",
       "\t  9 & 3  & 20 & 98 & 15\\\\\n",
       "\t 10 & 3  & 50 & 98 & 45\\\\\n",
       "\t 11 & 3  & 65 & 65 & 65\\\\\n",
       "\t 12 & 3  & 45 & 85 & 32\\\\\n",
       "\t 13 & 4  & 46 & 98 & 65\\\\\n",
       "\t 14 & 4  & 48 & 87 & 12\\\\\n",
       "\t 15 & 4  & 75 & 56 & 78\\\\\n",
       "\t 16 & 4  & 58 & 98 & 65\\\\\n",
       "\t 17 & 5  & 65 & 68 & 98\\\\\n",
       "\t 18 & 5  & 80 & 78 & 90\\\\\n",
       "\t 19 & 5  & 89 & 68 & 87\\\\\n",
       "\t 20 & 5  & 78 & 83 & 58\\\\\n",
       "\\end{tabular}\n"
      ],
      "text/markdown": [
       "\n",
       "| id | class | math | english | science |\n",
       "|---|---|---|---|---|\n",
       "|  1 | 1  | 50 | 98 | 50 |\n",
       "|  2 | 1  | 60 | 97 | 60 |\n",
       "|  3 | 1  | 45 | 86 | 78 |\n",
       "|  4 | 1  | 30 | 98 | 58 |\n",
       "|  5 | 2  | 25 | 80 | 65 |\n",
       "|  6 | 2  | 50 | 89 | 98 |\n",
       "|  7 | 2  | 80 | 90 | 45 |\n",
       "|  8 | 2  | 90 | 78 | 25 |\n",
       "|  9 | 3  | 20 | 98 | 15 |\n",
       "| 10 | 3  | 50 | 98 | 45 |\n",
       "| 11 | 3  | 65 | 65 | 65 |\n",
       "| 12 | 3  | 45 | 85 | 32 |\n",
       "| 13 | 4  | 46 | 98 | 65 |\n",
       "| 14 | 4  | 48 | 87 | 12 |\n",
       "| 15 | 4  | 75 | 56 | 78 |\n",
       "| 16 | 4  | 58 | 98 | 65 |\n",
       "| 17 | 5  | 65 | 68 | 98 |\n",
       "| 18 | 5  | 80 | 78 | 90 |\n",
       "| 19 | 5  | 89 | 68 | 87 |\n",
       "| 20 | 5  | 78 | 83 | 58 |\n",
       "\n"
      ],
      "text/plain": [
       "   id class math english science\n",
       "1   1 1     50   98      50     \n",
       "2   2 1     60   97      60     \n",
       "3   3 1     45   86      78     \n",
       "4   4 1     30   98      58     \n",
       "5   5 2     25   80      65     \n",
       "6   6 2     50   89      98     \n",
       "7   7 2     80   90      45     \n",
       "8   8 2     90   78      25     \n",
       "9   9 3     20   98      15     \n",
       "10 10 3     50   98      45     \n",
       "11 11 3     65   65      65     \n",
       "12 12 3     45   85      32     \n",
       "13 13 4     46   98      65     \n",
       "14 14 4     48   87      12     \n",
       "15 15 4     75   56      78     \n",
       "16 16 4     58   98      65     \n",
       "17 17 5     65   68      98     \n",
       "18 18 5     80   78      90     \n",
       "19 19 5     89   68      87     \n",
       "20 20 5     78   83      58     "
      ]
     },
     "metadata": {},
     "output_type": "display_data"
    }
   ],
   "source": [
    "df_exam <- read_excel(\"excel_exam.xlsx\")  # 엑셀 파일을 불러와 df_exam에 할당\n",
    "df_exam"
   ]
  },
  {
   "cell_type": "code",
   "execution_count": 18,
   "metadata": {},
   "outputs": [
    {
     "data": {
      "text/html": [
       "<table>\n",
       "<thead><tr><th scope=col>id</th><th scope=col>class</th><th scope=col>math</th><th scope=col>english</th><th scope=col>science</th></tr></thead>\n",
       "<tbody>\n",
       "\t<tr><td> 1</td><td>1 </td><td>50</td><td>98</td><td>50</td></tr>\n",
       "\t<tr><td> 2</td><td>1 </td><td>60</td><td>97</td><td>60</td></tr>\n",
       "\t<tr><td> 3</td><td>1 </td><td>45</td><td>86</td><td>78</td></tr>\n",
       "\t<tr><td> 4</td><td>1 </td><td>30</td><td>98</td><td>58</td></tr>\n",
       "\t<tr><td> 5</td><td>2 </td><td>25</td><td>80</td><td>65</td></tr>\n",
       "\t<tr><td> 6</td><td>2 </td><td>50</td><td>89</td><td>98</td></tr>\n",
       "\t<tr><td> 7</td><td>2 </td><td>80</td><td>90</td><td>45</td></tr>\n",
       "\t<tr><td> 8</td><td>2 </td><td>90</td><td>78</td><td>25</td></tr>\n",
       "\t<tr><td> 9</td><td>3 </td><td>20</td><td>98</td><td>15</td></tr>\n",
       "\t<tr><td>10</td><td>3 </td><td>50</td><td>98</td><td>45</td></tr>\n",
       "\t<tr><td>11</td><td>3 </td><td>65</td><td>65</td><td>65</td></tr>\n",
       "\t<tr><td>12</td><td>3 </td><td>45</td><td>85</td><td>32</td></tr>\n",
       "\t<tr><td>13</td><td>4 </td><td>46</td><td>98</td><td>65</td></tr>\n",
       "\t<tr><td>14</td><td>4 </td><td>48</td><td>87</td><td>12</td></tr>\n",
       "\t<tr><td>15</td><td>4 </td><td>75</td><td>56</td><td>78</td></tr>\n",
       "\t<tr><td>16</td><td>4 </td><td>58</td><td>98</td><td>65</td></tr>\n",
       "\t<tr><td>17</td><td>5 </td><td>65</td><td>68</td><td>98</td></tr>\n",
       "\t<tr><td>18</td><td>5 </td><td>80</td><td>78</td><td>90</td></tr>\n",
       "\t<tr><td>19</td><td>5 </td><td>89</td><td>68</td><td>87</td></tr>\n",
       "\t<tr><td>20</td><td>5 </td><td>78</td><td>83</td><td>58</td></tr>\n",
       "</tbody>\n",
       "</table>\n"
      ],
      "text/latex": [
       "\\begin{tabular}{r|lllll}\n",
       " id & class & math & english & science\\\\\n",
       "\\hline\n",
       "\t  1 & 1  & 50 & 98 & 50\\\\\n",
       "\t  2 & 1  & 60 & 97 & 60\\\\\n",
       "\t  3 & 1  & 45 & 86 & 78\\\\\n",
       "\t  4 & 1  & 30 & 98 & 58\\\\\n",
       "\t  5 & 2  & 25 & 80 & 65\\\\\n",
       "\t  6 & 2  & 50 & 89 & 98\\\\\n",
       "\t  7 & 2  & 80 & 90 & 45\\\\\n",
       "\t  8 & 2  & 90 & 78 & 25\\\\\n",
       "\t  9 & 3  & 20 & 98 & 15\\\\\n",
       "\t 10 & 3  & 50 & 98 & 45\\\\\n",
       "\t 11 & 3  & 65 & 65 & 65\\\\\n",
       "\t 12 & 3  & 45 & 85 & 32\\\\\n",
       "\t 13 & 4  & 46 & 98 & 65\\\\\n",
       "\t 14 & 4  & 48 & 87 & 12\\\\\n",
       "\t 15 & 4  & 75 & 56 & 78\\\\\n",
       "\t 16 & 4  & 58 & 98 & 65\\\\\n",
       "\t 17 & 5  & 65 & 68 & 98\\\\\n",
       "\t 18 & 5  & 80 & 78 & 90\\\\\n",
       "\t 19 & 5  & 89 & 68 & 87\\\\\n",
       "\t 20 & 5  & 78 & 83 & 58\\\\\n",
       "\\end{tabular}\n"
      ],
      "text/markdown": [
       "\n",
       "| id | class | math | english | science |\n",
       "|---|---|---|---|---|\n",
       "|  1 | 1  | 50 | 98 | 50 |\n",
       "|  2 | 1  | 60 | 97 | 60 |\n",
       "|  3 | 1  | 45 | 86 | 78 |\n",
       "|  4 | 1  | 30 | 98 | 58 |\n",
       "|  5 | 2  | 25 | 80 | 65 |\n",
       "|  6 | 2  | 50 | 89 | 98 |\n",
       "|  7 | 2  | 80 | 90 | 45 |\n",
       "|  8 | 2  | 90 | 78 | 25 |\n",
       "|  9 | 3  | 20 | 98 | 15 |\n",
       "| 10 | 3  | 50 | 98 | 45 |\n",
       "| 11 | 3  | 65 | 65 | 65 |\n",
       "| 12 | 3  | 45 | 85 | 32 |\n",
       "| 13 | 4  | 46 | 98 | 65 |\n",
       "| 14 | 4  | 48 | 87 | 12 |\n",
       "| 15 | 4  | 75 | 56 | 78 |\n",
       "| 16 | 4  | 58 | 98 | 65 |\n",
       "| 17 | 5  | 65 | 68 | 98 |\n",
       "| 18 | 5  | 80 | 78 | 90 |\n",
       "| 19 | 5  | 89 | 68 | 87 |\n",
       "| 20 | 5  | 78 | 83 | 58 |\n",
       "\n"
      ],
      "text/plain": [
       "   id class math english science\n",
       "1   1 1     50   98      50     \n",
       "2   2 1     60   97      60     \n",
       "3   3 1     45   86      78     \n",
       "4   4 1     30   98      58     \n",
       "5   5 2     25   80      65     \n",
       "6   6 2     50   89      98     \n",
       "7   7 2     80   90      45     \n",
       "8   8 2     90   78      25     \n",
       "9   9 3     20   98      15     \n",
       "10 10 3     50   98      45     \n",
       "11 11 3     65   65      65     \n",
       "12 12 3     45   85      32     \n",
       "13 13 4     46   98      65     \n",
       "14 14 4     48   87      12     \n",
       "15 15 4     75   56      78     \n",
       "16 16 4     58   98      65     \n",
       "17 17 5     65   68      98     \n",
       "18 18 5     80   78      90     \n",
       "19 19 5     89   68      87     \n",
       "20 20 5     78   83      58     "
      ]
     },
     "metadata": {},
     "output_type": "display_data"
    }
   ],
   "source": [
    "df_exam <- read_excel(\"c:/Users/SOJINSOO/excel_exam.xlsx\")\n",
    "df_exam"
   ]
  },
  {
   "cell_type": "markdown",
   "metadata": {},
   "source": [
    "#### 5. 분석하기\n",
    "\n",
    "mean()을 이용해 영어 점수와 과학 점수의 전체 평균을 구한다."
   ]
  },
  {
   "cell_type": "code",
   "execution_count": 19,
   "metadata": {},
   "outputs": [
    {
     "data": {
      "text/html": [
       "84.9"
      ],
      "text/latex": [
       "84.9"
      ],
      "text/markdown": [
       "84.9"
      ],
      "text/plain": [
       "[1] 84.9"
      ]
     },
     "metadata": {},
     "output_type": "display_data"
    }
   ],
   "source": [
    "mean(df_exam$english)"
   ]
  },
  {
   "cell_type": "code",
   "execution_count": 20,
   "metadata": {},
   "outputs": [
    {
     "data": {
      "text/html": [
       "59.45"
      ],
      "text/latex": [
       "59.45"
      ],
      "text/markdown": [
       "59.45"
      ],
      "text/plain": [
       "[1] 59.45"
      ]
     },
     "metadata": {},
     "output_type": "display_data"
    }
   ],
   "source": [
    "mean(df_exam$science)"
   ]
  },
  {
   "cell_type": "markdown",
   "metadata": {},
   "source": [
    "#### 엑셀 파일 첫 번쨰 행이 변수명이 아니라면\n",
    "\n",
    "read_excel()은 기본적으로 엑셀 파일의 첫 번째 행을 변수명으로 인식해 불러온다."
   ]
  },
  {
   "cell_type": "markdown",
   "metadata": {},
   "source": [
    "첫 행부터 데이터가 시작되는 엑셀 파일 불러온다."
   ]
  },
  {
   "cell_type": "code",
   "execution_count": 21,
   "metadata": {},
   "outputs": [
    {
     "name": "stderr",
     "output_type": "stream",
     "text": [
      "New names:\n",
      "* `1` -> `1..1`\n",
      "* `1` -> `1..2`\n",
      "* `50` -> `50..3`\n",
      "* `50` -> `50..5`\n"
     ]
    },
    {
     "data": {
      "text/html": [
       "<table>\n",
       "<thead><tr><th scope=col>1..1</th><th scope=col>1..2</th><th scope=col>50..3</th><th scope=col>98</th><th scope=col>50..5</th></tr></thead>\n",
       "<tbody>\n",
       "\t<tr><td>2 </td><td>1 </td><td>60</td><td>97</td><td>60</td></tr>\n",
       "\t<tr><td>3 </td><td>2 </td><td>25</td><td>80</td><td>65</td></tr>\n",
       "\t<tr><td>4 </td><td>2 </td><td>50</td><td>89</td><td>98</td></tr>\n",
       "\t<tr><td>5 </td><td>3 </td><td>20</td><td>98</td><td>15</td></tr>\n",
       "\t<tr><td>6 </td><td>3 </td><td>50</td><td>98</td><td>45</td></tr>\n",
       "\t<tr><td>7 </td><td>4 </td><td>46</td><td>98</td><td>65</td></tr>\n",
       "\t<tr><td>8 </td><td>4 </td><td>48</td><td>87</td><td>12</td></tr>\n",
       "</tbody>\n",
       "</table>\n"
      ],
      "text/latex": [
       "\\begin{tabular}{r|lllll}\n",
       " 1..1 & 1..2 & 50..3 & 98 & 50..5\\\\\n",
       "\\hline\n",
       "\t 2  & 1  & 60 & 97 & 60\\\\\n",
       "\t 3  & 2  & 25 & 80 & 65\\\\\n",
       "\t 4  & 2  & 50 & 89 & 98\\\\\n",
       "\t 5  & 3  & 20 & 98 & 15\\\\\n",
       "\t 6  & 3  & 50 & 98 & 45\\\\\n",
       "\t 7  & 4  & 46 & 98 & 65\\\\\n",
       "\t 8  & 4  & 48 & 87 & 12\\\\\n",
       "\\end{tabular}\n"
      ],
      "text/markdown": [
       "\n",
       "| 1..1 | 1..2 | 50..3 | 98 | 50..5 |\n",
       "|---|---|---|---|---|\n",
       "| 2  | 1  | 60 | 97 | 60 |\n",
       "| 3  | 2  | 25 | 80 | 65 |\n",
       "| 4  | 2  | 50 | 89 | 98 |\n",
       "| 5  | 3  | 20 | 98 | 15 |\n",
       "| 6  | 3  | 50 | 98 | 45 |\n",
       "| 7  | 4  | 46 | 98 | 65 |\n",
       "| 8  | 4  | 48 | 87 | 12 |\n",
       "\n"
      ],
      "text/plain": [
       "  1..1 1..2 50..3 98 50..5\n",
       "1 2    1    60    97 60   \n",
       "2 3    2    25    80 65   \n",
       "3 4    2    50    89 98   \n",
       "4 5    3    20    98 15   \n",
       "5 6    3    50    98 45   \n",
       "6 7    4    46    98 65   \n",
       "7 8    4    48    87 12   "
      ]
     },
     "metadata": {},
     "output_type": "display_data"
    }
   ],
   "source": [
    "df_exam_novar <- read_excel(\"excel_exam_novar.xlsx\")\n",
    "df_exam_novar"
   ]
  },
  {
   "cell_type": "markdown",
   "metadata": {},
   "source": [
    "col_names = F 파리미터 설정"
   ]
  },
  {
   "cell_type": "code",
   "execution_count": 23,
   "metadata": {},
   "outputs": [
    {
     "name": "stderr",
     "output_type": "stream",
     "text": [
      "New names:\n",
      "* `` -> `..1`\n",
      "* `` -> `..2`\n",
      "* `` -> `..3`\n",
      "* `` -> `..4`\n",
      "* `` -> `..5`\n"
     ]
    },
    {
     "data": {
      "text/html": [
       "<table>\n",
       "<thead><tr><th scope=col>..1</th><th scope=col>..2</th><th scope=col>..3</th><th scope=col>..4</th><th scope=col>..5</th></tr></thead>\n",
       "<tbody>\n",
       "\t<tr><td>1 </td><td>1 </td><td>50</td><td>98</td><td>50</td></tr>\n",
       "\t<tr><td>2 </td><td>1 </td><td>60</td><td>97</td><td>60</td></tr>\n",
       "\t<tr><td>3 </td><td>2 </td><td>25</td><td>80</td><td>65</td></tr>\n",
       "\t<tr><td>4 </td><td>2 </td><td>50</td><td>89</td><td>98</td></tr>\n",
       "\t<tr><td>5 </td><td>3 </td><td>20</td><td>98</td><td>15</td></tr>\n",
       "\t<tr><td>6 </td><td>3 </td><td>50</td><td>98</td><td>45</td></tr>\n",
       "\t<tr><td>7 </td><td>4 </td><td>46</td><td>98</td><td>65</td></tr>\n",
       "\t<tr><td>8 </td><td>4 </td><td>48</td><td>87</td><td>12</td></tr>\n",
       "</tbody>\n",
       "</table>\n"
      ],
      "text/latex": [
       "\\begin{tabular}{r|lllll}\n",
       " ..1 & ..2 & ..3 & ..4 & ..5\\\\\n",
       "\\hline\n",
       "\t 1  & 1  & 50 & 98 & 50\\\\\n",
       "\t 2  & 1  & 60 & 97 & 60\\\\\n",
       "\t 3  & 2  & 25 & 80 & 65\\\\\n",
       "\t 4  & 2  & 50 & 89 & 98\\\\\n",
       "\t 5  & 3  & 20 & 98 & 15\\\\\n",
       "\t 6  & 3  & 50 & 98 & 45\\\\\n",
       "\t 7  & 4  & 46 & 98 & 65\\\\\n",
       "\t 8  & 4  & 48 & 87 & 12\\\\\n",
       "\\end{tabular}\n"
      ],
      "text/markdown": [
       "\n",
       "| ..1 | ..2 | ..3 | ..4 | ..5 |\n",
       "|---|---|---|---|---|\n",
       "| 1  | 1  | 50 | 98 | 50 |\n",
       "| 2  | 1  | 60 | 97 | 60 |\n",
       "| 3  | 2  | 25 | 80 | 65 |\n",
       "| 4  | 2  | 50 | 89 | 98 |\n",
       "| 5  | 3  | 20 | 98 | 15 |\n",
       "| 6  | 3  | 50 | 98 | 45 |\n",
       "| 7  | 4  | 46 | 98 | 65 |\n",
       "| 8  | 4  | 48 | 87 | 12 |\n",
       "\n"
      ],
      "text/plain": [
       "  ..1 ..2 ..3 ..4 ..5\n",
       "1 1   1   50  98  50 \n",
       "2 2   1   60  97  60 \n",
       "3 3   2   25  80  65 \n",
       "4 4   2   50  89  98 \n",
       "5 5   3   20  98  15 \n",
       "6 6   3   50  98  45 \n",
       "7 7   4   46  98  65 \n",
       "8 8   4   48  87  12 "
      ]
     },
     "metadata": {},
     "output_type": "display_data"
    }
   ],
   "source": [
    "df_exam_novar <- read_excel(\"excel_exam_novar.xlsx\", col_names = F)\n",
    "df_exam_novar"
   ]
  },
  {
   "cell_type": "markdown",
   "metadata": {},
   "source": [
    "'열 이름(Column Name)을 가져올 것인가?' 라는 질문에 '그렇지 않다'라는 답\n",
    "\n",
    "논리형 벡터는 반드시 대문자 TRUE 또는 FALSE로 입력해야 한다. 앞글자만 따서 T 또는 F를 입력해도 된다."
   ]
  },
  {
   "cell_type": "markdown",
   "metadata": {},
   "source": [
    "#### 엑셀 파일에 시트가 여러 개 있다면?\n",
    "\n",
    "여러 개의 시트로 구성된 엑셀 파일을 불러올 경우 sheet 파라미터를 이용해 몇 번째 시트의 데이터를 불러올지 지정한다."
   ]
  },
  {
   "cell_type": "code",
   "execution_count": 25,
   "metadata": {},
   "outputs": [
    {
     "data": {
      "text/html": [
       "<table>\n",
       "<thead><tr><th scope=col>id</th><th scope=col>class</th><th scope=col>math</th><th scope=col>english</th><th scope=col>science</th></tr></thead>\n",
       "<tbody>\n",
       "\t<tr><td>1 </td><td>1 </td><td>50</td><td>98</td><td>50</td></tr>\n",
       "\t<tr><td>2 </td><td>1 </td><td>60</td><td>97</td><td>60</td></tr>\n",
       "\t<tr><td>3 </td><td>2 </td><td>25</td><td>80</td><td>65</td></tr>\n",
       "\t<tr><td>4 </td><td>2 </td><td>50</td><td>89</td><td>98</td></tr>\n",
       "\t<tr><td>5 </td><td>3 </td><td>20</td><td>98</td><td>15</td></tr>\n",
       "\t<tr><td>6 </td><td>3 </td><td>50</td><td>98</td><td>45</td></tr>\n",
       "\t<tr><td>7 </td><td>4 </td><td>46</td><td>98</td><td>65</td></tr>\n",
       "\t<tr><td>8 </td><td>4 </td><td>48</td><td>87</td><td>12</td></tr>\n",
       "</tbody>\n",
       "</table>\n"
      ],
      "text/latex": [
       "\\begin{tabular}{r|lllll}\n",
       " id & class & math & english & science\\\\\n",
       "\\hline\n",
       "\t 1  & 1  & 50 & 98 & 50\\\\\n",
       "\t 2  & 1  & 60 & 97 & 60\\\\\n",
       "\t 3  & 2  & 25 & 80 & 65\\\\\n",
       "\t 4  & 2  & 50 & 89 & 98\\\\\n",
       "\t 5  & 3  & 20 & 98 & 15\\\\\n",
       "\t 6  & 3  & 50 & 98 & 45\\\\\n",
       "\t 7  & 4  & 46 & 98 & 65\\\\\n",
       "\t 8  & 4  & 48 & 87 & 12\\\\\n",
       "\\end{tabular}\n"
      ],
      "text/markdown": [
       "\n",
       "| id | class | math | english | science |\n",
       "|---|---|---|---|---|\n",
       "| 1  | 1  | 50 | 98 | 50 |\n",
       "| 2  | 1  | 60 | 97 | 60 |\n",
       "| 3  | 2  | 25 | 80 | 65 |\n",
       "| 4  | 2  | 50 | 89 | 98 |\n",
       "| 5  | 3  | 20 | 98 | 15 |\n",
       "| 6  | 3  | 50 | 98 | 45 |\n",
       "| 7  | 4  | 46 | 98 | 65 |\n",
       "| 8  | 4  | 48 | 87 | 12 |\n",
       "\n"
      ],
      "text/plain": [
       "  id class math english science\n",
       "1 1  1     50   98      50     \n",
       "2 2  1     60   97      60     \n",
       "3 3  2     25   80      65     \n",
       "4 4  2     50   89      98     \n",
       "5 5  3     20   98      15     \n",
       "6 6  3     50   98      45     \n",
       "7 7  4     46   98      65     \n",
       "8 8  4     48   87      12     "
      ]
     },
     "metadata": {},
     "output_type": "display_data"
    }
   ],
   "source": [
    "# 엑셀 파일의 세 번째 시트에 있는 데이터 불러오기\n",
    "df_exam_sheet <- read_excel(\"excel_exam_sheet.xlsx\", sheet = 3)\n",
    "df_exam_sheet"
   ]
  },
  {
   "cell_type": "markdown",
   "metadata": {},
   "source": [
    "### CSV 파일 불러오기\n",
    "\n",
    "CSV 파일은 엑셀뿐 아니라 SAS, SPSS 등 데이터를 다루는 대부분의 프로그램에서 읽고 쓰기가 가능한 범용 데이터 파일이다.\n",
    "\n",
    "CSV(Comma Separate Values)는 값들이 쉼표로 구분되어 있는 형태\n",
    "\n",
    "엑셀 파일에 비해 용량이 작기 때문에 데이터를 주고받을 때 더 자주 이용한다."
   ]
  },
  {
   "cell_type": "markdown",
   "metadata": {},
   "source": [
    "#### 1. 프로젝트 폴더에 CSV 파일 삽입하기"
   ]
  },
  {
   "cell_type": "markdown",
   "metadata": {},
   "source": [
    "#### 2. CSV 파일 불러오기\n",
    "\n",
    "read.csv() : 내장 함수\n",
    "\n",
    "괄호 안에는 불러올 파일명을 지정하는 형태로 사용한다.\n",
    "\n",
    "첫 번째 행에 변수명이 없는 CSV 파일을 불러올 떄는 header = F 파라미터를 지정한다.\n",
    "\n",
    "read_excel()의 col_names = F 와 기능은 동일하지만 파라미터 이름이 다르므르 주의해야 한다."
   ]
  },
  {
   "cell_type": "code",
   "execution_count": 27,
   "metadata": {},
   "outputs": [
    {
     "data": {
      "text/html": [
       "<table>\n",
       "<thead><tr><th scope=col>id</th><th scope=col>class</th><th scope=col>math</th><th scope=col>english</th><th scope=col>science</th></tr></thead>\n",
       "<tbody>\n",
       "\t<tr><td> 1</td><td>1 </td><td>50</td><td>98</td><td>50</td></tr>\n",
       "\t<tr><td> 2</td><td>1 </td><td>60</td><td>97</td><td>60</td></tr>\n",
       "\t<tr><td> 3</td><td>1 </td><td>45</td><td>86</td><td>78</td></tr>\n",
       "\t<tr><td> 4</td><td>1 </td><td>30</td><td>98</td><td>58</td></tr>\n",
       "\t<tr><td> 5</td><td>2 </td><td>25</td><td>80</td><td>65</td></tr>\n",
       "\t<tr><td> 6</td><td>2 </td><td>50</td><td>89</td><td>98</td></tr>\n",
       "\t<tr><td> 7</td><td>2 </td><td>80</td><td>90</td><td>45</td></tr>\n",
       "\t<tr><td> 8</td><td>2 </td><td>90</td><td>78</td><td>25</td></tr>\n",
       "\t<tr><td> 9</td><td>3 </td><td>20</td><td>98</td><td>15</td></tr>\n",
       "\t<tr><td>10</td><td>3 </td><td>50</td><td>98</td><td>45</td></tr>\n",
       "\t<tr><td>11</td><td>3 </td><td>65</td><td>65</td><td>65</td></tr>\n",
       "\t<tr><td>12</td><td>3 </td><td>45</td><td>85</td><td>32</td></tr>\n",
       "\t<tr><td>13</td><td>4 </td><td>46</td><td>98</td><td>65</td></tr>\n",
       "\t<tr><td>14</td><td>4 </td><td>48</td><td>87</td><td>12</td></tr>\n",
       "\t<tr><td>15</td><td>4 </td><td>75</td><td>56</td><td>78</td></tr>\n",
       "\t<tr><td>16</td><td>4 </td><td>58</td><td>98</td><td>65</td></tr>\n",
       "\t<tr><td>17</td><td>5 </td><td>65</td><td>68</td><td>98</td></tr>\n",
       "\t<tr><td>18</td><td>5 </td><td>80</td><td>78</td><td>90</td></tr>\n",
       "\t<tr><td>19</td><td>5 </td><td>89</td><td>68</td><td>87</td></tr>\n",
       "\t<tr><td>20</td><td>5 </td><td>78</td><td>83</td><td>58</td></tr>\n",
       "</tbody>\n",
       "</table>\n"
      ],
      "text/latex": [
       "\\begin{tabular}{r|lllll}\n",
       " id & class & math & english & science\\\\\n",
       "\\hline\n",
       "\t  1 & 1  & 50 & 98 & 50\\\\\n",
       "\t  2 & 1  & 60 & 97 & 60\\\\\n",
       "\t  3 & 1  & 45 & 86 & 78\\\\\n",
       "\t  4 & 1  & 30 & 98 & 58\\\\\n",
       "\t  5 & 2  & 25 & 80 & 65\\\\\n",
       "\t  6 & 2  & 50 & 89 & 98\\\\\n",
       "\t  7 & 2  & 80 & 90 & 45\\\\\n",
       "\t  8 & 2  & 90 & 78 & 25\\\\\n",
       "\t  9 & 3  & 20 & 98 & 15\\\\\n",
       "\t 10 & 3  & 50 & 98 & 45\\\\\n",
       "\t 11 & 3  & 65 & 65 & 65\\\\\n",
       "\t 12 & 3  & 45 & 85 & 32\\\\\n",
       "\t 13 & 4  & 46 & 98 & 65\\\\\n",
       "\t 14 & 4  & 48 & 87 & 12\\\\\n",
       "\t 15 & 4  & 75 & 56 & 78\\\\\n",
       "\t 16 & 4  & 58 & 98 & 65\\\\\n",
       "\t 17 & 5  & 65 & 68 & 98\\\\\n",
       "\t 18 & 5  & 80 & 78 & 90\\\\\n",
       "\t 19 & 5  & 89 & 68 & 87\\\\\n",
       "\t 20 & 5  & 78 & 83 & 58\\\\\n",
       "\\end{tabular}\n"
      ],
      "text/markdown": [
       "\n",
       "| id | class | math | english | science |\n",
       "|---|---|---|---|---|\n",
       "|  1 | 1  | 50 | 98 | 50 |\n",
       "|  2 | 1  | 60 | 97 | 60 |\n",
       "|  3 | 1  | 45 | 86 | 78 |\n",
       "|  4 | 1  | 30 | 98 | 58 |\n",
       "|  5 | 2  | 25 | 80 | 65 |\n",
       "|  6 | 2  | 50 | 89 | 98 |\n",
       "|  7 | 2  | 80 | 90 | 45 |\n",
       "|  8 | 2  | 90 | 78 | 25 |\n",
       "|  9 | 3  | 20 | 98 | 15 |\n",
       "| 10 | 3  | 50 | 98 | 45 |\n",
       "| 11 | 3  | 65 | 65 | 65 |\n",
       "| 12 | 3  | 45 | 85 | 32 |\n",
       "| 13 | 4  | 46 | 98 | 65 |\n",
       "| 14 | 4  | 48 | 87 | 12 |\n",
       "| 15 | 4  | 75 | 56 | 78 |\n",
       "| 16 | 4  | 58 | 98 | 65 |\n",
       "| 17 | 5  | 65 | 68 | 98 |\n",
       "| 18 | 5  | 80 | 78 | 90 |\n",
       "| 19 | 5  | 89 | 68 | 87 |\n",
       "| 20 | 5  | 78 | 83 | 58 |\n",
       "\n"
      ],
      "text/plain": [
       "   id class math english science\n",
       "1   1 1     50   98      50     \n",
       "2   2 1     60   97      60     \n",
       "3   3 1     45   86      78     \n",
       "4   4 1     30   98      58     \n",
       "5   5 2     25   80      65     \n",
       "6   6 2     50   89      98     \n",
       "7   7 2     80   90      45     \n",
       "8   8 2     90   78      25     \n",
       "9   9 3     20   98      15     \n",
       "10 10 3     50   98      45     \n",
       "11 11 3     65   65      65     \n",
       "12 12 3     45   85      32     \n",
       "13 13 4     46   98      65     \n",
       "14 14 4     48   87      12     \n",
       "15 15 4     75   56      78     \n",
       "16 16 4     58   98      65     \n",
       "17 17 5     65   68      98     \n",
       "18 18 5     80   78      90     \n",
       "19 19 5     89   68      87     \n",
       "20 20 5     78   83      58     "
      ]
     },
     "metadata": {},
     "output_type": "display_data"
    }
   ],
   "source": [
    "df_csv_exam <- read.csv(\"csv_exam.csv\")\n",
    "df_csv_exam"
   ]
  },
  {
   "cell_type": "markdown",
   "metadata": {},
   "source": [
    "#### 문자가 들어 있는 파일을 불러올 떄는 stringsAsFactors = F\n",
    "\n",
    "문자가 들어 있는 CSV 파일을 불러올 떄는 stringAsFactors = F로 설정\n",
    "\n",
    "그래야만 변수를 factor타입이 아닌 문자 타입으로 불러오기 때문에 오류가 발생하지 않는다."
   ]
  },
  {
   "cell_type": "code",
   "execution_count": 29,
   "metadata": {},
   "outputs": [
    {
     "data": {
      "text/html": [
       "<table>\n",
       "<thead><tr><th scope=col>id</th><th scope=col>class</th><th scope=col>math</th><th scope=col>english</th><th scope=col>science</th></tr></thead>\n",
       "<tbody>\n",
       "\t<tr><td> 1</td><td>1 </td><td>50</td><td>98</td><td>50</td></tr>\n",
       "\t<tr><td> 2</td><td>1 </td><td>60</td><td>97</td><td>60</td></tr>\n",
       "\t<tr><td> 3</td><td>1 </td><td>45</td><td>86</td><td>78</td></tr>\n",
       "\t<tr><td> 4</td><td>1 </td><td>30</td><td>98</td><td>58</td></tr>\n",
       "\t<tr><td> 5</td><td>2 </td><td>25</td><td>80</td><td>65</td></tr>\n",
       "\t<tr><td> 6</td><td>2 </td><td>50</td><td>89</td><td>98</td></tr>\n",
       "\t<tr><td> 7</td><td>2 </td><td>80</td><td>90</td><td>45</td></tr>\n",
       "\t<tr><td> 8</td><td>2 </td><td>90</td><td>78</td><td>25</td></tr>\n",
       "\t<tr><td> 9</td><td>3 </td><td>20</td><td>98</td><td>15</td></tr>\n",
       "\t<tr><td>10</td><td>3 </td><td>50</td><td>98</td><td>45</td></tr>\n",
       "\t<tr><td>11</td><td>3 </td><td>65</td><td>65</td><td>65</td></tr>\n",
       "\t<tr><td>12</td><td>3 </td><td>45</td><td>85</td><td>32</td></tr>\n",
       "\t<tr><td>13</td><td>4 </td><td>46</td><td>98</td><td>65</td></tr>\n",
       "\t<tr><td>14</td><td>4 </td><td>48</td><td>87</td><td>12</td></tr>\n",
       "\t<tr><td>15</td><td>4 </td><td>75</td><td>56</td><td>78</td></tr>\n",
       "\t<tr><td>16</td><td>4 </td><td>58</td><td>98</td><td>65</td></tr>\n",
       "\t<tr><td>17</td><td>5 </td><td>65</td><td>68</td><td>98</td></tr>\n",
       "\t<tr><td>18</td><td>5 </td><td>80</td><td>78</td><td>90</td></tr>\n",
       "\t<tr><td>19</td><td>5 </td><td>89</td><td>68</td><td>87</td></tr>\n",
       "\t<tr><td>20</td><td>5 </td><td>78</td><td>83</td><td>58</td></tr>\n",
       "</tbody>\n",
       "</table>\n"
      ],
      "text/latex": [
       "\\begin{tabular}{r|lllll}\n",
       " id & class & math & english & science\\\\\n",
       "\\hline\n",
       "\t  1 & 1  & 50 & 98 & 50\\\\\n",
       "\t  2 & 1  & 60 & 97 & 60\\\\\n",
       "\t  3 & 1  & 45 & 86 & 78\\\\\n",
       "\t  4 & 1  & 30 & 98 & 58\\\\\n",
       "\t  5 & 2  & 25 & 80 & 65\\\\\n",
       "\t  6 & 2  & 50 & 89 & 98\\\\\n",
       "\t  7 & 2  & 80 & 90 & 45\\\\\n",
       "\t  8 & 2  & 90 & 78 & 25\\\\\n",
       "\t  9 & 3  & 20 & 98 & 15\\\\\n",
       "\t 10 & 3  & 50 & 98 & 45\\\\\n",
       "\t 11 & 3  & 65 & 65 & 65\\\\\n",
       "\t 12 & 3  & 45 & 85 & 32\\\\\n",
       "\t 13 & 4  & 46 & 98 & 65\\\\\n",
       "\t 14 & 4  & 48 & 87 & 12\\\\\n",
       "\t 15 & 4  & 75 & 56 & 78\\\\\n",
       "\t 16 & 4  & 58 & 98 & 65\\\\\n",
       "\t 17 & 5  & 65 & 68 & 98\\\\\n",
       "\t 18 & 5  & 80 & 78 & 90\\\\\n",
       "\t 19 & 5  & 89 & 68 & 87\\\\\n",
       "\t 20 & 5  & 78 & 83 & 58\\\\\n",
       "\\end{tabular}\n"
      ],
      "text/markdown": [
       "\n",
       "| id | class | math | english | science |\n",
       "|---|---|---|---|---|\n",
       "|  1 | 1  | 50 | 98 | 50 |\n",
       "|  2 | 1  | 60 | 97 | 60 |\n",
       "|  3 | 1  | 45 | 86 | 78 |\n",
       "|  4 | 1  | 30 | 98 | 58 |\n",
       "|  5 | 2  | 25 | 80 | 65 |\n",
       "|  6 | 2  | 50 | 89 | 98 |\n",
       "|  7 | 2  | 80 | 90 | 45 |\n",
       "|  8 | 2  | 90 | 78 | 25 |\n",
       "|  9 | 3  | 20 | 98 | 15 |\n",
       "| 10 | 3  | 50 | 98 | 45 |\n",
       "| 11 | 3  | 65 | 65 | 65 |\n",
       "| 12 | 3  | 45 | 85 | 32 |\n",
       "| 13 | 4  | 46 | 98 | 65 |\n",
       "| 14 | 4  | 48 | 87 | 12 |\n",
       "| 15 | 4  | 75 | 56 | 78 |\n",
       "| 16 | 4  | 58 | 98 | 65 |\n",
       "| 17 | 5  | 65 | 68 | 98 |\n",
       "| 18 | 5  | 80 | 78 | 90 |\n",
       "| 19 | 5  | 89 | 68 | 87 |\n",
       "| 20 | 5  | 78 | 83 | 58 |\n",
       "\n"
      ],
      "text/plain": [
       "   id class math english science\n",
       "1   1 1     50   98      50     \n",
       "2   2 1     60   97      60     \n",
       "3   3 1     45   86      78     \n",
       "4   4 1     30   98      58     \n",
       "5   5 2     25   80      65     \n",
       "6   6 2     50   89      98     \n",
       "7   7 2     80   90      45     \n",
       "8   8 2     90   78      25     \n",
       "9   9 3     20   98      15     \n",
       "10 10 3     50   98      45     \n",
       "11 11 3     65   65      65     \n",
       "12 12 3     45   85      32     \n",
       "13 13 4     46   98      65     \n",
       "14 14 4     48   87      12     \n",
       "15 15 4     75   56      78     \n",
       "16 16 4     58   98      65     \n",
       "17 17 5     65   68      98     \n",
       "18 18 5     80   78      90     \n",
       "19 19 5     89   68      87     \n",
       "20 20 5     78   83      58     "
      ]
     },
     "metadata": {},
     "output_type": "display_data"
    }
   ],
   "source": [
    "df_csv_exam <- read.csv(\"csv_exam.csv\", stringsAsFactor = F)"
   ]
  },
  {
   "cell_type": "markdown",
   "metadata": {},
   "source": [
    "### 데이터 프레임을 CSV 파일로 저장하기"
   ]
  },
  {
   "cell_type": "markdown",
   "metadata": {},
   "source": [
    "#### 1. 데이터 프레임 만들기"
   ]
  },
  {
   "cell_type": "code",
   "execution_count": 31,
   "metadata": {},
   "outputs": [
    {
     "data": {
      "text/html": [
       "<table>\n",
       "<thead><tr><th scope=col>english</th><th scope=col>math</th><th scope=col>class</th></tr></thead>\n",
       "<tbody>\n",
       "\t<tr><td>90 </td><td> 50</td><td>1  </td></tr>\n",
       "\t<tr><td>80 </td><td> 60</td><td>1  </td></tr>\n",
       "\t<tr><td>60 </td><td>100</td><td>2  </td></tr>\n",
       "\t<tr><td>70 </td><td> 20</td><td>2  </td></tr>\n",
       "</tbody>\n",
       "</table>\n"
      ],
      "text/latex": [
       "\\begin{tabular}{r|lll}\n",
       " english & math & class\\\\\n",
       "\\hline\n",
       "\t 90  &  50 & 1  \\\\\n",
       "\t 80  &  60 & 1  \\\\\n",
       "\t 60  & 100 & 2  \\\\\n",
       "\t 70  &  20 & 2  \\\\\n",
       "\\end{tabular}\n"
      ],
      "text/markdown": [
       "\n",
       "| english | math | class |\n",
       "|---|---|---|\n",
       "| 90  |  50 | 1   |\n",
       "| 80  |  60 | 1   |\n",
       "| 60  | 100 | 2   |\n",
       "| 70  |  20 | 2   |\n",
       "\n"
      ],
      "text/plain": [
       "  english math class\n",
       "1 90       50  1    \n",
       "2 80       60  1    \n",
       "3 60      100  2    \n",
       "4 70       20  2    "
      ]
     },
     "metadata": {},
     "output_type": "display_data"
    }
   ],
   "source": [
    "df_midterm <- data.frame(english = c(90, 80, 60, 70),\n",
    "                        math = c(50, 60, 100, 20),\n",
    "                        class = c(1, 1, 2, 2))\n",
    "df_midterm"
   ]
  },
  {
   "cell_type": "markdown",
   "metadata": {},
   "source": [
    "#### 2. CSV 파일로 저장하기\n",
    "\n",
    "write.csv() : 내장함수, 데이터 프레임을 CSV 파일로 저장한다. \n",
    "\n",
    "괄호 안에 저장할 데이터 프레임 명을 지정하고, file 파라미터에 파일명을 지정한다. 저장한 파일은 프로젝트 폴더에 생성된다."
   ]
  },
  {
   "cell_type": "code",
   "execution_count": 32,
   "metadata": {},
   "outputs": [],
   "source": [
    "write.csv(df_midterm, file = \"df_midterm.csv\")"
   ]
  },
  {
   "cell_type": "markdown",
   "metadata": {},
   "source": [
    "### RData 파일 활용하기\n",
    "\n",
    "RData(.rda 또는 .rdata)는 R 전용 데이터 파일이다.\n",
    "\n",
    "R 전용 파일이므로 다른 파이를에 비해 R에서 읽고 쓰는 속도가 빠르고 용량이 작다는 장점이 있다.\n",
    "\n",
    "일반적으로 R에서 분석 작업을 할 때는 RData 파일을 이용하고, R을 사용하지 않는 사람과 파일을 주고 받을 때는 CSV 파일을 이용한다."
   ]
  },
  {
   "cell_type": "markdown",
   "metadata": {},
   "source": [
    "#### 1. 데이터 프레임을 RData 파일로 저장하기\n",
    "\n",
    "save() : 데이터 프레임을 .rda 파일로 저장한다.\n",
    "\n",
    "write.csv()와 마찬가지로 괄호 안에 데이터 프레임명과 저장할 파일명을 지정한다."
   ]
  },
  {
   "cell_type": "code",
   "execution_count": 37,
   "metadata": {},
   "outputs": [],
   "source": [
    "save(df_midterm, file = \"df_midterm.rda\")"
   ]
  },
  {
   "cell_type": "markdown",
   "metadata": {},
   "source": [
    "#### 2. RData 파일 불러오기\n",
    "\n",
    "rda 파일을 불러올 때는 load()를 이용한다.\n",
    "\n",
    "rda 파일을 불러오기 전에 df_midterm을 삭제한다. rm()을 이용하면 데이터를 삭제할 수 있다."
   ]
  },
  {
   "cell_type": "code",
   "execution_count": 35,
   "metadata": {},
   "outputs": [
    {
     "name": "stderr",
     "output_type": "stream",
     "text": [
      "Warning message in rm(df_midterm):\n",
      "\"객체 'df_midterm'를 찾을 수 없습니다\""
     ]
    },
    {
     "ename": "ERROR",
     "evalue": "Error in eval(expr, envir, enclos): 객체 'df_midterm'를 찾을 수 없습니다\n",
     "output_type": "error",
     "traceback": [
      "Error in eval(expr, envir, enclos): 객체 'df_midterm'를 찾을 수 없습니다\nTraceback:\n"
     ]
    }
   ],
   "source": [
    "rm(df_midterm)\n",
    "\n",
    "df_midterm"
   ]
  },
  {
   "cell_type": "code",
   "execution_count": 41,
   "metadata": {},
   "outputs": [
    {
     "data": {
      "text/html": [
       "<table>\n",
       "<thead><tr><th scope=col>english</th><th scope=col>math</th><th scope=col>class</th></tr></thead>\n",
       "<tbody>\n",
       "\t<tr><td>90 </td><td> 50</td><td>1  </td></tr>\n",
       "\t<tr><td>80 </td><td> 60</td><td>1  </td></tr>\n",
       "\t<tr><td>60 </td><td>100</td><td>2  </td></tr>\n",
       "\t<tr><td>70 </td><td> 20</td><td>2  </td></tr>\n",
       "</tbody>\n",
       "</table>\n"
      ],
      "text/latex": [
       "\\begin{tabular}{r|lll}\n",
       " english & math & class\\\\\n",
       "\\hline\n",
       "\t 90  &  50 & 1  \\\\\n",
       "\t 80  &  60 & 1  \\\\\n",
       "\t 60  & 100 & 2  \\\\\n",
       "\t 70  &  20 & 2  \\\\\n",
       "\\end{tabular}\n"
      ],
      "text/markdown": [
       "\n",
       "| english | math | class |\n",
       "|---|---|---|\n",
       "| 90  |  50 | 1   |\n",
       "| 80  |  60 | 1   |\n",
       "| 60  | 100 | 2   |\n",
       "| 70  |  20 | 2   |\n",
       "\n"
      ],
      "text/plain": [
       "  english math class\n",
       "1 90       50  1    \n",
       "2 80       60  1    \n",
       "3 60      100  2    \n",
       "4 70       20  2    "
      ]
     },
     "metadata": {},
     "output_type": "display_data"
    }
   ],
   "source": [
    "load(\"df_midterm.rda\")\n",
    "\n",
    "df_midterm"
   ]
  },
  {
   "cell_type": "markdown",
   "metadata": {},
   "source": [
    "read.csv()나 read_excel()은 파일을 불러와 새 변수에 할당해야 활용할 수 있다.\n",
    "\n",
    "반면, load()로 rda 파일을 불러오면 저장할 때 사용한 데이터 프레임이 자동으로 만들어지기 때문에 새 변수에 할당하지 않는다."
   ]
  },
  {
   "cell_type": "code",
   "execution_count": 42,
   "metadata": {},
   "outputs": [],
   "source": [
    "# 엑셀 파일 불러와 df_exam에 할당하기\n",
    "df_exam <- read_excel(\"excel_exam.xlsx\")"
   ]
  },
  {
   "cell_type": "code",
   "execution_count": 43,
   "metadata": {},
   "outputs": [],
   "source": [
    "# csv 파일 불러와 df_csv_exam에 할당하기\n",
    "df_csv_exam <- read.csv(\"csv_exam.csv\")"
   ]
  },
  {
   "cell_type": "code",
   "execution_count": 44,
   "metadata": {},
   "outputs": [],
   "source": [
    "# Rda 파일 불러오기\n",
    "load(\"df_midterm.rda\")"
   ]
  },
  {
   "cell_type": "code",
   "execution_count": 50,
   "metadata": {},
   "outputs": [
    {
     "data": {
      "text/html": [
       "'df_midterm'"
      ],
      "text/latex": [
       "'df\\_midterm'"
      ],
      "text/markdown": [
       "'df_midterm'"
      ],
      "text/plain": [
       "[1] \"df_midterm\""
      ]
     },
     "metadata": {},
     "output_type": "display_data"
    }
   ],
   "source": [
    "df_midterm2 <- load(\"df_midterm.rda\")\n",
    "df_midterm2"
   ]
  }
 ],
 "metadata": {
  "kernelspec": {
   "display_name": "R",
   "language": "R",
   "name": "ir"
  },
  "language_info": {
   "codemirror_mode": "r",
   "file_extension": ".r",
   "mimetype": "text/x-r-source",
   "name": "R",
   "pygments_lexer": "r",
   "version": "3.5.2"
  }
 },
 "nbformat": 4,
 "nbformat_minor": 2
}
