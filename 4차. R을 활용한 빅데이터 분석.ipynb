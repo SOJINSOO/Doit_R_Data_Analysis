{
 "cells": [
  {
   "cell_type": "markdown",
   "metadata": {},
   "source": [
    "## 06-1 데이터 전처리 - 원하는 형태로 데이터 가공하기\n",
    "\n",
    "분석에 적합하게 데이터를 가공하는 작업을 '데이터 전처리(Data Preprocessing)'라고 합니다.\n",
    "\n",
    "일부를 추출하거나, 종류별로 나누거나, 여러 데이터를 합치는 등 데이터를 자유롭게 가공할 수 있어야 목적에 맞게 분석할 수 있다."
   ]
  },
  {
   "cell_type": "markdown",
   "metadata": {},
   "source": [
    "dplyr은 데이터 전처리 작업에 가장 많이 사용되는 패키지 입니다. dplyr 함수를 이용해 데이터를 가공하는 방법을 알아본다.\n",
    "\n",
    "- filter() : 행 추출\n",
    "- select() : 열(변수) 추출\n",
    "- arrange() : 정렬\n",
    "- mutate() : 변수 추가\n",
    "- summarise() : 통계치 산출\n",
    "- group_by() : 집단별로 나누기\n",
    "- left_join() : 데이터 합치기(열)\n",
    "- bind_rows() : 데이터 합치기(행)"
   ]
  },
  {
   "cell_type": "markdown",
   "metadata": {},
   "source": [
    "## 06-2 조건에 맞는 데이터만 추출하기\n",
    "\n",
    "데이터를 분석할 때 전체 데이터를 분석하기도 하지만 일부를 추출해 분석하기도 한다.\n",
    "\n",
    "dplyr 패키지의 filter()를 이용하면 원하는 데이터를 추출할 수 있다."
   ]
  },
  {
   "cell_type": "markdown",
   "metadata": {},
   "source": [
    "### 조건에 맞는 데이터만 추출하기"
   ]
  },
  {
   "cell_type": "markdown",
   "metadata": {},
   "source": [
    "#### 1. dplyr 패키지를 로드한 후 실습에 사용할 csv_exam.csv 파일을 데이터 프레임으로 만들어 출력한다."
   ]
  },
  {
   "cell_type": "code",
   "execution_count": 3,
   "metadata": {},
   "outputs": [
    {
     "data": {
      "text/html": [
       "<table>\n",
       "<thead><tr><th scope=col>id</th><th scope=col>class</th><th scope=col>math</th><th scope=col>english</th><th scope=col>science</th></tr></thead>\n",
       "<tbody>\n",
       "\t<tr><td> 1</td><td>1 </td><td>50</td><td>98</td><td>50</td></tr>\n",
       "\t<tr><td> 2</td><td>1 </td><td>60</td><td>97</td><td>60</td></tr>\n",
       "\t<tr><td> 3</td><td>1 </td><td>45</td><td>86</td><td>78</td></tr>\n",
       "\t<tr><td> 4</td><td>1 </td><td>30</td><td>98</td><td>58</td></tr>\n",
       "\t<tr><td> 5</td><td>2 </td><td>25</td><td>80</td><td>65</td></tr>\n",
       "\t<tr><td> 6</td><td>2 </td><td>50</td><td>89</td><td>98</td></tr>\n",
       "\t<tr><td> 7</td><td>2 </td><td>80</td><td>90</td><td>45</td></tr>\n",
       "\t<tr><td> 8</td><td>2 </td><td>90</td><td>78</td><td>25</td></tr>\n",
       "\t<tr><td> 9</td><td>3 </td><td>20</td><td>98</td><td>15</td></tr>\n",
       "\t<tr><td>10</td><td>3 </td><td>50</td><td>98</td><td>45</td></tr>\n",
       "\t<tr><td>11</td><td>3 </td><td>65</td><td>65</td><td>65</td></tr>\n",
       "\t<tr><td>12</td><td>3 </td><td>45</td><td>85</td><td>32</td></tr>\n",
       "\t<tr><td>13</td><td>4 </td><td>46</td><td>98</td><td>65</td></tr>\n",
       "\t<tr><td>14</td><td>4 </td><td>48</td><td>87</td><td>12</td></tr>\n",
       "\t<tr><td>15</td><td>4 </td><td>75</td><td>56</td><td>78</td></tr>\n",
       "\t<tr><td>16</td><td>4 </td><td>58</td><td>98</td><td>65</td></tr>\n",
       "\t<tr><td>17</td><td>5 </td><td>65</td><td>68</td><td>98</td></tr>\n",
       "\t<tr><td>18</td><td>5 </td><td>80</td><td>78</td><td>90</td></tr>\n",
       "\t<tr><td>19</td><td>5 </td><td>89</td><td>68</td><td>87</td></tr>\n",
       "\t<tr><td>20</td><td>5 </td><td>78</td><td>83</td><td>58</td></tr>\n",
       "</tbody>\n",
       "</table>\n"
      ],
      "text/latex": [
       "\\begin{tabular}{r|lllll}\n",
       " id & class & math & english & science\\\\\n",
       "\\hline\n",
       "\t  1 & 1  & 50 & 98 & 50\\\\\n",
       "\t  2 & 1  & 60 & 97 & 60\\\\\n",
       "\t  3 & 1  & 45 & 86 & 78\\\\\n",
       "\t  4 & 1  & 30 & 98 & 58\\\\\n",
       "\t  5 & 2  & 25 & 80 & 65\\\\\n",
       "\t  6 & 2  & 50 & 89 & 98\\\\\n",
       "\t  7 & 2  & 80 & 90 & 45\\\\\n",
       "\t  8 & 2  & 90 & 78 & 25\\\\\n",
       "\t  9 & 3  & 20 & 98 & 15\\\\\n",
       "\t 10 & 3  & 50 & 98 & 45\\\\\n",
       "\t 11 & 3  & 65 & 65 & 65\\\\\n",
       "\t 12 & 3  & 45 & 85 & 32\\\\\n",
       "\t 13 & 4  & 46 & 98 & 65\\\\\n",
       "\t 14 & 4  & 48 & 87 & 12\\\\\n",
       "\t 15 & 4  & 75 & 56 & 78\\\\\n",
       "\t 16 & 4  & 58 & 98 & 65\\\\\n",
       "\t 17 & 5  & 65 & 68 & 98\\\\\n",
       "\t 18 & 5  & 80 & 78 & 90\\\\\n",
       "\t 19 & 5  & 89 & 68 & 87\\\\\n",
       "\t 20 & 5  & 78 & 83 & 58\\\\\n",
       "\\end{tabular}\n"
      ],
      "text/markdown": [
       "\n",
       "| id | class | math | english | science |\n",
       "|---|---|---|---|---|\n",
       "|  1 | 1  | 50 | 98 | 50 |\n",
       "|  2 | 1  | 60 | 97 | 60 |\n",
       "|  3 | 1  | 45 | 86 | 78 |\n",
       "|  4 | 1  | 30 | 98 | 58 |\n",
       "|  5 | 2  | 25 | 80 | 65 |\n",
       "|  6 | 2  | 50 | 89 | 98 |\n",
       "|  7 | 2  | 80 | 90 | 45 |\n",
       "|  8 | 2  | 90 | 78 | 25 |\n",
       "|  9 | 3  | 20 | 98 | 15 |\n",
       "| 10 | 3  | 50 | 98 | 45 |\n",
       "| 11 | 3  | 65 | 65 | 65 |\n",
       "| 12 | 3  | 45 | 85 | 32 |\n",
       "| 13 | 4  | 46 | 98 | 65 |\n",
       "| 14 | 4  | 48 | 87 | 12 |\n",
       "| 15 | 4  | 75 | 56 | 78 |\n",
       "| 16 | 4  | 58 | 98 | 65 |\n",
       "| 17 | 5  | 65 | 68 | 98 |\n",
       "| 18 | 5  | 80 | 78 | 90 |\n",
       "| 19 | 5  | 89 | 68 | 87 |\n",
       "| 20 | 5  | 78 | 83 | 58 |\n",
       "\n"
      ],
      "text/plain": [
       "   id class math english science\n",
       "1   1 1     50   98      50     \n",
       "2   2 1     60   97      60     \n",
       "3   3 1     45   86      78     \n",
       "4   4 1     30   98      58     \n",
       "5   5 2     25   80      65     \n",
       "6   6 2     50   89      98     \n",
       "7   7 2     80   90      45     \n",
       "8   8 2     90   78      25     \n",
       "9   9 3     20   98      15     \n",
       "10 10 3     50   98      45     \n",
       "11 11 3     65   65      65     \n",
       "12 12 3     45   85      32     \n",
       "13 13 4     46   98      65     \n",
       "14 14 4     48   87      12     \n",
       "15 15 4     75   56      78     \n",
       "16 16 4     58   98      65     \n",
       "17 17 5     65   68      98     \n",
       "18 18 5     80   78      90     \n",
       "19 19 5     89   68      87     \n",
       "20 20 5     78   83      58     "
      ]
     },
     "metadata": {},
     "output_type": "display_data"
    }
   ],
   "source": [
    "library(dplyr)\n",
    "exam <- read.csv(\"csv_exam.csv\")\n",
    "exam"
   ]
  },
  {
   "cell_type": "markdown",
   "metadata": {},
   "source": [
    "출력 결과의 class 변수 열을 보면 데이터가 5개 반의 학생들로 구성되어 있다."
   ]
  },
  {
   "cell_type": "markdown",
   "metadata": {},
   "source": [
    "#### 2. dplyr 패키지의 filter()를 이용해 1반 학생들의 데이터만 추출한다."
   ]
  },
  {
   "cell_type": "markdown",
   "metadata": {},
   "source": [
    "#### dplyr 패키지는 %>% 기호를 이용해 함수들을 나열하는 방식으로 코드를 작성한다.\n",
    "\n",
    "위 코드는 exam을 출력하되, class가 1인 행만 추출하라는 조건이 지정되어 있다.\n",
    "\n",
    "filter() 안에 class == 1은 'class 변수의 값이 1인 행'을 의미한다.\n",
    "\n",
    "filter()에 조건을 입력하면 조건에 해당하는 행만 추출한다.\n",
    "\n",
    "filter()에 조건을 입력할 때 '같다'를 의미하는 등호 =를 두 번 반복해 쓰는 것을 꼭 기억한다.\n",
    "\n",
    "함수의 파라미터를 지정할 때는 등호를 한 번 쓰고(ex. header = T), '같다'를 의미할 때는 등호를 두 번 쓴다.(ex.class == 1)"
   ]
  },
  {
   "cell_type": "markdown",
   "metadata": {},
   "source": [
    "※ %>% 기호는 '파이프 연산자(pipe operator)'라고 읽는다. %>%는 물길을 연결하는 수도관(파이프)처럼 함수들을 연결하는 기능을 한다.\n",
    "\n",
    "Ctrl + Shift + M을 누르면 %>%가 삽입된다."
   ]
  },
  {
   "cell_type": "markdown",
   "metadata": {},
   "source": [
    "#### 3. 같은 방식으로 2반 학생만 추출해 출력해본다."
   ]
  },
  {
   "cell_type": "code",
   "execution_count": 4,
   "metadata": {},
   "outputs": [
    {
     "data": {
      "text/html": [
       "<table>\n",
       "<thead><tr><th scope=col>id</th><th scope=col>class</th><th scope=col>math</th><th scope=col>english</th><th scope=col>science</th></tr></thead>\n",
       "<tbody>\n",
       "\t<tr><td>5 </td><td>2 </td><td>25</td><td>80</td><td>65</td></tr>\n",
       "\t<tr><td>6 </td><td>2 </td><td>50</td><td>89</td><td>98</td></tr>\n",
       "\t<tr><td>7 </td><td>2 </td><td>80</td><td>90</td><td>45</td></tr>\n",
       "\t<tr><td>8 </td><td>2 </td><td>90</td><td>78</td><td>25</td></tr>\n",
       "</tbody>\n",
       "</table>\n"
      ],
      "text/latex": [
       "\\begin{tabular}{r|lllll}\n",
       " id & class & math & english & science\\\\\n",
       "\\hline\n",
       "\t 5  & 2  & 25 & 80 & 65\\\\\n",
       "\t 6  & 2  & 50 & 89 & 98\\\\\n",
       "\t 7  & 2  & 80 & 90 & 45\\\\\n",
       "\t 8  & 2  & 90 & 78 & 25\\\\\n",
       "\\end{tabular}\n"
      ],
      "text/markdown": [
       "\n",
       "| id | class | math | english | science |\n",
       "|---|---|---|---|---|\n",
       "| 5  | 2  | 25 | 80 | 65 |\n",
       "| 6  | 2  | 50 | 89 | 98 |\n",
       "| 7  | 2  | 80 | 90 | 45 |\n",
       "| 8  | 2  | 90 | 78 | 25 |\n",
       "\n"
      ],
      "text/plain": [
       "  id class math english science\n",
       "1 5  2     25   80      65     \n",
       "2 6  2     50   89      98     \n",
       "3 7  2     80   90      45     \n",
       "4 8  2     90   78      25     "
      ]
     },
     "metadata": {},
     "output_type": "display_data"
    }
   ],
   "source": [
    "exam %>% filter(class == 2) "
   ]
  },
  {
   "cell_type": "markdown",
   "metadata": {},
   "source": [
    "#### 4. 변수가 특정 값이 '아닌 경우'에 해당하는 데이터만 추출해본다.\n",
    "\n",
    "등호 앞에 느낌표를 붙여 !=이라고 쓰면 '같지 않다'를 의미하는 기호가 된다."
   ]
  },
  {
   "cell_type": "code",
   "execution_count": 5,
   "metadata": {},
   "outputs": [
    {
     "data": {
      "text/html": [
       "<table>\n",
       "<thead><tr><th scope=col>id</th><th scope=col>class</th><th scope=col>math</th><th scope=col>english</th><th scope=col>science</th></tr></thead>\n",
       "<tbody>\n",
       "\t<tr><td> 5</td><td>2 </td><td>25</td><td>80</td><td>65</td></tr>\n",
       "\t<tr><td> 6</td><td>2 </td><td>50</td><td>89</td><td>98</td></tr>\n",
       "\t<tr><td> 7</td><td>2 </td><td>80</td><td>90</td><td>45</td></tr>\n",
       "\t<tr><td> 8</td><td>2 </td><td>90</td><td>78</td><td>25</td></tr>\n",
       "\t<tr><td> 9</td><td>3 </td><td>20</td><td>98</td><td>15</td></tr>\n",
       "\t<tr><td>10</td><td>3 </td><td>50</td><td>98</td><td>45</td></tr>\n",
       "\t<tr><td>11</td><td>3 </td><td>65</td><td>65</td><td>65</td></tr>\n",
       "\t<tr><td>12</td><td>3 </td><td>45</td><td>85</td><td>32</td></tr>\n",
       "\t<tr><td>13</td><td>4 </td><td>46</td><td>98</td><td>65</td></tr>\n",
       "\t<tr><td>14</td><td>4 </td><td>48</td><td>87</td><td>12</td></tr>\n",
       "\t<tr><td>15</td><td>4 </td><td>75</td><td>56</td><td>78</td></tr>\n",
       "\t<tr><td>16</td><td>4 </td><td>58</td><td>98</td><td>65</td></tr>\n",
       "\t<tr><td>17</td><td>5 </td><td>65</td><td>68</td><td>98</td></tr>\n",
       "\t<tr><td>18</td><td>5 </td><td>80</td><td>78</td><td>90</td></tr>\n",
       "\t<tr><td>19</td><td>5 </td><td>89</td><td>68</td><td>87</td></tr>\n",
       "\t<tr><td>20</td><td>5 </td><td>78</td><td>83</td><td>58</td></tr>\n",
       "</tbody>\n",
       "</table>\n"
      ],
      "text/latex": [
       "\\begin{tabular}{r|lllll}\n",
       " id & class & math & english & science\\\\\n",
       "\\hline\n",
       "\t  5 & 2  & 25 & 80 & 65\\\\\n",
       "\t  6 & 2  & 50 & 89 & 98\\\\\n",
       "\t  7 & 2  & 80 & 90 & 45\\\\\n",
       "\t  8 & 2  & 90 & 78 & 25\\\\\n",
       "\t  9 & 3  & 20 & 98 & 15\\\\\n",
       "\t 10 & 3  & 50 & 98 & 45\\\\\n",
       "\t 11 & 3  & 65 & 65 & 65\\\\\n",
       "\t 12 & 3  & 45 & 85 & 32\\\\\n",
       "\t 13 & 4  & 46 & 98 & 65\\\\\n",
       "\t 14 & 4  & 48 & 87 & 12\\\\\n",
       "\t 15 & 4  & 75 & 56 & 78\\\\\n",
       "\t 16 & 4  & 58 & 98 & 65\\\\\n",
       "\t 17 & 5  & 65 & 68 & 98\\\\\n",
       "\t 18 & 5  & 80 & 78 & 90\\\\\n",
       "\t 19 & 5  & 89 & 68 & 87\\\\\n",
       "\t 20 & 5  & 78 & 83 & 58\\\\\n",
       "\\end{tabular}\n"
      ],
      "text/markdown": [
       "\n",
       "| id | class | math | english | science |\n",
       "|---|---|---|---|---|\n",
       "|  5 | 2  | 25 | 80 | 65 |\n",
       "|  6 | 2  | 50 | 89 | 98 |\n",
       "|  7 | 2  | 80 | 90 | 45 |\n",
       "|  8 | 2  | 90 | 78 | 25 |\n",
       "|  9 | 3  | 20 | 98 | 15 |\n",
       "| 10 | 3  | 50 | 98 | 45 |\n",
       "| 11 | 3  | 65 | 65 | 65 |\n",
       "| 12 | 3  | 45 | 85 | 32 |\n",
       "| 13 | 4  | 46 | 98 | 65 |\n",
       "| 14 | 4  | 48 | 87 | 12 |\n",
       "| 15 | 4  | 75 | 56 | 78 |\n",
       "| 16 | 4  | 58 | 98 | 65 |\n",
       "| 17 | 5  | 65 | 68 | 98 |\n",
       "| 18 | 5  | 80 | 78 | 90 |\n",
       "| 19 | 5  | 89 | 68 | 87 |\n",
       "| 20 | 5  | 78 | 83 | 58 |\n",
       "\n"
      ],
      "text/plain": [
       "   id class math english science\n",
       "1   5 2     25   80      65     \n",
       "2   6 2     50   89      98     \n",
       "3   7 2     80   90      45     \n",
       "4   8 2     90   78      25     \n",
       "5   9 3     20   98      15     \n",
       "6  10 3     50   98      45     \n",
       "7  11 3     65   65      65     \n",
       "8  12 3     45   85      32     \n",
       "9  13 4     46   98      65     \n",
       "10 14 4     48   87      12     \n",
       "11 15 4     75   56      78     \n",
       "12 16 4     58   98      65     \n",
       "13 17 5     65   68      98     \n",
       "14 18 5     80   78      90     \n",
       "15 19 5     89   68      87     \n",
       "16 20 5     78   83      58     "
      ]
     },
     "metadata": {},
     "output_type": "display_data"
    }
   ],
   "source": [
    "exam  %>%  filter(class != 1)  # 1반이 아닌 경우"
   ]
  },
  {
   "cell_type": "code",
   "execution_count": 6,
   "metadata": {},
   "outputs": [
    {
     "data": {
      "text/html": [
       "<table>\n",
       "<thead><tr><th scope=col>id</th><th scope=col>class</th><th scope=col>math</th><th scope=col>english</th><th scope=col>science</th></tr></thead>\n",
       "<tbody>\n",
       "\t<tr><td> 1</td><td>1 </td><td>50</td><td>98</td><td>50</td></tr>\n",
       "\t<tr><td> 2</td><td>1 </td><td>60</td><td>97</td><td>60</td></tr>\n",
       "\t<tr><td> 3</td><td>1 </td><td>45</td><td>86</td><td>78</td></tr>\n",
       "\t<tr><td> 4</td><td>1 </td><td>30</td><td>98</td><td>58</td></tr>\n",
       "\t<tr><td> 5</td><td>2 </td><td>25</td><td>80</td><td>65</td></tr>\n",
       "\t<tr><td> 6</td><td>2 </td><td>50</td><td>89</td><td>98</td></tr>\n",
       "\t<tr><td> 7</td><td>2 </td><td>80</td><td>90</td><td>45</td></tr>\n",
       "\t<tr><td> 8</td><td>2 </td><td>90</td><td>78</td><td>25</td></tr>\n",
       "\t<tr><td>13</td><td>4 </td><td>46</td><td>98</td><td>65</td></tr>\n",
       "\t<tr><td>14</td><td>4 </td><td>48</td><td>87</td><td>12</td></tr>\n",
       "\t<tr><td>15</td><td>4 </td><td>75</td><td>56</td><td>78</td></tr>\n",
       "\t<tr><td>16</td><td>4 </td><td>58</td><td>98</td><td>65</td></tr>\n",
       "\t<tr><td>17</td><td>5 </td><td>65</td><td>68</td><td>98</td></tr>\n",
       "\t<tr><td>18</td><td>5 </td><td>80</td><td>78</td><td>90</td></tr>\n",
       "\t<tr><td>19</td><td>5 </td><td>89</td><td>68</td><td>87</td></tr>\n",
       "\t<tr><td>20</td><td>5 </td><td>78</td><td>83</td><td>58</td></tr>\n",
       "</tbody>\n",
       "</table>\n"
      ],
      "text/latex": [
       "\\begin{tabular}{r|lllll}\n",
       " id & class & math & english & science\\\\\n",
       "\\hline\n",
       "\t  1 & 1  & 50 & 98 & 50\\\\\n",
       "\t  2 & 1  & 60 & 97 & 60\\\\\n",
       "\t  3 & 1  & 45 & 86 & 78\\\\\n",
       "\t  4 & 1  & 30 & 98 & 58\\\\\n",
       "\t  5 & 2  & 25 & 80 & 65\\\\\n",
       "\t  6 & 2  & 50 & 89 & 98\\\\\n",
       "\t  7 & 2  & 80 & 90 & 45\\\\\n",
       "\t  8 & 2  & 90 & 78 & 25\\\\\n",
       "\t 13 & 4  & 46 & 98 & 65\\\\\n",
       "\t 14 & 4  & 48 & 87 & 12\\\\\n",
       "\t 15 & 4  & 75 & 56 & 78\\\\\n",
       "\t 16 & 4  & 58 & 98 & 65\\\\\n",
       "\t 17 & 5  & 65 & 68 & 98\\\\\n",
       "\t 18 & 5  & 80 & 78 & 90\\\\\n",
       "\t 19 & 5  & 89 & 68 & 87\\\\\n",
       "\t 20 & 5  & 78 & 83 & 58\\\\\n",
       "\\end{tabular}\n"
      ],
      "text/markdown": [
       "\n",
       "| id | class | math | english | science |\n",
       "|---|---|---|---|---|\n",
       "|  1 | 1  | 50 | 98 | 50 |\n",
       "|  2 | 1  | 60 | 97 | 60 |\n",
       "|  3 | 1  | 45 | 86 | 78 |\n",
       "|  4 | 1  | 30 | 98 | 58 |\n",
       "|  5 | 2  | 25 | 80 | 65 |\n",
       "|  6 | 2  | 50 | 89 | 98 |\n",
       "|  7 | 2  | 80 | 90 | 45 |\n",
       "|  8 | 2  | 90 | 78 | 25 |\n",
       "| 13 | 4  | 46 | 98 | 65 |\n",
       "| 14 | 4  | 48 | 87 | 12 |\n",
       "| 15 | 4  | 75 | 56 | 78 |\n",
       "| 16 | 4  | 58 | 98 | 65 |\n",
       "| 17 | 5  | 65 | 68 | 98 |\n",
       "| 18 | 5  | 80 | 78 | 90 |\n",
       "| 19 | 5  | 89 | 68 | 87 |\n",
       "| 20 | 5  | 78 | 83 | 58 |\n",
       "\n"
      ],
      "text/plain": [
       "   id class math english science\n",
       "1   1 1     50   98      50     \n",
       "2   2 1     60   97      60     \n",
       "3   3 1     45   86      78     \n",
       "4   4 1     30   98      58     \n",
       "5   5 2     25   80      65     \n",
       "6   6 2     50   89      98     \n",
       "7   7 2     80   90      45     \n",
       "8   8 2     90   78      25     \n",
       "9  13 4     46   98      65     \n",
       "10 14 4     48   87      12     \n",
       "11 15 4     75   56      78     \n",
       "12 16 4     58   98      65     \n",
       "13 17 5     65   68      98     \n",
       "14 18 5     80   78      90     \n",
       "15 19 5     89   68      87     \n",
       "16 20 5     78   83      58     "
      ]
     },
     "metadata": {},
     "output_type": "display_data"
    }
   ],
   "source": [
    "exam  %>%  filter(class != 3)  # 3반이 아닌 경우"
   ]
  },
  {
   "cell_type": "markdown",
   "metadata": {},
   "source": [
    "### 초과, 미만, 이상, 이하 조건 걸기\n",
    "\n",
    "부등호를 이용하면 특정 값 초과나 미만인 경우, 혹인 특정 값 이상이나 이하인 경우에 해당하는 데이터만 추출할 수 있다."
   ]
  },
  {
   "cell_type": "code",
   "execution_count": 7,
   "metadata": {},
   "outputs": [
    {
     "data": {
      "text/html": [
       "<table>\n",
       "<thead><tr><th scope=col>id</th><th scope=col>class</th><th scope=col>math</th><th scope=col>english</th><th scope=col>science</th></tr></thead>\n",
       "<tbody>\n",
       "\t<tr><td> 2</td><td>1 </td><td>60</td><td>97</td><td>60</td></tr>\n",
       "\t<tr><td> 7</td><td>2 </td><td>80</td><td>90</td><td>45</td></tr>\n",
       "\t<tr><td> 8</td><td>2 </td><td>90</td><td>78</td><td>25</td></tr>\n",
       "\t<tr><td>11</td><td>3 </td><td>65</td><td>65</td><td>65</td></tr>\n",
       "\t<tr><td>15</td><td>4 </td><td>75</td><td>56</td><td>78</td></tr>\n",
       "\t<tr><td>16</td><td>4 </td><td>58</td><td>98</td><td>65</td></tr>\n",
       "\t<tr><td>17</td><td>5 </td><td>65</td><td>68</td><td>98</td></tr>\n",
       "\t<tr><td>18</td><td>5 </td><td>80</td><td>78</td><td>90</td></tr>\n",
       "\t<tr><td>19</td><td>5 </td><td>89</td><td>68</td><td>87</td></tr>\n",
       "\t<tr><td>20</td><td>5 </td><td>78</td><td>83</td><td>58</td></tr>\n",
       "</tbody>\n",
       "</table>\n"
      ],
      "text/latex": [
       "\\begin{tabular}{r|lllll}\n",
       " id & class & math & english & science\\\\\n",
       "\\hline\n",
       "\t  2 & 1  & 60 & 97 & 60\\\\\n",
       "\t  7 & 2  & 80 & 90 & 45\\\\\n",
       "\t  8 & 2  & 90 & 78 & 25\\\\\n",
       "\t 11 & 3  & 65 & 65 & 65\\\\\n",
       "\t 15 & 4  & 75 & 56 & 78\\\\\n",
       "\t 16 & 4  & 58 & 98 & 65\\\\\n",
       "\t 17 & 5  & 65 & 68 & 98\\\\\n",
       "\t 18 & 5  & 80 & 78 & 90\\\\\n",
       "\t 19 & 5  & 89 & 68 & 87\\\\\n",
       "\t 20 & 5  & 78 & 83 & 58\\\\\n",
       "\\end{tabular}\n"
      ],
      "text/markdown": [
       "\n",
       "| id | class | math | english | science |\n",
       "|---|---|---|---|---|\n",
       "|  2 | 1  | 60 | 97 | 60 |\n",
       "|  7 | 2  | 80 | 90 | 45 |\n",
       "|  8 | 2  | 90 | 78 | 25 |\n",
       "| 11 | 3  | 65 | 65 | 65 |\n",
       "| 15 | 4  | 75 | 56 | 78 |\n",
       "| 16 | 4  | 58 | 98 | 65 |\n",
       "| 17 | 5  | 65 | 68 | 98 |\n",
       "| 18 | 5  | 80 | 78 | 90 |\n",
       "| 19 | 5  | 89 | 68 | 87 |\n",
       "| 20 | 5  | 78 | 83 | 58 |\n",
       "\n"
      ],
      "text/plain": [
       "   id class math english science\n",
       "1   2 1     60   97      60     \n",
       "2   7 2     80   90      45     \n",
       "3   8 2     90   78      25     \n",
       "4  11 3     65   65      65     \n",
       "5  15 4     75   56      78     \n",
       "6  16 4     58   98      65     \n",
       "7  17 5     65   68      98     \n",
       "8  18 5     80   78      90     \n",
       "9  19 5     89   68      87     \n",
       "10 20 5     78   83      58     "
      ]
     },
     "metadata": {},
     "output_type": "display_data"
    }
   ],
   "source": [
    "exam  %>%  filter(math > 50)  # 수학 점수가 50점을 초과한 경우"
   ]
  },
  {
   "cell_type": "code",
   "execution_count": 8,
   "metadata": {},
   "outputs": [
    {
     "data": {
      "text/html": [
       "<table>\n",
       "<thead><tr><th scope=col>id</th><th scope=col>class</th><th scope=col>math</th><th scope=col>english</th><th scope=col>science</th></tr></thead>\n",
       "<tbody>\n",
       "\t<tr><td> 3</td><td>1 </td><td>45</td><td>86</td><td>78</td></tr>\n",
       "\t<tr><td> 4</td><td>1 </td><td>30</td><td>98</td><td>58</td></tr>\n",
       "\t<tr><td> 5</td><td>2 </td><td>25</td><td>80</td><td>65</td></tr>\n",
       "\t<tr><td> 9</td><td>3 </td><td>20</td><td>98</td><td>15</td></tr>\n",
       "\t<tr><td>12</td><td>3 </td><td>45</td><td>85</td><td>32</td></tr>\n",
       "\t<tr><td>13</td><td>4 </td><td>46</td><td>98</td><td>65</td></tr>\n",
       "\t<tr><td>14</td><td>4 </td><td>48</td><td>87</td><td>12</td></tr>\n",
       "</tbody>\n",
       "</table>\n"
      ],
      "text/latex": [
       "\\begin{tabular}{r|lllll}\n",
       " id & class & math & english & science\\\\\n",
       "\\hline\n",
       "\t  3 & 1  & 45 & 86 & 78\\\\\n",
       "\t  4 & 1  & 30 & 98 & 58\\\\\n",
       "\t  5 & 2  & 25 & 80 & 65\\\\\n",
       "\t  9 & 3  & 20 & 98 & 15\\\\\n",
       "\t 12 & 3  & 45 & 85 & 32\\\\\n",
       "\t 13 & 4  & 46 & 98 & 65\\\\\n",
       "\t 14 & 4  & 48 & 87 & 12\\\\\n",
       "\\end{tabular}\n"
      ],
      "text/markdown": [
       "\n",
       "| id | class | math | english | science |\n",
       "|---|---|---|---|---|\n",
       "|  3 | 1  | 45 | 86 | 78 |\n",
       "|  4 | 1  | 30 | 98 | 58 |\n",
       "|  5 | 2  | 25 | 80 | 65 |\n",
       "|  9 | 3  | 20 | 98 | 15 |\n",
       "| 12 | 3  | 45 | 85 | 32 |\n",
       "| 13 | 4  | 46 | 98 | 65 |\n",
       "| 14 | 4  | 48 | 87 | 12 |\n",
       "\n"
      ],
      "text/plain": [
       "  id class math english science\n",
       "1  3 1     45   86      78     \n",
       "2  4 1     30   98      58     \n",
       "3  5 2     25   80      65     \n",
       "4  9 3     20   98      15     \n",
       "5 12 3     45   85      32     \n",
       "6 13 4     46   98      65     \n",
       "7 14 4     48   87      12     "
      ]
     },
     "metadata": {},
     "output_type": "display_data"
    }
   ],
   "source": [
    "exam  %>%  filter(math < 50)  # 수학 점수가 50점 미만인 경우"
   ]
  },
  {
   "cell_type": "code",
   "execution_count": 9,
   "metadata": {},
   "outputs": [
    {
     "data": {
      "text/html": [
       "<table>\n",
       "<thead><tr><th scope=col>id</th><th scope=col>class</th><th scope=col>math</th><th scope=col>english</th><th scope=col>science</th></tr></thead>\n",
       "<tbody>\n",
       "\t<tr><td> 1</td><td>1 </td><td>50</td><td>98</td><td>50</td></tr>\n",
       "\t<tr><td> 2</td><td>1 </td><td>60</td><td>97</td><td>60</td></tr>\n",
       "\t<tr><td> 3</td><td>1 </td><td>45</td><td>86</td><td>78</td></tr>\n",
       "\t<tr><td> 4</td><td>1 </td><td>30</td><td>98</td><td>58</td></tr>\n",
       "\t<tr><td> 5</td><td>2 </td><td>25</td><td>80</td><td>65</td></tr>\n",
       "\t<tr><td> 6</td><td>2 </td><td>50</td><td>89</td><td>98</td></tr>\n",
       "\t<tr><td> 7</td><td>2 </td><td>80</td><td>90</td><td>45</td></tr>\n",
       "\t<tr><td> 9</td><td>3 </td><td>20</td><td>98</td><td>15</td></tr>\n",
       "\t<tr><td>10</td><td>3 </td><td>50</td><td>98</td><td>45</td></tr>\n",
       "\t<tr><td>12</td><td>3 </td><td>45</td><td>85</td><td>32</td></tr>\n",
       "\t<tr><td>13</td><td>4 </td><td>46</td><td>98</td><td>65</td></tr>\n",
       "\t<tr><td>14</td><td>4 </td><td>48</td><td>87</td><td>12</td></tr>\n",
       "\t<tr><td>16</td><td>4 </td><td>58</td><td>98</td><td>65</td></tr>\n",
       "\t<tr><td>20</td><td>5 </td><td>78</td><td>83</td><td>58</td></tr>\n",
       "</tbody>\n",
       "</table>\n"
      ],
      "text/latex": [
       "\\begin{tabular}{r|lllll}\n",
       " id & class & math & english & science\\\\\n",
       "\\hline\n",
       "\t  1 & 1  & 50 & 98 & 50\\\\\n",
       "\t  2 & 1  & 60 & 97 & 60\\\\\n",
       "\t  3 & 1  & 45 & 86 & 78\\\\\n",
       "\t  4 & 1  & 30 & 98 & 58\\\\\n",
       "\t  5 & 2  & 25 & 80 & 65\\\\\n",
       "\t  6 & 2  & 50 & 89 & 98\\\\\n",
       "\t  7 & 2  & 80 & 90 & 45\\\\\n",
       "\t  9 & 3  & 20 & 98 & 15\\\\\n",
       "\t 10 & 3  & 50 & 98 & 45\\\\\n",
       "\t 12 & 3  & 45 & 85 & 32\\\\\n",
       "\t 13 & 4  & 46 & 98 & 65\\\\\n",
       "\t 14 & 4  & 48 & 87 & 12\\\\\n",
       "\t 16 & 4  & 58 & 98 & 65\\\\\n",
       "\t 20 & 5  & 78 & 83 & 58\\\\\n",
       "\\end{tabular}\n"
      ],
      "text/markdown": [
       "\n",
       "| id | class | math | english | science |\n",
       "|---|---|---|---|---|\n",
       "|  1 | 1  | 50 | 98 | 50 |\n",
       "|  2 | 1  | 60 | 97 | 60 |\n",
       "|  3 | 1  | 45 | 86 | 78 |\n",
       "|  4 | 1  | 30 | 98 | 58 |\n",
       "|  5 | 2  | 25 | 80 | 65 |\n",
       "|  6 | 2  | 50 | 89 | 98 |\n",
       "|  7 | 2  | 80 | 90 | 45 |\n",
       "|  9 | 3  | 20 | 98 | 15 |\n",
       "| 10 | 3  | 50 | 98 | 45 |\n",
       "| 12 | 3  | 45 | 85 | 32 |\n",
       "| 13 | 4  | 46 | 98 | 65 |\n",
       "| 14 | 4  | 48 | 87 | 12 |\n",
       "| 16 | 4  | 58 | 98 | 65 |\n",
       "| 20 | 5  | 78 | 83 | 58 |\n",
       "\n"
      ],
      "text/plain": [
       "   id class math english science\n",
       "1   1 1     50   98      50     \n",
       "2   2 1     60   97      60     \n",
       "3   3 1     45   86      78     \n",
       "4   4 1     30   98      58     \n",
       "5   5 2     25   80      65     \n",
       "6   6 2     50   89      98     \n",
       "7   7 2     80   90      45     \n",
       "8   9 3     20   98      15     \n",
       "9  10 3     50   98      45     \n",
       "10 12 3     45   85      32     \n",
       "11 13 4     46   98      65     \n",
       "12 14 4     48   87      12     \n",
       "13 16 4     58   98      65     \n",
       "14 20 5     78   83      58     "
      ]
     },
     "metadata": {},
     "output_type": "display_data"
    }
   ],
   "source": [
    "exam  %>%  filter(english >= 80)  # 영어 점수가 80점 이상인 경우"
   ]
  },
  {
   "cell_type": "code",
   "execution_count": 10,
   "metadata": {},
   "outputs": [
    {
     "data": {
      "text/html": [
       "<table>\n",
       "<thead><tr><th scope=col>id</th><th scope=col>class</th><th scope=col>math</th><th scope=col>english</th><th scope=col>science</th></tr></thead>\n",
       "<tbody>\n",
       "\t<tr><td> 5</td><td>2 </td><td>25</td><td>80</td><td>65</td></tr>\n",
       "\t<tr><td> 8</td><td>2 </td><td>90</td><td>78</td><td>25</td></tr>\n",
       "\t<tr><td>11</td><td>3 </td><td>65</td><td>65</td><td>65</td></tr>\n",
       "\t<tr><td>15</td><td>4 </td><td>75</td><td>56</td><td>78</td></tr>\n",
       "\t<tr><td>17</td><td>5 </td><td>65</td><td>68</td><td>98</td></tr>\n",
       "\t<tr><td>18</td><td>5 </td><td>80</td><td>78</td><td>90</td></tr>\n",
       "\t<tr><td>19</td><td>5 </td><td>89</td><td>68</td><td>87</td></tr>\n",
       "</tbody>\n",
       "</table>\n"
      ],
      "text/latex": [
       "\\begin{tabular}{r|lllll}\n",
       " id & class & math & english & science\\\\\n",
       "\\hline\n",
       "\t  5 & 2  & 25 & 80 & 65\\\\\n",
       "\t  8 & 2  & 90 & 78 & 25\\\\\n",
       "\t 11 & 3  & 65 & 65 & 65\\\\\n",
       "\t 15 & 4  & 75 & 56 & 78\\\\\n",
       "\t 17 & 5  & 65 & 68 & 98\\\\\n",
       "\t 18 & 5  & 80 & 78 & 90\\\\\n",
       "\t 19 & 5  & 89 & 68 & 87\\\\\n",
       "\\end{tabular}\n"
      ],
      "text/markdown": [
       "\n",
       "| id | class | math | english | science |\n",
       "|---|---|---|---|---|\n",
       "|  5 | 2  | 25 | 80 | 65 |\n",
       "|  8 | 2  | 90 | 78 | 25 |\n",
       "| 11 | 3  | 65 | 65 | 65 |\n",
       "| 15 | 4  | 75 | 56 | 78 |\n",
       "| 17 | 5  | 65 | 68 | 98 |\n",
       "| 18 | 5  | 80 | 78 | 90 |\n",
       "| 19 | 5  | 89 | 68 | 87 |\n",
       "\n"
      ],
      "text/plain": [
       "  id class math english science\n",
       "1  5 2     25   80      65     \n",
       "2  8 2     90   78      25     \n",
       "3 11 3     65   65      65     \n",
       "4 15 4     75   56      78     \n",
       "5 17 5     65   68      98     \n",
       "6 18 5     80   78      90     \n",
       "7 19 5     89   68      87     "
      ]
     },
     "metadata": {},
     "output_type": "display_data"
    }
   ],
   "source": [
    "exam  %>%  filter(english <= 80)  # 영어 점수가 80점 이하인 경우"
   ]
  },
  {
   "cell_type": "markdown",
   "metadata": {},
   "source": [
    "### 여러 조건을 충족하는 행 추출하기"
   ]
  },
  {
   "cell_type": "markdown",
   "metadata": {},
   "source": [
    "'그리고(and)'를 의미하는 기호 $를 사용해 조건을 나열하면 여러 조건을 동시에 충족하는 행을 추출할 수 있다."
   ]
  },
  {
   "cell_type": "code",
   "execution_count": 12,
   "metadata": {},
   "outputs": [
    {
     "data": {
      "text/html": [
       "<table>\n",
       "<thead><tr><th scope=col>id</th><th scope=col>class</th><th scope=col>math</th><th scope=col>english</th><th scope=col>science</th></tr></thead>\n",
       "<tbody>\n",
       "\t<tr><td>1 </td><td>1 </td><td>50</td><td>98</td><td>50</td></tr>\n",
       "\t<tr><td>2 </td><td>1 </td><td>60</td><td>97</td><td>60</td></tr>\n",
       "</tbody>\n",
       "</table>\n"
      ],
      "text/latex": [
       "\\begin{tabular}{r|lllll}\n",
       " id & class & math & english & science\\\\\n",
       "\\hline\n",
       "\t 1  & 1  & 50 & 98 & 50\\\\\n",
       "\t 2  & 1  & 60 & 97 & 60\\\\\n",
       "\\end{tabular}\n"
      ],
      "text/markdown": [
       "\n",
       "| id | class | math | english | science |\n",
       "|---|---|---|---|---|\n",
       "| 1  | 1  | 50 | 98 | 50 |\n",
       "| 2  | 1  | 60 | 97 | 60 |\n",
       "\n"
      ],
      "text/plain": [
       "  id class math english science\n",
       "1 1  1     50   98      50     \n",
       "2 2  1     60   97      60     "
      ]
     },
     "metadata": {},
     "output_type": "display_data"
    }
   ],
   "source": [
    "# 1반이면서 수학 점수가 50점 이상인 경우\n",
    "exam  %>%  filter(class == 1 & math >= 50)"
   ]
  },
  {
   "cell_type": "code",
   "execution_count": 13,
   "metadata": {},
   "outputs": [
    {
     "data": {
      "text/html": [
       "<table>\n",
       "<thead><tr><th scope=col>id</th><th scope=col>class</th><th scope=col>math</th><th scope=col>english</th><th scope=col>science</th></tr></thead>\n",
       "<tbody>\n",
       "\t<tr><td>5 </td><td>2 </td><td>25</td><td>80</td><td>65</td></tr>\n",
       "\t<tr><td>6 </td><td>2 </td><td>50</td><td>89</td><td>98</td></tr>\n",
       "\t<tr><td>7 </td><td>2 </td><td>80</td><td>90</td><td>45</td></tr>\n",
       "</tbody>\n",
       "</table>\n"
      ],
      "text/latex": [
       "\\begin{tabular}{r|lllll}\n",
       " id & class & math & english & science\\\\\n",
       "\\hline\n",
       "\t 5  & 2  & 25 & 80 & 65\\\\\n",
       "\t 6  & 2  & 50 & 89 & 98\\\\\n",
       "\t 7  & 2  & 80 & 90 & 45\\\\\n",
       "\\end{tabular}\n"
      ],
      "text/markdown": [
       "\n",
       "| id | class | math | english | science |\n",
       "|---|---|---|---|---|\n",
       "| 5  | 2  | 25 | 80 | 65 |\n",
       "| 6  | 2  | 50 | 89 | 98 |\n",
       "| 7  | 2  | 80 | 90 | 45 |\n",
       "\n"
      ],
      "text/plain": [
       "  id class math english science\n",
       "1 5  2     25   80      65     \n",
       "2 6  2     50   89      98     \n",
       "3 7  2     80   90      45     "
      ]
     },
     "metadata": {},
     "output_type": "display_data"
    }
   ],
   "source": [
    "# 2반이면서 영어 점수가 80점 이상인 경우\n",
    "exam  %>%  filter(class == 2 & english >= 80)"
   ]
  },
  {
   "cell_type": "markdown",
   "metadata": {},
   "source": [
    "### 여러 조건 중 하나 이상 충족하는 행 추출하기"
   ]
  },
  {
   "cell_type": "markdown",
   "metadata": {},
   "source": [
    "'또는(or)'을 의마하는 | 기호를 이용하면 여러 조건 중 하나라도 충족하는 데이터를 추출할 수 있다."
   ]
  },
  {
   "cell_type": "code",
   "execution_count": 15,
   "metadata": {},
   "outputs": [
    {
     "data": {
      "text/html": [
       "<table>\n",
       "<thead><tr><th scope=col>id</th><th scope=col>class</th><th scope=col>math</th><th scope=col>english</th><th scope=col>science</th></tr></thead>\n",
       "<tbody>\n",
       "\t<tr><td> 1</td><td>1 </td><td>50</td><td>98</td><td>50</td></tr>\n",
       "\t<tr><td> 2</td><td>1 </td><td>60</td><td>97</td><td>60</td></tr>\n",
       "\t<tr><td> 4</td><td>1 </td><td>30</td><td>98</td><td>58</td></tr>\n",
       "\t<tr><td> 7</td><td>2 </td><td>80</td><td>90</td><td>45</td></tr>\n",
       "\t<tr><td> 8</td><td>2 </td><td>90</td><td>78</td><td>25</td></tr>\n",
       "\t<tr><td> 9</td><td>3 </td><td>20</td><td>98</td><td>15</td></tr>\n",
       "\t<tr><td>10</td><td>3 </td><td>50</td><td>98</td><td>45</td></tr>\n",
       "\t<tr><td>13</td><td>4 </td><td>46</td><td>98</td><td>65</td></tr>\n",
       "\t<tr><td>16</td><td>4 </td><td>58</td><td>98</td><td>65</td></tr>\n",
       "</tbody>\n",
       "</table>\n"
      ],
      "text/latex": [
       "\\begin{tabular}{r|lllll}\n",
       " id & class & math & english & science\\\\\n",
       "\\hline\n",
       "\t  1 & 1  & 50 & 98 & 50\\\\\n",
       "\t  2 & 1  & 60 & 97 & 60\\\\\n",
       "\t  4 & 1  & 30 & 98 & 58\\\\\n",
       "\t  7 & 2  & 80 & 90 & 45\\\\\n",
       "\t  8 & 2  & 90 & 78 & 25\\\\\n",
       "\t  9 & 3  & 20 & 98 & 15\\\\\n",
       "\t 10 & 3  & 50 & 98 & 45\\\\\n",
       "\t 13 & 4  & 46 & 98 & 65\\\\\n",
       "\t 16 & 4  & 58 & 98 & 65\\\\\n",
       "\\end{tabular}\n"
      ],
      "text/markdown": [
       "\n",
       "| id | class | math | english | science |\n",
       "|---|---|---|---|---|\n",
       "|  1 | 1  | 50 | 98 | 50 |\n",
       "|  2 | 1  | 60 | 97 | 60 |\n",
       "|  4 | 1  | 30 | 98 | 58 |\n",
       "|  7 | 2  | 80 | 90 | 45 |\n",
       "|  8 | 2  | 90 | 78 | 25 |\n",
       "|  9 | 3  | 20 | 98 | 15 |\n",
       "| 10 | 3  | 50 | 98 | 45 |\n",
       "| 13 | 4  | 46 | 98 | 65 |\n",
       "| 16 | 4  | 58 | 98 | 65 |\n",
       "\n"
      ],
      "text/plain": [
       "  id class math english science\n",
       "1  1 1     50   98      50     \n",
       "2  2 1     60   97      60     \n",
       "3  4 1     30   98      58     \n",
       "4  7 2     80   90      45     \n",
       "5  8 2     90   78      25     \n",
       "6  9 3     20   98      15     \n",
       "7 10 3     50   98      45     \n",
       "8 13 4     46   98      65     \n",
       "9 16 4     58   98      65     "
      ]
     },
     "metadata": {},
     "output_type": "display_data"
    }
   ],
   "source": [
    "# 수학 점수가 90점 이상이거나 영어 점수가 90점 이상인 경우\n",
    "exam  %>%  filter(math >= 90 | english >= 90)"
   ]
  },
  {
   "cell_type": "markdown",
   "metadata": {},
   "source": [
    "### 목록에 해당하는 행 추출하기"
   ]
  },
  {
   "cell_type": "markdown",
   "metadata": {},
   "source": [
    "#### 1. 변수의 값이 지정한 목록에 해당될 경우만 추출해야 할 경우가 있다.\n",
    "\n",
    "예를 들어 1, 3, 5반에 속한 학생의 데이터만 추출하는 상황을 생각할 수 있다.\n",
    "\n",
    "이럴 경우 앞에서 다룬 | 기호를 이용해 여러 조건을 나열하면 된다."
   ]
  },
  {
   "cell_type": "code",
   "execution_count": 16,
   "metadata": {},
   "outputs": [
    {
     "data": {
      "text/html": [
       "<table>\n",
       "<thead><tr><th scope=col>id</th><th scope=col>class</th><th scope=col>math</th><th scope=col>english</th><th scope=col>science</th></tr></thead>\n",
       "<tbody>\n",
       "\t<tr><td> 1</td><td>1 </td><td>50</td><td>98</td><td>50</td></tr>\n",
       "\t<tr><td> 2</td><td>1 </td><td>60</td><td>97</td><td>60</td></tr>\n",
       "\t<tr><td> 3</td><td>1 </td><td>45</td><td>86</td><td>78</td></tr>\n",
       "\t<tr><td> 4</td><td>1 </td><td>30</td><td>98</td><td>58</td></tr>\n",
       "\t<tr><td> 9</td><td>3 </td><td>20</td><td>98</td><td>15</td></tr>\n",
       "\t<tr><td>10</td><td>3 </td><td>50</td><td>98</td><td>45</td></tr>\n",
       "\t<tr><td>11</td><td>3 </td><td>65</td><td>65</td><td>65</td></tr>\n",
       "\t<tr><td>12</td><td>3 </td><td>45</td><td>85</td><td>32</td></tr>\n",
       "\t<tr><td>17</td><td>5 </td><td>65</td><td>68</td><td>98</td></tr>\n",
       "\t<tr><td>18</td><td>5 </td><td>80</td><td>78</td><td>90</td></tr>\n",
       "\t<tr><td>19</td><td>5 </td><td>89</td><td>68</td><td>87</td></tr>\n",
       "\t<tr><td>20</td><td>5 </td><td>78</td><td>83</td><td>58</td></tr>\n",
       "</tbody>\n",
       "</table>\n"
      ],
      "text/latex": [
       "\\begin{tabular}{r|lllll}\n",
       " id & class & math & english & science\\\\\n",
       "\\hline\n",
       "\t  1 & 1  & 50 & 98 & 50\\\\\n",
       "\t  2 & 1  & 60 & 97 & 60\\\\\n",
       "\t  3 & 1  & 45 & 86 & 78\\\\\n",
       "\t  4 & 1  & 30 & 98 & 58\\\\\n",
       "\t  9 & 3  & 20 & 98 & 15\\\\\n",
       "\t 10 & 3  & 50 & 98 & 45\\\\\n",
       "\t 11 & 3  & 65 & 65 & 65\\\\\n",
       "\t 12 & 3  & 45 & 85 & 32\\\\\n",
       "\t 17 & 5  & 65 & 68 & 98\\\\\n",
       "\t 18 & 5  & 80 & 78 & 90\\\\\n",
       "\t 19 & 5  & 89 & 68 & 87\\\\\n",
       "\t 20 & 5  & 78 & 83 & 58\\\\\n",
       "\\end{tabular}\n"
      ],
      "text/markdown": [
       "\n",
       "| id | class | math | english | science |\n",
       "|---|---|---|---|---|\n",
       "|  1 | 1  | 50 | 98 | 50 |\n",
       "|  2 | 1  | 60 | 97 | 60 |\n",
       "|  3 | 1  | 45 | 86 | 78 |\n",
       "|  4 | 1  | 30 | 98 | 58 |\n",
       "|  9 | 3  | 20 | 98 | 15 |\n",
       "| 10 | 3  | 50 | 98 | 45 |\n",
       "| 11 | 3  | 65 | 65 | 65 |\n",
       "| 12 | 3  | 45 | 85 | 32 |\n",
       "| 17 | 5  | 65 | 68 | 98 |\n",
       "| 18 | 5  | 80 | 78 | 90 |\n",
       "| 19 | 5  | 89 | 68 | 87 |\n",
       "| 20 | 5  | 78 | 83 | 58 |\n",
       "\n"
      ],
      "text/plain": [
       "   id class math english science\n",
       "1   1 1     50   98      50     \n",
       "2   2 1     60   97      60     \n",
       "3   3 1     45   86      78     \n",
       "4   4 1     30   98      58     \n",
       "5   9 3     20   98      15     \n",
       "6  10 3     50   98      45     \n",
       "7  11 3     65   65      65     \n",
       "8  12 3     45   85      32     \n",
       "9  17 5     65   68      98     \n",
       "10 18 5     80   78      90     \n",
       "11 19 5     89   68      87     \n",
       "12 20 5     78   83      58     "
      ]
     },
     "metadata": {},
     "output_type": "display_data"
    }
   ],
   "source": [
    "# 1, 3, 5반에 해당하면 추출\n",
    "exam %>% filter(class == 1 | class == 3 | class == 5)"
   ]
  },
  {
   "cell_type": "markdown",
   "metadata": {},
   "source": [
    "#### 2. %in% 기호를 사용하면 코드를 좀 더 간편하게 작성할 수 있다.\n",
    "\n",
    "%in% 기호와 c() 함수를 이용해 조건 목록을 입력하면 된다.\n",
    "\n",
    "%in% 기호는 변수의 값이 지정한 조건 목록에 해당하는지 확인하는 기능을 한다."
   ]
  },
  {
   "cell_type": "code",
   "execution_count": 17,
   "metadata": {},
   "outputs": [
    {
     "data": {
      "text/html": [
       "<table>\n",
       "<thead><tr><th scope=col>id</th><th scope=col>class</th><th scope=col>math</th><th scope=col>english</th><th scope=col>science</th></tr></thead>\n",
       "<tbody>\n",
       "\t<tr><td> 1</td><td>1 </td><td>50</td><td>98</td><td>50</td></tr>\n",
       "\t<tr><td> 2</td><td>1 </td><td>60</td><td>97</td><td>60</td></tr>\n",
       "\t<tr><td> 3</td><td>1 </td><td>45</td><td>86</td><td>78</td></tr>\n",
       "\t<tr><td> 4</td><td>1 </td><td>30</td><td>98</td><td>58</td></tr>\n",
       "\t<tr><td> 9</td><td>3 </td><td>20</td><td>98</td><td>15</td></tr>\n",
       "\t<tr><td>10</td><td>3 </td><td>50</td><td>98</td><td>45</td></tr>\n",
       "\t<tr><td>11</td><td>3 </td><td>65</td><td>65</td><td>65</td></tr>\n",
       "\t<tr><td>12</td><td>3 </td><td>45</td><td>85</td><td>32</td></tr>\n",
       "\t<tr><td>17</td><td>5 </td><td>65</td><td>68</td><td>98</td></tr>\n",
       "\t<tr><td>18</td><td>5 </td><td>80</td><td>78</td><td>90</td></tr>\n",
       "\t<tr><td>19</td><td>5 </td><td>89</td><td>68</td><td>87</td></tr>\n",
       "\t<tr><td>20</td><td>5 </td><td>78</td><td>83</td><td>58</td></tr>\n",
       "</tbody>\n",
       "</table>\n"
      ],
      "text/latex": [
       "\\begin{tabular}{r|lllll}\n",
       " id & class & math & english & science\\\\\n",
       "\\hline\n",
       "\t  1 & 1  & 50 & 98 & 50\\\\\n",
       "\t  2 & 1  & 60 & 97 & 60\\\\\n",
       "\t  3 & 1  & 45 & 86 & 78\\\\\n",
       "\t  4 & 1  & 30 & 98 & 58\\\\\n",
       "\t  9 & 3  & 20 & 98 & 15\\\\\n",
       "\t 10 & 3  & 50 & 98 & 45\\\\\n",
       "\t 11 & 3  & 65 & 65 & 65\\\\\n",
       "\t 12 & 3  & 45 & 85 & 32\\\\\n",
       "\t 17 & 5  & 65 & 68 & 98\\\\\n",
       "\t 18 & 5  & 80 & 78 & 90\\\\\n",
       "\t 19 & 5  & 89 & 68 & 87\\\\\n",
       "\t 20 & 5  & 78 & 83 & 58\\\\\n",
       "\\end{tabular}\n"
      ],
      "text/markdown": [
       "\n",
       "| id | class | math | english | science |\n",
       "|---|---|---|---|---|\n",
       "|  1 | 1  | 50 | 98 | 50 |\n",
       "|  2 | 1  | 60 | 97 | 60 |\n",
       "|  3 | 1  | 45 | 86 | 78 |\n",
       "|  4 | 1  | 30 | 98 | 58 |\n",
       "|  9 | 3  | 20 | 98 | 15 |\n",
       "| 10 | 3  | 50 | 98 | 45 |\n",
       "| 11 | 3  | 65 | 65 | 65 |\n",
       "| 12 | 3  | 45 | 85 | 32 |\n",
       "| 17 | 5  | 65 | 68 | 98 |\n",
       "| 18 | 5  | 80 | 78 | 90 |\n",
       "| 19 | 5  | 89 | 68 | 87 |\n",
       "| 20 | 5  | 78 | 83 | 58 |\n",
       "\n"
      ],
      "text/plain": [
       "   id class math english science\n",
       "1   1 1     50   98      50     \n",
       "2   2 1     60   97      60     \n",
       "3   3 1     45   86      78     \n",
       "4   4 1     30   98      58     \n",
       "5   9 3     20   98      15     \n",
       "6  10 3     50   98      45     \n",
       "7  11 3     65   65      65     \n",
       "8  12 3     45   85      32     \n",
       "9  17 5     65   68      98     \n",
       "10 18 5     80   78      90     \n",
       "11 19 5     89   68      87     \n",
       "12 20 5     78   83      58     "
      ]
     },
     "metadata": {},
     "output_type": "display_data"
    }
   ],
   "source": [
    "exam  %>%  filter(class %in% c(1, 3, 5))  # 1, 3, 5반에 해당하면 추출"
   ]
  },
  {
   "cell_type": "markdown",
   "metadata": {},
   "source": [
    "### 추출한 행으로 데이터 만들기\n",
    "\n",
    "새 변수를 만들 때처럼 <- 기호를 이용하면 추출한 행으로 새로운 데이터를 만들 수 있다.\n",
    "\n",
    "데이터를 조건별로 나눠 활용하고자 할 때 이런 형태로 코드를 작성한다.\n",
    "\n",
    "1반과 2반을 추출해 각각 새 데이터로 만든 후 각 반의 수학 점수 평균을 구해 본다."
   ]
  },
  {
   "cell_type": "code",
   "execution_count": 19,
   "metadata": {},
   "outputs": [],
   "source": [
    "class1 <- exam  %>%  filter(class == 1)  # class가 1인 행 추출, class1에 할당\n",
    "class2 <- exam  %>%  filter(class == 2)  # class가 2인 행 추출, class2에 할당"
   ]
  },
  {
   "cell_type": "code",
   "execution_count": 20,
   "metadata": {},
   "outputs": [
    {
     "data": {
      "text/html": [
       "46.25"
      ],
      "text/latex": [
       "46.25"
      ],
      "text/markdown": [
       "46.25"
      ],
      "text/plain": [
       "[1] 46.25"
      ]
     },
     "metadata": {},
     "output_type": "display_data"
    }
   ],
   "source": [
    "mean(class1$math)"
   ]
  },
  {
   "cell_type": "code",
   "execution_count": 21,
   "metadata": {},
   "outputs": [
    {
     "data": {
      "text/html": [
       "61.25"
      ],
      "text/latex": [
       "61.25"
      ],
      "text/markdown": [
       "61.25"
      ],
      "text/plain": [
       "[1] 61.25"
      ]
     },
     "metadata": {},
     "output_type": "display_data"
    }
   ],
   "source": [
    "mean(class2$math)"
   ]
  },
  {
   "cell_type": "markdown",
   "metadata": {},
   "source": [
    "### R에서 사용하는 기호들\n",
    "\n",
    "조건에 맞는 데이터를 추출하는 실습을 하면서 여러 가지 기호들을 사용했다.\n",
    "\n",
    "조건을 지정할 때 사용하는 기호를 '논리 연산자(Logical Opterator)'라고 하고, 계산할 때 사용하는 기호들을 '산술 연산자(Arithmetic Operatiors)'라고 한다."
   ]
  },
  {
   "cell_type": "markdown",
   "metadata": {},
   "source": [
    "#### 논리 연산자\n",
    "\n",
    "- \"<\" : 작다\n",
    "- \"<=\" : 작거나 같다\n",
    "- \">\" : 크다\n",
    "- \">=\" : 크거나 같다\n",
    "- \"==\" : 같다\n",
    "- \"!=\" : 같지 않다\n",
    "- \"|\" : 또는\n",
    "- \"&\" : 그리고\n",
    "- \"%in%\" : 매칭 확인"
   ]
  },
  {
   "cell_type": "markdown",
   "metadata": {},
   "source": [
    "#### 산술 연산자\n",
    "\n",
    "- \"+\" : 더하기\n",
    "- \"-\" : 빼기\n",
    "- \"*\" : 곱하기\n",
    "- \"/\" : 나누기\n",
    "- \"^\", \"**\" : 제곱\n",
    "- \"%/%\" : 나눗셈의 몫\n",
    "- \"%%\" : 나눗셈의 나머지"
   ]
  },
  {
   "cell_type": "markdown",
   "metadata": {},
   "source": [
    "## 06-3 필요한 변수만 추출하기\n",
    "\n",
    "select()는 데이터에 들어 있는 수많은 변수 중 일부 변수만 추출해 활용하고자 할 때 사용한다.\n",
    "\n",
    "select()를 이용해 변수를 추출하는 방법을 알아본다."
   ]
  },
  {
   "cell_type": "markdown",
   "metadata": {},
   "source": [
    "### 변수 추출하기"
   ]
  },
  {
   "cell_type": "markdown",
   "metadata": {},
   "source": [
    "#### 1. 아래 코드는 exam에서 math 변수만 추출해 출력하는 기능을 한다.\n",
    "\n",
    "filter()와 마찬가지 방식으로 데이터 프레임명을 입력한 후  %>% 로 select()를 연결한다.\n",
    "\n",
    "괄호 안에는 추출할 변수 이름을 입력한다."
   ]
  },
  {
   "cell_type": "code",
   "execution_count": 5,
   "metadata": {},
   "outputs": [
    {
     "data": {
      "text/html": [
       "<table>\n",
       "<thead><tr><th scope=col>math</th></tr></thead>\n",
       "<tbody>\n",
       "\t<tr><td>50</td></tr>\n",
       "\t<tr><td>60</td></tr>\n",
       "\t<tr><td>45</td></tr>\n",
       "\t<tr><td>30</td></tr>\n",
       "\t<tr><td>25</td></tr>\n",
       "\t<tr><td>50</td></tr>\n",
       "\t<tr><td>80</td></tr>\n",
       "\t<tr><td>90</td></tr>\n",
       "\t<tr><td>20</td></tr>\n",
       "\t<tr><td>50</td></tr>\n",
       "\t<tr><td>65</td></tr>\n",
       "\t<tr><td>45</td></tr>\n",
       "\t<tr><td>46</td></tr>\n",
       "\t<tr><td>48</td></tr>\n",
       "\t<tr><td>75</td></tr>\n",
       "\t<tr><td>58</td></tr>\n",
       "\t<tr><td>65</td></tr>\n",
       "\t<tr><td>80</td></tr>\n",
       "\t<tr><td>89</td></tr>\n",
       "\t<tr><td>78</td></tr>\n",
       "</tbody>\n",
       "</table>\n"
      ],
      "text/latex": [
       "\\begin{tabular}{r|l}\n",
       " math\\\\\n",
       "\\hline\n",
       "\t 50\\\\\n",
       "\t 60\\\\\n",
       "\t 45\\\\\n",
       "\t 30\\\\\n",
       "\t 25\\\\\n",
       "\t 50\\\\\n",
       "\t 80\\\\\n",
       "\t 90\\\\\n",
       "\t 20\\\\\n",
       "\t 50\\\\\n",
       "\t 65\\\\\n",
       "\t 45\\\\\n",
       "\t 46\\\\\n",
       "\t 48\\\\\n",
       "\t 75\\\\\n",
       "\t 58\\\\\n",
       "\t 65\\\\\n",
       "\t 80\\\\\n",
       "\t 89\\\\\n",
       "\t 78\\\\\n",
       "\\end{tabular}\n"
      ],
      "text/markdown": [
       "\n",
       "| math |\n",
       "|---|\n",
       "| 50 |\n",
       "| 60 |\n",
       "| 45 |\n",
       "| 30 |\n",
       "| 25 |\n",
       "| 50 |\n",
       "| 80 |\n",
       "| 90 |\n",
       "| 20 |\n",
       "| 50 |\n",
       "| 65 |\n",
       "| 45 |\n",
       "| 46 |\n",
       "| 48 |\n",
       "| 75 |\n",
       "| 58 |\n",
       "| 65 |\n",
       "| 80 |\n",
       "| 89 |\n",
       "| 78 |\n",
       "\n"
      ],
      "text/plain": [
       "   math\n",
       "1  50  \n",
       "2  60  \n",
       "3  45  \n",
       "4  30  \n",
       "5  25  \n",
       "6  50  \n",
       "7  80  \n",
       "8  90  \n",
       "9  20  \n",
       "10 50  \n",
       "11 65  \n",
       "12 45  \n",
       "13 46  \n",
       "14 48  \n",
       "15 75  \n",
       "16 58  \n",
       "17 65  \n",
       "18 80  \n",
       "19 89  \n",
       "20 78  "
      ]
     },
     "metadata": {},
     "output_type": "display_data"
    }
   ],
   "source": [
    "exam  %>%  select(math)  # math 추출"
   ]
  },
  {
   "cell_type": "markdown",
   "metadata": {},
   "source": [
    "#### 2. 같은 방식으로 emglish 변수를 추출해 본다."
   ]
  },
  {
   "cell_type": "code",
   "execution_count": 6,
   "metadata": {},
   "outputs": [
    {
     "data": {
      "text/html": [
       "<table>\n",
       "<thead><tr><th scope=col>english</th></tr></thead>\n",
       "<tbody>\n",
       "\t<tr><td>98</td></tr>\n",
       "\t<tr><td>97</td></tr>\n",
       "\t<tr><td>86</td></tr>\n",
       "\t<tr><td>98</td></tr>\n",
       "\t<tr><td>80</td></tr>\n",
       "\t<tr><td>89</td></tr>\n",
       "\t<tr><td>90</td></tr>\n",
       "\t<tr><td>78</td></tr>\n",
       "\t<tr><td>98</td></tr>\n",
       "\t<tr><td>98</td></tr>\n",
       "\t<tr><td>65</td></tr>\n",
       "\t<tr><td>85</td></tr>\n",
       "\t<tr><td>98</td></tr>\n",
       "\t<tr><td>87</td></tr>\n",
       "\t<tr><td>56</td></tr>\n",
       "\t<tr><td>98</td></tr>\n",
       "\t<tr><td>68</td></tr>\n",
       "\t<tr><td>78</td></tr>\n",
       "\t<tr><td>68</td></tr>\n",
       "\t<tr><td>83</td></tr>\n",
       "</tbody>\n",
       "</table>\n"
      ],
      "text/latex": [
       "\\begin{tabular}{r|l}\n",
       " english\\\\\n",
       "\\hline\n",
       "\t 98\\\\\n",
       "\t 97\\\\\n",
       "\t 86\\\\\n",
       "\t 98\\\\\n",
       "\t 80\\\\\n",
       "\t 89\\\\\n",
       "\t 90\\\\\n",
       "\t 78\\\\\n",
       "\t 98\\\\\n",
       "\t 98\\\\\n",
       "\t 65\\\\\n",
       "\t 85\\\\\n",
       "\t 98\\\\\n",
       "\t 87\\\\\n",
       "\t 56\\\\\n",
       "\t 98\\\\\n",
       "\t 68\\\\\n",
       "\t 78\\\\\n",
       "\t 68\\\\\n",
       "\t 83\\\\\n",
       "\\end{tabular}\n"
      ],
      "text/markdown": [
       "\n",
       "| english |\n",
       "|---|\n",
       "| 98 |\n",
       "| 97 |\n",
       "| 86 |\n",
       "| 98 |\n",
       "| 80 |\n",
       "| 89 |\n",
       "| 90 |\n",
       "| 78 |\n",
       "| 98 |\n",
       "| 98 |\n",
       "| 65 |\n",
       "| 85 |\n",
       "| 98 |\n",
       "| 87 |\n",
       "| 56 |\n",
       "| 98 |\n",
       "| 68 |\n",
       "| 78 |\n",
       "| 68 |\n",
       "| 83 |\n",
       "\n"
      ],
      "text/plain": [
       "   english\n",
       "1  98     \n",
       "2  97     \n",
       "3  86     \n",
       "4  98     \n",
       "5  80     \n",
       "6  89     \n",
       "7  90     \n",
       "8  78     \n",
       "9  98     \n",
       "10 98     \n",
       "11 65     \n",
       "12 85     \n",
       "13 98     \n",
       "14 87     \n",
       "15 56     \n",
       "16 98     \n",
       "17 68     \n",
       "18 78     \n",
       "19 68     \n",
       "20 83     "
      ]
     },
     "metadata": {},
     "output_type": "display_data"
    }
   ],
   "source": [
    "exam  %>% select(english)  # english 추출"
   ]
  },
  {
   "cell_type": "markdown",
   "metadata": {},
   "source": [
    "#### 3. 여러 변수 추출하기\n",
    "\n",
    "쉼표를 넣어 변수명을 나열하면 여러 변수를 동시에 추출할 수 있다."
   ]
  },
  {
   "cell_type": "code",
   "execution_count": 8,
   "metadata": {},
   "outputs": [
    {
     "data": {
      "text/html": [
       "<table>\n",
       "<thead><tr><th scope=col>class</th><th scope=col>math</th><th scope=col>english</th></tr></thead>\n",
       "<tbody>\n",
       "\t<tr><td>1 </td><td>50</td><td>98</td></tr>\n",
       "\t<tr><td>1 </td><td>60</td><td>97</td></tr>\n",
       "\t<tr><td>1 </td><td>45</td><td>86</td></tr>\n",
       "\t<tr><td>1 </td><td>30</td><td>98</td></tr>\n",
       "\t<tr><td>2 </td><td>25</td><td>80</td></tr>\n",
       "\t<tr><td>2 </td><td>50</td><td>89</td></tr>\n",
       "\t<tr><td>2 </td><td>80</td><td>90</td></tr>\n",
       "\t<tr><td>2 </td><td>90</td><td>78</td></tr>\n",
       "\t<tr><td>3 </td><td>20</td><td>98</td></tr>\n",
       "\t<tr><td>3 </td><td>50</td><td>98</td></tr>\n",
       "\t<tr><td>3 </td><td>65</td><td>65</td></tr>\n",
       "\t<tr><td>3 </td><td>45</td><td>85</td></tr>\n",
       "\t<tr><td>4 </td><td>46</td><td>98</td></tr>\n",
       "\t<tr><td>4 </td><td>48</td><td>87</td></tr>\n",
       "\t<tr><td>4 </td><td>75</td><td>56</td></tr>\n",
       "\t<tr><td>4 </td><td>58</td><td>98</td></tr>\n",
       "\t<tr><td>5 </td><td>65</td><td>68</td></tr>\n",
       "\t<tr><td>5 </td><td>80</td><td>78</td></tr>\n",
       "\t<tr><td>5 </td><td>89</td><td>68</td></tr>\n",
       "\t<tr><td>5 </td><td>78</td><td>83</td></tr>\n",
       "</tbody>\n",
       "</table>\n"
      ],
      "text/latex": [
       "\\begin{tabular}{r|lll}\n",
       " class & math & english\\\\\n",
       "\\hline\n",
       "\t 1  & 50 & 98\\\\\n",
       "\t 1  & 60 & 97\\\\\n",
       "\t 1  & 45 & 86\\\\\n",
       "\t 1  & 30 & 98\\\\\n",
       "\t 2  & 25 & 80\\\\\n",
       "\t 2  & 50 & 89\\\\\n",
       "\t 2  & 80 & 90\\\\\n",
       "\t 2  & 90 & 78\\\\\n",
       "\t 3  & 20 & 98\\\\\n",
       "\t 3  & 50 & 98\\\\\n",
       "\t 3  & 65 & 65\\\\\n",
       "\t 3  & 45 & 85\\\\\n",
       "\t 4  & 46 & 98\\\\\n",
       "\t 4  & 48 & 87\\\\\n",
       "\t 4  & 75 & 56\\\\\n",
       "\t 4  & 58 & 98\\\\\n",
       "\t 5  & 65 & 68\\\\\n",
       "\t 5  & 80 & 78\\\\\n",
       "\t 5  & 89 & 68\\\\\n",
       "\t 5  & 78 & 83\\\\\n",
       "\\end{tabular}\n"
      ],
      "text/markdown": [
       "\n",
       "| class | math | english |\n",
       "|---|---|---|\n",
       "| 1  | 50 | 98 |\n",
       "| 1  | 60 | 97 |\n",
       "| 1  | 45 | 86 |\n",
       "| 1  | 30 | 98 |\n",
       "| 2  | 25 | 80 |\n",
       "| 2  | 50 | 89 |\n",
       "| 2  | 80 | 90 |\n",
       "| 2  | 90 | 78 |\n",
       "| 3  | 20 | 98 |\n",
       "| 3  | 50 | 98 |\n",
       "| 3  | 65 | 65 |\n",
       "| 3  | 45 | 85 |\n",
       "| 4  | 46 | 98 |\n",
       "| 4  | 48 | 87 |\n",
       "| 4  | 75 | 56 |\n",
       "| 4  | 58 | 98 |\n",
       "| 5  | 65 | 68 |\n",
       "| 5  | 80 | 78 |\n",
       "| 5  | 89 | 68 |\n",
       "| 5  | 78 | 83 |\n",
       "\n"
      ],
      "text/plain": [
       "   class math english\n",
       "1  1     50   98     \n",
       "2  1     60   97     \n",
       "3  1     45   86     \n",
       "4  1     30   98     \n",
       "5  2     25   80     \n",
       "6  2     50   89     \n",
       "7  2     80   90     \n",
       "8  2     90   78     \n",
       "9  3     20   98     \n",
       "10 3     50   98     \n",
       "11 3     65   65     \n",
       "12 3     45   85     \n",
       "13 4     46   98     \n",
       "14 4     48   87     \n",
       "15 4     75   56     \n",
       "16 4     58   98     \n",
       "17 5     65   68     \n",
       "18 5     80   78     \n",
       "19 5     89   68     \n",
       "20 5     78   83     "
      ]
     },
     "metadata": {},
     "output_type": "display_data"
    }
   ],
   "source": [
    "exam %>% select(class, math, english)  # class, math, english 변수 추출"
   ]
  },
  {
   "cell_type": "markdown",
   "metadata": {},
   "source": [
    "#### 4. 변수 제외하기\n",
    "\n",
    "추출할 변수를 지정하는 방법도 있지만 특정 변수만 제외하고 나머지 모든 변수를 추출하는 방법도 있다.\n",
    "\n",
    "제외할 변수명 앞에 빼기 기호 -를 입력하면 된다.\n",
    "\n",
    "여러 변수를 제외하려면 쉼표를 이용해 제외할 변수를 나열하면 된다."
   ]
  },
  {
   "cell_type": "code",
   "execution_count": 10,
   "metadata": {},
   "outputs": [
    {
     "data": {
      "text/html": [
       "<table>\n",
       "<thead><tr><th scope=col>id</th><th scope=col>class</th><th scope=col>english</th><th scope=col>science</th></tr></thead>\n",
       "<tbody>\n",
       "\t<tr><td> 1</td><td>1 </td><td>98</td><td>50</td></tr>\n",
       "\t<tr><td> 2</td><td>1 </td><td>97</td><td>60</td></tr>\n",
       "\t<tr><td> 3</td><td>1 </td><td>86</td><td>78</td></tr>\n",
       "\t<tr><td> 4</td><td>1 </td><td>98</td><td>58</td></tr>\n",
       "\t<tr><td> 5</td><td>2 </td><td>80</td><td>65</td></tr>\n",
       "\t<tr><td> 6</td><td>2 </td><td>89</td><td>98</td></tr>\n",
       "\t<tr><td> 7</td><td>2 </td><td>90</td><td>45</td></tr>\n",
       "\t<tr><td> 8</td><td>2 </td><td>78</td><td>25</td></tr>\n",
       "\t<tr><td> 9</td><td>3 </td><td>98</td><td>15</td></tr>\n",
       "\t<tr><td>10</td><td>3 </td><td>98</td><td>45</td></tr>\n",
       "\t<tr><td>11</td><td>3 </td><td>65</td><td>65</td></tr>\n",
       "\t<tr><td>12</td><td>3 </td><td>85</td><td>32</td></tr>\n",
       "\t<tr><td>13</td><td>4 </td><td>98</td><td>65</td></tr>\n",
       "\t<tr><td>14</td><td>4 </td><td>87</td><td>12</td></tr>\n",
       "\t<tr><td>15</td><td>4 </td><td>56</td><td>78</td></tr>\n",
       "\t<tr><td>16</td><td>4 </td><td>98</td><td>65</td></tr>\n",
       "\t<tr><td>17</td><td>5 </td><td>68</td><td>98</td></tr>\n",
       "\t<tr><td>18</td><td>5 </td><td>78</td><td>90</td></tr>\n",
       "\t<tr><td>19</td><td>5 </td><td>68</td><td>87</td></tr>\n",
       "\t<tr><td>20</td><td>5 </td><td>83</td><td>58</td></tr>\n",
       "</tbody>\n",
       "</table>\n"
      ],
      "text/latex": [
       "\\begin{tabular}{r|llll}\n",
       " id & class & english & science\\\\\n",
       "\\hline\n",
       "\t  1 & 1  & 98 & 50\\\\\n",
       "\t  2 & 1  & 97 & 60\\\\\n",
       "\t  3 & 1  & 86 & 78\\\\\n",
       "\t  4 & 1  & 98 & 58\\\\\n",
       "\t  5 & 2  & 80 & 65\\\\\n",
       "\t  6 & 2  & 89 & 98\\\\\n",
       "\t  7 & 2  & 90 & 45\\\\\n",
       "\t  8 & 2  & 78 & 25\\\\\n",
       "\t  9 & 3  & 98 & 15\\\\\n",
       "\t 10 & 3  & 98 & 45\\\\\n",
       "\t 11 & 3  & 65 & 65\\\\\n",
       "\t 12 & 3  & 85 & 32\\\\\n",
       "\t 13 & 4  & 98 & 65\\\\\n",
       "\t 14 & 4  & 87 & 12\\\\\n",
       "\t 15 & 4  & 56 & 78\\\\\n",
       "\t 16 & 4  & 98 & 65\\\\\n",
       "\t 17 & 5  & 68 & 98\\\\\n",
       "\t 18 & 5  & 78 & 90\\\\\n",
       "\t 19 & 5  & 68 & 87\\\\\n",
       "\t 20 & 5  & 83 & 58\\\\\n",
       "\\end{tabular}\n"
      ],
      "text/markdown": [
       "\n",
       "| id | class | english | science |\n",
       "|---|---|---|---|\n",
       "|  1 | 1  | 98 | 50 |\n",
       "|  2 | 1  | 97 | 60 |\n",
       "|  3 | 1  | 86 | 78 |\n",
       "|  4 | 1  | 98 | 58 |\n",
       "|  5 | 2  | 80 | 65 |\n",
       "|  6 | 2  | 89 | 98 |\n",
       "|  7 | 2  | 90 | 45 |\n",
       "|  8 | 2  | 78 | 25 |\n",
       "|  9 | 3  | 98 | 15 |\n",
       "| 10 | 3  | 98 | 45 |\n",
       "| 11 | 3  | 65 | 65 |\n",
       "| 12 | 3  | 85 | 32 |\n",
       "| 13 | 4  | 98 | 65 |\n",
       "| 14 | 4  | 87 | 12 |\n",
       "| 15 | 4  | 56 | 78 |\n",
       "| 16 | 4  | 98 | 65 |\n",
       "| 17 | 5  | 68 | 98 |\n",
       "| 18 | 5  | 78 | 90 |\n",
       "| 19 | 5  | 68 | 87 |\n",
       "| 20 | 5  | 83 | 58 |\n",
       "\n"
      ],
      "text/plain": [
       "   id class english science\n",
       "1   1 1     98      50     \n",
       "2   2 1     97      60     \n",
       "3   3 1     86      78     \n",
       "4   4 1     98      58     \n",
       "5   5 2     80      65     \n",
       "6   6 2     89      98     \n",
       "7   7 2     90      45     \n",
       "8   8 2     78      25     \n",
       "9   9 3     98      15     \n",
       "10 10 3     98      45     \n",
       "11 11 3     65      65     \n",
       "12 12 3     85      32     \n",
       "13 13 4     98      65     \n",
       "14 14 4     87      12     \n",
       "15 15 4     56      78     \n",
       "16 16 4     98      65     \n",
       "17 17 5     68      98     \n",
       "18 18 5     78      90     \n",
       "19 19 5     68      87     \n",
       "20 20 5     83      58     "
      ]
     },
     "metadata": {},
     "output_type": "display_data"
    }
   ],
   "source": [
    "exam  %>%  select(-math)  # math 제외"
   ]
  },
  {
   "cell_type": "code",
   "execution_count": 12,
   "metadata": {},
   "outputs": [
    {
     "data": {
      "text/html": [
       "<table>\n",
       "<thead><tr><th scope=col>id</th><th scope=col>class</th><th scope=col>science</th></tr></thead>\n",
       "<tbody>\n",
       "\t<tr><td> 1</td><td>1 </td><td>50</td></tr>\n",
       "\t<tr><td> 2</td><td>1 </td><td>60</td></tr>\n",
       "\t<tr><td> 3</td><td>1 </td><td>78</td></tr>\n",
       "\t<tr><td> 4</td><td>1 </td><td>58</td></tr>\n",
       "\t<tr><td> 5</td><td>2 </td><td>65</td></tr>\n",
       "\t<tr><td> 6</td><td>2 </td><td>98</td></tr>\n",
       "\t<tr><td> 7</td><td>2 </td><td>45</td></tr>\n",
       "\t<tr><td> 8</td><td>2 </td><td>25</td></tr>\n",
       "\t<tr><td> 9</td><td>3 </td><td>15</td></tr>\n",
       "\t<tr><td>10</td><td>3 </td><td>45</td></tr>\n",
       "\t<tr><td>11</td><td>3 </td><td>65</td></tr>\n",
       "\t<tr><td>12</td><td>3 </td><td>32</td></tr>\n",
       "\t<tr><td>13</td><td>4 </td><td>65</td></tr>\n",
       "\t<tr><td>14</td><td>4 </td><td>12</td></tr>\n",
       "\t<tr><td>15</td><td>4 </td><td>78</td></tr>\n",
       "\t<tr><td>16</td><td>4 </td><td>65</td></tr>\n",
       "\t<tr><td>17</td><td>5 </td><td>98</td></tr>\n",
       "\t<tr><td>18</td><td>5 </td><td>90</td></tr>\n",
       "\t<tr><td>19</td><td>5 </td><td>87</td></tr>\n",
       "\t<tr><td>20</td><td>5 </td><td>58</td></tr>\n",
       "</tbody>\n",
       "</table>\n"
      ],
      "text/latex": [
       "\\begin{tabular}{r|lll}\n",
       " id & class & science\\\\\n",
       "\\hline\n",
       "\t  1 & 1  & 50\\\\\n",
       "\t  2 & 1  & 60\\\\\n",
       "\t  3 & 1  & 78\\\\\n",
       "\t  4 & 1  & 58\\\\\n",
       "\t  5 & 2  & 65\\\\\n",
       "\t  6 & 2  & 98\\\\\n",
       "\t  7 & 2  & 45\\\\\n",
       "\t  8 & 2  & 25\\\\\n",
       "\t  9 & 3  & 15\\\\\n",
       "\t 10 & 3  & 45\\\\\n",
       "\t 11 & 3  & 65\\\\\n",
       "\t 12 & 3  & 32\\\\\n",
       "\t 13 & 4  & 65\\\\\n",
       "\t 14 & 4  & 12\\\\\n",
       "\t 15 & 4  & 78\\\\\n",
       "\t 16 & 4  & 65\\\\\n",
       "\t 17 & 5  & 98\\\\\n",
       "\t 18 & 5  & 90\\\\\n",
       "\t 19 & 5  & 87\\\\\n",
       "\t 20 & 5  & 58\\\\\n",
       "\\end{tabular}\n"
      ],
      "text/markdown": [
       "\n",
       "| id | class | science |\n",
       "|---|---|---|\n",
       "|  1 | 1  | 50 |\n",
       "|  2 | 1  | 60 |\n",
       "|  3 | 1  | 78 |\n",
       "|  4 | 1  | 58 |\n",
       "|  5 | 2  | 65 |\n",
       "|  6 | 2  | 98 |\n",
       "|  7 | 2  | 45 |\n",
       "|  8 | 2  | 25 |\n",
       "|  9 | 3  | 15 |\n",
       "| 10 | 3  | 45 |\n",
       "| 11 | 3  | 65 |\n",
       "| 12 | 3  | 32 |\n",
       "| 13 | 4  | 65 |\n",
       "| 14 | 4  | 12 |\n",
       "| 15 | 4  | 78 |\n",
       "| 16 | 4  | 65 |\n",
       "| 17 | 5  | 98 |\n",
       "| 18 | 5  | 90 |\n",
       "| 19 | 5  | 87 |\n",
       "| 20 | 5  | 58 |\n",
       "\n"
      ],
      "text/plain": [
       "   id class science\n",
       "1   1 1     50     \n",
       "2   2 1     60     \n",
       "3   3 1     78     \n",
       "4   4 1     58     \n",
       "5   5 2     65     \n",
       "6   6 2     98     \n",
       "7   7 2     45     \n",
       "8   8 2     25     \n",
       "9   9 3     15     \n",
       "10 10 3     45     \n",
       "11 11 3     65     \n",
       "12 12 3     32     \n",
       "13 13 4     65     \n",
       "14 14 4     12     \n",
       "15 15 4     78     \n",
       "16 16 4     65     \n",
       "17 17 5     98     \n",
       "18 18 5     90     \n",
       "19 19 5     87     \n",
       "20 20 5     58     "
      ]
     },
     "metadata": {},
     "output_type": "display_data"
    }
   ],
   "source": [
    "exam  %>%  select(-math, -english)  # math, english 제외"
   ]
  },
  {
   "cell_type": "markdown",
   "metadata": {},
   "source": [
    "### dplyr 함수 조합하기\n",
    "\n",
    "dplyr 패키지의 함수들을 %>% 를 이용해 조합할 수 있다는 장점이 있다.\n",
    "\n",
    "함수를 조합하면 코드의 길이가 줄어 이해하기 쉬워진다."
   ]
  },
  {
   "cell_type": "markdown",
   "metadata": {},
   "source": [
    "#### 1. filter()와 select() 조합하기\n",
    "\n",
    "filter()와 select()를 조합해서 1반 학생의 영어 점수를 추출해 본다.\n",
    "\n",
    "class가 1인 행을 추출하는 filter()와 english 변수를 추출하는 select()를  %>% 로 연결하면 된다."
   ]
  },
  {
   "cell_type": "code",
   "execution_count": 16,
   "metadata": {},
   "outputs": [
    {
     "data": {
      "text/html": [
       "<table>\n",
       "<thead><tr><th scope=col>english</th></tr></thead>\n",
       "<tbody>\n",
       "\t<tr><td>98</td></tr>\n",
       "\t<tr><td>97</td></tr>\n",
       "\t<tr><td>86</td></tr>\n",
       "\t<tr><td>98</td></tr>\n",
       "</tbody>\n",
       "</table>\n"
      ],
      "text/latex": [
       "\\begin{tabular}{r|l}\n",
       " english\\\\\n",
       "\\hline\n",
       "\t 98\\\\\n",
       "\t 97\\\\\n",
       "\t 86\\\\\n",
       "\t 98\\\\\n",
       "\\end{tabular}\n"
      ],
      "text/markdown": [
       "\n",
       "| english |\n",
       "|---|\n",
       "| 98 |\n",
       "| 97 |\n",
       "| 86 |\n",
       "| 98 |\n",
       "\n"
      ],
      "text/plain": [
       "  english\n",
       "1 98     \n",
       "2 97     \n",
       "3 86     \n",
       "4 98     "
      ]
     },
     "metadata": {},
     "output_type": "display_data"
    }
   ],
   "source": [
    "exam  %>%  filter(class == 1)  %>%  select(english) "
   ]
  },
  {
   "cell_type": "markdown",
   "metadata": {},
   "source": [
    "#### 2. 가독성 있게 줄 바꾸기\n",
    "\n",
    " %>% 로 코드가 연결되는 부분에서 줄을 바꾸면 함수별로 구분되기 때문에 가독성 있는 코드를 만들 수 있다.\n",
    " \n",
    " %>% 뒤에서 Enter로 줄을 바꾸면 자동으로 일정 간격이 띄어져서 어디까지 dplyr 코드 단락인지 한눈에 파악할 수 있다.\n",
    " \n",
    " 실행할 때는 dplyr 구문 전체를 함께 실행해야 한다. 드래그해서 일부만 실행하면 코드가 완료되지 않은 상태가 되어 결과가 출력되지 않는다.\n",
    " \n",
    " dplyr 구문 내 아무 곳에나 마우스 커서를 위치시킨 후 Ctrl + Enter로 실행하면 구문 전체가 함께 실행된다.\n",
    " \n",
    " 다음은 앞의 코드를  %>% 뒤에서 줄바꿈한 것이다."
   ]
  },
  {
   "cell_type": "code",
   "execution_count": 18,
   "metadata": {},
   "outputs": [
    {
     "data": {
      "text/html": [
       "<table>\n",
       "<thead><tr><th scope=col>english</th></tr></thead>\n",
       "<tbody>\n",
       "\t<tr><td>98</td></tr>\n",
       "\t<tr><td>97</td></tr>\n",
       "\t<tr><td>86</td></tr>\n",
       "\t<tr><td>98</td></tr>\n",
       "</tbody>\n",
       "</table>\n"
      ],
      "text/latex": [
       "\\begin{tabular}{r|l}\n",
       " english\\\\\n",
       "\\hline\n",
       "\t 98\\\\\n",
       "\t 97\\\\\n",
       "\t 86\\\\\n",
       "\t 98\\\\\n",
       "\\end{tabular}\n"
      ],
      "text/markdown": [
       "\n",
       "| english |\n",
       "|---|\n",
       "| 98 |\n",
       "| 97 |\n",
       "| 86 |\n",
       "| 98 |\n",
       "\n"
      ],
      "text/plain": [
       "  english\n",
       "1 98     \n",
       "2 97     \n",
       "3 86     \n",
       "4 98     "
      ]
     },
     "metadata": {},
     "output_type": "display_data"
    }
   ],
   "source": [
    "exam %>%\n",
    "    filter(class == 1) %>%  # class가 1인 행 추출 \n",
    "    select(english)         # english 추출"
   ]
  },
  {
   "cell_type": "markdown",
   "metadata": {},
   "source": [
    "#### 3. 일부만 출력하기\n",
    "\n",
    "데이터 일부를 출력할 때 사용하는 head()를 dplyr에 조합해 사용할 수 있다.\n",
    "\n",
    "dplyr 구문의 마지막에 %>% 로 연결해 head를 입력하면 된다.\n",
    "\n",
    "괄호 없이 head만 쓰면 6행까지 출력되고, 괄호 안에 숫자를 입력하면 입력한 숫자만큼의 행이 출력된다.\n",
    "\n",
    "dplyr을 적용한 결과 중 일부만 확인하고자 할 때 사용하면 된다."
   ]
  },
  {
   "cell_type": "code",
   "execution_count": 24,
   "metadata": {},
   "outputs": [
    {
     "data": {
      "text/html": [
       "<table>\n",
       "<thead><tr><th scope=col>id</th><th scope=col>math</th></tr></thead>\n",
       "<tbody>\n",
       "\t<tr><td>1 </td><td>50</td></tr>\n",
       "\t<tr><td>2 </td><td>60</td></tr>\n",
       "\t<tr><td>3 </td><td>45</td></tr>\n",
       "\t<tr><td>4 </td><td>30</td></tr>\n",
       "\t<tr><td>5 </td><td>25</td></tr>\n",
       "\t<tr><td>6 </td><td>50</td></tr>\n",
       "</tbody>\n",
       "</table>\n"
      ],
      "text/latex": [
       "\\begin{tabular}{r|ll}\n",
       " id & math\\\\\n",
       "\\hline\n",
       "\t 1  & 50\\\\\n",
       "\t 2  & 60\\\\\n",
       "\t 3  & 45\\\\\n",
       "\t 4  & 30\\\\\n",
       "\t 5  & 25\\\\\n",
       "\t 6  & 50\\\\\n",
       "\\end{tabular}\n"
      ],
      "text/markdown": [
       "\n",
       "| id | math |\n",
       "|---|---|\n",
       "| 1  | 50 |\n",
       "| 2  | 60 |\n",
       "| 3  | 45 |\n",
       "| 4  | 30 |\n",
       "| 5  | 25 |\n",
       "| 6  | 50 |\n",
       "\n"
      ],
      "text/plain": [
       "  id math\n",
       "1 1  50  \n",
       "2 2  60  \n",
       "3 3  45  \n",
       "4 4  30  \n",
       "5 5  25  \n",
       "6 6  50  "
      ]
     },
     "metadata": {},
     "output_type": "display_data"
    }
   ],
   "source": [
    "exam %>% \n",
    "    select(id, math) %>%  # id, math 추출\n",
    "    head                  # 앞부분 6행까지 추출"
   ]
  },
  {
   "cell_type": "code",
   "execution_count": 31,
   "metadata": {},
   "outputs": [
    {
     "data": {
      "text/html": [
       "<table>\n",
       "<thead><tr><th scope=col>id</th><th scope=col>math</th></tr></thead>\n",
       "<tbody>\n",
       "\t<tr><td>1 </td><td>50</td></tr>\n",
       "\t<tr><td>2 </td><td>60</td></tr>\n",
       "\t<tr><td>3 </td><td>45</td></tr>\n",
       "\t<tr><td>4 </td><td>30</td></tr>\n",
       "\t<tr><td>5 </td><td>25</td></tr>\n",
       "\t<tr><td>6 </td><td>50</td></tr>\n",
       "</tbody>\n",
       "</table>\n"
      ],
      "text/latex": [
       "\\begin{tabular}{r|ll}\n",
       " id & math\\\\\n",
       "\\hline\n",
       "\t 1  & 50\\\\\n",
       "\t 2  & 60\\\\\n",
       "\t 3  & 45\\\\\n",
       "\t 4  & 30\\\\\n",
       "\t 5  & 25\\\\\n",
       "\t 6  & 50\\\\\n",
       "\\end{tabular}\n"
      ],
      "text/markdown": [
       "\n",
       "| id | math |\n",
       "|---|---|\n",
       "| 1  | 50 |\n",
       "| 2  | 60 |\n",
       "| 3  | 45 |\n",
       "| 4  | 30 |\n",
       "| 5  | 25 |\n",
       "| 6  | 50 |\n",
       "\n"
      ],
      "text/plain": [
       "  id math\n",
       "1 1  50  \n",
       "2 2  60  \n",
       "3 3  45  \n",
       "4 4  30  \n",
       "5 5  25  \n",
       "6 6  50  "
      ]
     },
     "metadata": {},
     "output_type": "display_data"
    }
   ],
   "source": [
    "exam %>% \n",
    "    select(id, math) %>%  # id, math 추출\n",
    "    head            # 앞부분 10행까지 추출"
   ]
  },
  {
   "cell_type": "markdown",
   "metadata": {},
   "source": [
    "## 06-4 순서대로 정렬하기\n",
    "\n",
    "arrange()를 이용하면 데이터를 원하는 순서로 정렬할 수 있다.\n",
    "\n",
    "arrange()에 정렬 기준으로 삼을 변수명을 입력하면 된다."
   ]
  },
  {
   "cell_type": "markdown",
   "metadata": {},
   "source": [
    "### 오름차순으로 정렬하기\n",
    "\n",
    "exam 데이터는 학생의 번호를 나타내는 id 변수 순으로 정렬되어 있다.\n",
    "\n",
    "아래와 같이 arrange()에 math를 입력하면 수학 점수가 낮은 사람에게 높은 순으로 오름차순 정렬해 출력된다."
   ]
  },
  {
   "cell_type": "code",
   "execution_count": 34,
   "metadata": {},
   "outputs": [
    {
     "data": {
      "text/html": [
       "<table>\n",
       "<thead><tr><th scope=col>id</th><th scope=col>class</th><th scope=col>math</th><th scope=col>english</th><th scope=col>science</th></tr></thead>\n",
       "<tbody>\n",
       "\t<tr><td> 9</td><td>3 </td><td>20</td><td>98</td><td>15</td></tr>\n",
       "\t<tr><td> 5</td><td>2 </td><td>25</td><td>80</td><td>65</td></tr>\n",
       "\t<tr><td> 4</td><td>1 </td><td>30</td><td>98</td><td>58</td></tr>\n",
       "\t<tr><td> 3</td><td>1 </td><td>45</td><td>86</td><td>78</td></tr>\n",
       "\t<tr><td>12</td><td>3 </td><td>45</td><td>85</td><td>32</td></tr>\n",
       "\t<tr><td>13</td><td>4 </td><td>46</td><td>98</td><td>65</td></tr>\n",
       "\t<tr><td>14</td><td>4 </td><td>48</td><td>87</td><td>12</td></tr>\n",
       "\t<tr><td> 1</td><td>1 </td><td>50</td><td>98</td><td>50</td></tr>\n",
       "\t<tr><td> 6</td><td>2 </td><td>50</td><td>89</td><td>98</td></tr>\n",
       "\t<tr><td>10</td><td>3 </td><td>50</td><td>98</td><td>45</td></tr>\n",
       "\t<tr><td>16</td><td>4 </td><td>58</td><td>98</td><td>65</td></tr>\n",
       "\t<tr><td> 2</td><td>1 </td><td>60</td><td>97</td><td>60</td></tr>\n",
       "\t<tr><td>11</td><td>3 </td><td>65</td><td>65</td><td>65</td></tr>\n",
       "\t<tr><td>17</td><td>5 </td><td>65</td><td>68</td><td>98</td></tr>\n",
       "\t<tr><td>15</td><td>4 </td><td>75</td><td>56</td><td>78</td></tr>\n",
       "\t<tr><td>20</td><td>5 </td><td>78</td><td>83</td><td>58</td></tr>\n",
       "\t<tr><td> 7</td><td>2 </td><td>80</td><td>90</td><td>45</td></tr>\n",
       "\t<tr><td>18</td><td>5 </td><td>80</td><td>78</td><td>90</td></tr>\n",
       "\t<tr><td>19</td><td>5 </td><td>89</td><td>68</td><td>87</td></tr>\n",
       "\t<tr><td> 8</td><td>2 </td><td>90</td><td>78</td><td>25</td></tr>\n",
       "</tbody>\n",
       "</table>\n"
      ],
      "text/latex": [
       "\\begin{tabular}{r|lllll}\n",
       " id & class & math & english & science\\\\\n",
       "\\hline\n",
       "\t  9 & 3  & 20 & 98 & 15\\\\\n",
       "\t  5 & 2  & 25 & 80 & 65\\\\\n",
       "\t  4 & 1  & 30 & 98 & 58\\\\\n",
       "\t  3 & 1  & 45 & 86 & 78\\\\\n",
       "\t 12 & 3  & 45 & 85 & 32\\\\\n",
       "\t 13 & 4  & 46 & 98 & 65\\\\\n",
       "\t 14 & 4  & 48 & 87 & 12\\\\\n",
       "\t  1 & 1  & 50 & 98 & 50\\\\\n",
       "\t  6 & 2  & 50 & 89 & 98\\\\\n",
       "\t 10 & 3  & 50 & 98 & 45\\\\\n",
       "\t 16 & 4  & 58 & 98 & 65\\\\\n",
       "\t  2 & 1  & 60 & 97 & 60\\\\\n",
       "\t 11 & 3  & 65 & 65 & 65\\\\\n",
       "\t 17 & 5  & 65 & 68 & 98\\\\\n",
       "\t 15 & 4  & 75 & 56 & 78\\\\\n",
       "\t 20 & 5  & 78 & 83 & 58\\\\\n",
       "\t  7 & 2  & 80 & 90 & 45\\\\\n",
       "\t 18 & 5  & 80 & 78 & 90\\\\\n",
       "\t 19 & 5  & 89 & 68 & 87\\\\\n",
       "\t  8 & 2  & 90 & 78 & 25\\\\\n",
       "\\end{tabular}\n"
      ],
      "text/markdown": [
       "\n",
       "| id | class | math | english | science |\n",
       "|---|---|---|---|---|\n",
       "|  9 | 3  | 20 | 98 | 15 |\n",
       "|  5 | 2  | 25 | 80 | 65 |\n",
       "|  4 | 1  | 30 | 98 | 58 |\n",
       "|  3 | 1  | 45 | 86 | 78 |\n",
       "| 12 | 3  | 45 | 85 | 32 |\n",
       "| 13 | 4  | 46 | 98 | 65 |\n",
       "| 14 | 4  | 48 | 87 | 12 |\n",
       "|  1 | 1  | 50 | 98 | 50 |\n",
       "|  6 | 2  | 50 | 89 | 98 |\n",
       "| 10 | 3  | 50 | 98 | 45 |\n",
       "| 16 | 4  | 58 | 98 | 65 |\n",
       "|  2 | 1  | 60 | 97 | 60 |\n",
       "| 11 | 3  | 65 | 65 | 65 |\n",
       "| 17 | 5  | 65 | 68 | 98 |\n",
       "| 15 | 4  | 75 | 56 | 78 |\n",
       "| 20 | 5  | 78 | 83 | 58 |\n",
       "|  7 | 2  | 80 | 90 | 45 |\n",
       "| 18 | 5  | 80 | 78 | 90 |\n",
       "| 19 | 5  | 89 | 68 | 87 |\n",
       "|  8 | 2  | 90 | 78 | 25 |\n",
       "\n"
      ],
      "text/plain": [
       "   id class math english science\n",
       "1   9 3     20   98      15     \n",
       "2   5 2     25   80      65     \n",
       "3   4 1     30   98      58     \n",
       "4   3 1     45   86      78     \n",
       "5  12 3     45   85      32     \n",
       "6  13 4     46   98      65     \n",
       "7  14 4     48   87      12     \n",
       "8   1 1     50   98      50     \n",
       "9   6 2     50   89      98     \n",
       "10 10 3     50   98      45     \n",
       "11 16 4     58   98      65     \n",
       "12  2 1     60   97      60     \n",
       "13 11 3     65   65      65     \n",
       "14 17 5     65   68      98     \n",
       "15 15 4     75   56      78     \n",
       "16 20 5     78   83      58     \n",
       "17  7 2     80   90      45     \n",
       "18 18 5     80   78      90     \n",
       "19 19 5     89   68      87     \n",
       "20  8 2     90   78      25     "
      ]
     },
     "metadata": {},
     "output_type": "display_data"
    }
   ],
   "source": [
    "exam %>% arrange(math)  # math 오름차순 정렬"
   ]
  },
  {
   "cell_type": "markdown",
   "metadata": {},
   "source": [
    "### 내림차순으로 정렬하기\n",
    "\n",
    "높은 값에서 낮은 값 순으로 내림차순 정렬하려면 기준 변수를 desc()에 적용하면 된다.\n",
    "\n",
    "아래 코드를 실행하면 math가 높은 사람부터 낮은 사람 순으로 출력된다."
   ]
  },
  {
   "cell_type": "code",
   "execution_count": 36,
   "metadata": {},
   "outputs": [
    {
     "data": {
      "text/html": [
       "<table>\n",
       "<thead><tr><th scope=col>id</th><th scope=col>class</th><th scope=col>math</th><th scope=col>english</th><th scope=col>science</th></tr></thead>\n",
       "<tbody>\n",
       "\t<tr><td> 8</td><td>2 </td><td>90</td><td>78</td><td>25</td></tr>\n",
       "\t<tr><td>19</td><td>5 </td><td>89</td><td>68</td><td>87</td></tr>\n",
       "\t<tr><td> 7</td><td>2 </td><td>80</td><td>90</td><td>45</td></tr>\n",
       "\t<tr><td>18</td><td>5 </td><td>80</td><td>78</td><td>90</td></tr>\n",
       "\t<tr><td>20</td><td>5 </td><td>78</td><td>83</td><td>58</td></tr>\n",
       "\t<tr><td>15</td><td>4 </td><td>75</td><td>56</td><td>78</td></tr>\n",
       "\t<tr><td>11</td><td>3 </td><td>65</td><td>65</td><td>65</td></tr>\n",
       "\t<tr><td>17</td><td>5 </td><td>65</td><td>68</td><td>98</td></tr>\n",
       "\t<tr><td> 2</td><td>1 </td><td>60</td><td>97</td><td>60</td></tr>\n",
       "\t<tr><td>16</td><td>4 </td><td>58</td><td>98</td><td>65</td></tr>\n",
       "\t<tr><td> 1</td><td>1 </td><td>50</td><td>98</td><td>50</td></tr>\n",
       "\t<tr><td> 6</td><td>2 </td><td>50</td><td>89</td><td>98</td></tr>\n",
       "\t<tr><td>10</td><td>3 </td><td>50</td><td>98</td><td>45</td></tr>\n",
       "\t<tr><td>14</td><td>4 </td><td>48</td><td>87</td><td>12</td></tr>\n",
       "\t<tr><td>13</td><td>4 </td><td>46</td><td>98</td><td>65</td></tr>\n",
       "\t<tr><td> 3</td><td>1 </td><td>45</td><td>86</td><td>78</td></tr>\n",
       "\t<tr><td>12</td><td>3 </td><td>45</td><td>85</td><td>32</td></tr>\n",
       "\t<tr><td> 4</td><td>1 </td><td>30</td><td>98</td><td>58</td></tr>\n",
       "\t<tr><td> 5</td><td>2 </td><td>25</td><td>80</td><td>65</td></tr>\n",
       "\t<tr><td> 9</td><td>3 </td><td>20</td><td>98</td><td>15</td></tr>\n",
       "</tbody>\n",
       "</table>\n"
      ],
      "text/latex": [
       "\\begin{tabular}{r|lllll}\n",
       " id & class & math & english & science\\\\\n",
       "\\hline\n",
       "\t  8 & 2  & 90 & 78 & 25\\\\\n",
       "\t 19 & 5  & 89 & 68 & 87\\\\\n",
       "\t  7 & 2  & 80 & 90 & 45\\\\\n",
       "\t 18 & 5  & 80 & 78 & 90\\\\\n",
       "\t 20 & 5  & 78 & 83 & 58\\\\\n",
       "\t 15 & 4  & 75 & 56 & 78\\\\\n",
       "\t 11 & 3  & 65 & 65 & 65\\\\\n",
       "\t 17 & 5  & 65 & 68 & 98\\\\\n",
       "\t  2 & 1  & 60 & 97 & 60\\\\\n",
       "\t 16 & 4  & 58 & 98 & 65\\\\\n",
       "\t  1 & 1  & 50 & 98 & 50\\\\\n",
       "\t  6 & 2  & 50 & 89 & 98\\\\\n",
       "\t 10 & 3  & 50 & 98 & 45\\\\\n",
       "\t 14 & 4  & 48 & 87 & 12\\\\\n",
       "\t 13 & 4  & 46 & 98 & 65\\\\\n",
       "\t  3 & 1  & 45 & 86 & 78\\\\\n",
       "\t 12 & 3  & 45 & 85 & 32\\\\\n",
       "\t  4 & 1  & 30 & 98 & 58\\\\\n",
       "\t  5 & 2  & 25 & 80 & 65\\\\\n",
       "\t  9 & 3  & 20 & 98 & 15\\\\\n",
       "\\end{tabular}\n"
      ],
      "text/markdown": [
       "\n",
       "| id | class | math | english | science |\n",
       "|---|---|---|---|---|\n",
       "|  8 | 2  | 90 | 78 | 25 |\n",
       "| 19 | 5  | 89 | 68 | 87 |\n",
       "|  7 | 2  | 80 | 90 | 45 |\n",
       "| 18 | 5  | 80 | 78 | 90 |\n",
       "| 20 | 5  | 78 | 83 | 58 |\n",
       "| 15 | 4  | 75 | 56 | 78 |\n",
       "| 11 | 3  | 65 | 65 | 65 |\n",
       "| 17 | 5  | 65 | 68 | 98 |\n",
       "|  2 | 1  | 60 | 97 | 60 |\n",
       "| 16 | 4  | 58 | 98 | 65 |\n",
       "|  1 | 1  | 50 | 98 | 50 |\n",
       "|  6 | 2  | 50 | 89 | 98 |\n",
       "| 10 | 3  | 50 | 98 | 45 |\n",
       "| 14 | 4  | 48 | 87 | 12 |\n",
       "| 13 | 4  | 46 | 98 | 65 |\n",
       "|  3 | 1  | 45 | 86 | 78 |\n",
       "| 12 | 3  | 45 | 85 | 32 |\n",
       "|  4 | 1  | 30 | 98 | 58 |\n",
       "|  5 | 2  | 25 | 80 | 65 |\n",
       "|  9 | 3  | 20 | 98 | 15 |\n",
       "\n"
      ],
      "text/plain": [
       "   id class math english science\n",
       "1   8 2     90   78      25     \n",
       "2  19 5     89   68      87     \n",
       "3   7 2     80   90      45     \n",
       "4  18 5     80   78      90     \n",
       "5  20 5     78   83      58     \n",
       "6  15 4     75   56      78     \n",
       "7  11 3     65   65      65     \n",
       "8  17 5     65   68      98     \n",
       "9   2 1     60   97      60     \n",
       "10 16 4     58   98      65     \n",
       "11  1 1     50   98      50     \n",
       "12  6 2     50   89      98     \n",
       "13 10 3     50   98      45     \n",
       "14 14 4     48   87      12     \n",
       "15 13 4     46   98      65     \n",
       "16  3 1     45   86      78     \n",
       "17 12 3     45   85      32     \n",
       "18  4 1     30   98      58     \n",
       "19  5 2     25   80      65     \n",
       "20  9 3     20   98      15     "
      ]
     },
     "metadata": {},
     "output_type": "display_data"
    }
   ],
   "source": [
    "exam %>% arrange(desc(math))  # math 내림차순 정렬"
   ]
  },
  {
   "cell_type": "markdown",
   "metadata": {},
   "source": [
    "정렬 기준으로 삼을 변수 여러 개 지정하려면 쉼표를 이용해 변수명을 나열하면 된다.\n",
    "\n",
    "아래 코드를 실행하면 먼저 반을 기준으로 오름차순 정렬한 후 각 반에서 수학 점수를 기준으로 오름차순 정렬해 출력한다."
   ]
  },
  {
   "cell_type": "code",
   "execution_count": 38,
   "metadata": {},
   "outputs": [
    {
     "data": {
      "text/html": [
       "<table>\n",
       "<thead><tr><th scope=col>id</th><th scope=col>class</th><th scope=col>math</th><th scope=col>english</th><th scope=col>science</th></tr></thead>\n",
       "<tbody>\n",
       "\t<tr><td> 4</td><td>1 </td><td>30</td><td>98</td><td>58</td></tr>\n",
       "\t<tr><td> 3</td><td>1 </td><td>45</td><td>86</td><td>78</td></tr>\n",
       "\t<tr><td> 1</td><td>1 </td><td>50</td><td>98</td><td>50</td></tr>\n",
       "\t<tr><td> 2</td><td>1 </td><td>60</td><td>97</td><td>60</td></tr>\n",
       "\t<tr><td> 5</td><td>2 </td><td>25</td><td>80</td><td>65</td></tr>\n",
       "\t<tr><td> 6</td><td>2 </td><td>50</td><td>89</td><td>98</td></tr>\n",
       "\t<tr><td> 7</td><td>2 </td><td>80</td><td>90</td><td>45</td></tr>\n",
       "\t<tr><td> 8</td><td>2 </td><td>90</td><td>78</td><td>25</td></tr>\n",
       "\t<tr><td> 9</td><td>3 </td><td>20</td><td>98</td><td>15</td></tr>\n",
       "\t<tr><td>12</td><td>3 </td><td>45</td><td>85</td><td>32</td></tr>\n",
       "\t<tr><td>10</td><td>3 </td><td>50</td><td>98</td><td>45</td></tr>\n",
       "\t<tr><td>11</td><td>3 </td><td>65</td><td>65</td><td>65</td></tr>\n",
       "\t<tr><td>13</td><td>4 </td><td>46</td><td>98</td><td>65</td></tr>\n",
       "\t<tr><td>14</td><td>4 </td><td>48</td><td>87</td><td>12</td></tr>\n",
       "\t<tr><td>16</td><td>4 </td><td>58</td><td>98</td><td>65</td></tr>\n",
       "\t<tr><td>15</td><td>4 </td><td>75</td><td>56</td><td>78</td></tr>\n",
       "\t<tr><td>17</td><td>5 </td><td>65</td><td>68</td><td>98</td></tr>\n",
       "\t<tr><td>20</td><td>5 </td><td>78</td><td>83</td><td>58</td></tr>\n",
       "\t<tr><td>18</td><td>5 </td><td>80</td><td>78</td><td>90</td></tr>\n",
       "\t<tr><td>19</td><td>5 </td><td>89</td><td>68</td><td>87</td></tr>\n",
       "</tbody>\n",
       "</table>\n"
      ],
      "text/latex": [
       "\\begin{tabular}{r|lllll}\n",
       " id & class & math & english & science\\\\\n",
       "\\hline\n",
       "\t  4 & 1  & 30 & 98 & 58\\\\\n",
       "\t  3 & 1  & 45 & 86 & 78\\\\\n",
       "\t  1 & 1  & 50 & 98 & 50\\\\\n",
       "\t  2 & 1  & 60 & 97 & 60\\\\\n",
       "\t  5 & 2  & 25 & 80 & 65\\\\\n",
       "\t  6 & 2  & 50 & 89 & 98\\\\\n",
       "\t  7 & 2  & 80 & 90 & 45\\\\\n",
       "\t  8 & 2  & 90 & 78 & 25\\\\\n",
       "\t  9 & 3  & 20 & 98 & 15\\\\\n",
       "\t 12 & 3  & 45 & 85 & 32\\\\\n",
       "\t 10 & 3  & 50 & 98 & 45\\\\\n",
       "\t 11 & 3  & 65 & 65 & 65\\\\\n",
       "\t 13 & 4  & 46 & 98 & 65\\\\\n",
       "\t 14 & 4  & 48 & 87 & 12\\\\\n",
       "\t 16 & 4  & 58 & 98 & 65\\\\\n",
       "\t 15 & 4  & 75 & 56 & 78\\\\\n",
       "\t 17 & 5  & 65 & 68 & 98\\\\\n",
       "\t 20 & 5  & 78 & 83 & 58\\\\\n",
       "\t 18 & 5  & 80 & 78 & 90\\\\\n",
       "\t 19 & 5  & 89 & 68 & 87\\\\\n",
       "\\end{tabular}\n"
      ],
      "text/markdown": [
       "\n",
       "| id | class | math | english | science |\n",
       "|---|---|---|---|---|\n",
       "|  4 | 1  | 30 | 98 | 58 |\n",
       "|  3 | 1  | 45 | 86 | 78 |\n",
       "|  1 | 1  | 50 | 98 | 50 |\n",
       "|  2 | 1  | 60 | 97 | 60 |\n",
       "|  5 | 2  | 25 | 80 | 65 |\n",
       "|  6 | 2  | 50 | 89 | 98 |\n",
       "|  7 | 2  | 80 | 90 | 45 |\n",
       "|  8 | 2  | 90 | 78 | 25 |\n",
       "|  9 | 3  | 20 | 98 | 15 |\n",
       "| 12 | 3  | 45 | 85 | 32 |\n",
       "| 10 | 3  | 50 | 98 | 45 |\n",
       "| 11 | 3  | 65 | 65 | 65 |\n",
       "| 13 | 4  | 46 | 98 | 65 |\n",
       "| 14 | 4  | 48 | 87 | 12 |\n",
       "| 16 | 4  | 58 | 98 | 65 |\n",
       "| 15 | 4  | 75 | 56 | 78 |\n",
       "| 17 | 5  | 65 | 68 | 98 |\n",
       "| 20 | 5  | 78 | 83 | 58 |\n",
       "| 18 | 5  | 80 | 78 | 90 |\n",
       "| 19 | 5  | 89 | 68 | 87 |\n",
       "\n"
      ],
      "text/plain": [
       "   id class math english science\n",
       "1   4 1     30   98      58     \n",
       "2   3 1     45   86      78     \n",
       "3   1 1     50   98      50     \n",
       "4   2 1     60   97      60     \n",
       "5   5 2     25   80      65     \n",
       "6   6 2     50   89      98     \n",
       "7   7 2     80   90      45     \n",
       "8   8 2     90   78      25     \n",
       "9   9 3     20   98      15     \n",
       "10 12 3     45   85      32     \n",
       "11 10 3     50   98      45     \n",
       "12 11 3     65   65      65     \n",
       "13 13 4     46   98      65     \n",
       "14 14 4     48   87      12     \n",
       "15 16 4     58   98      65     \n",
       "16 15 4     75   56      78     \n",
       "17 17 5     65   68      98     \n",
       "18 20 5     78   83      58     \n",
       "19 18 5     80   78      90     \n",
       "20 19 5     89   68      87     "
      ]
     },
     "metadata": {},
     "output_type": "display_data"
    }
   ],
   "source": [
    "exam %>% arrange(class, math)  # class 및 math 오른차순 정렬"
   ]
  },
  {
   "cell_type": "markdown",
   "metadata": {},
   "source": [
    "## 06-5 파생변수 추가하기\n",
    "\n",
    "mutate()를 사용하면 기존 데이터에 파생변수를 만들어 추가할 수 있다.\n",
    "\n",
    "mutate()에 새로 만들 변수명과 변수를 만들 때 사용할 공식을 입력한다."
   ]
  },
  {
   "cell_type": "markdown",
   "metadata": {},
   "source": [
    "### 파생변수 추가하기"
   ]
  },
  {
   "cell_type": "markdown",
   "metadata": {},
   "source": [
    "#### 1. exam에 세 과목의 점수를 모두 합한 총합 변수를 만들어 추가한 후 일부를 출력해 본다.\n",
    "\n",
    "여기서는 total이라는 변수명을 사용했는데, 변수명은 원하는 단어로 지정하면 된다."
   ]
  },
  {
   "cell_type": "code",
   "execution_count": 40,
   "metadata": {},
   "outputs": [
    {
     "data": {
      "text/html": [
       "<table>\n",
       "<thead><tr><th scope=col>id</th><th scope=col>class</th><th scope=col>math</th><th scope=col>english</th><th scope=col>science</th><th scope=col>total</th></tr></thead>\n",
       "<tbody>\n",
       "\t<tr><td>1  </td><td>1  </td><td>50 </td><td>98 </td><td>50 </td><td>198</td></tr>\n",
       "\t<tr><td>2  </td><td>1  </td><td>60 </td><td>97 </td><td>60 </td><td>217</td></tr>\n",
       "\t<tr><td>3  </td><td>1  </td><td>45 </td><td>86 </td><td>78 </td><td>209</td></tr>\n",
       "\t<tr><td>4  </td><td>1  </td><td>30 </td><td>98 </td><td>58 </td><td>186</td></tr>\n",
       "\t<tr><td>5  </td><td>2  </td><td>25 </td><td>80 </td><td>65 </td><td>170</td></tr>\n",
       "\t<tr><td>6  </td><td>2  </td><td>50 </td><td>89 </td><td>98 </td><td>237</td></tr>\n",
       "</tbody>\n",
       "</table>\n"
      ],
      "text/latex": [
       "\\begin{tabular}{r|llllll}\n",
       " id & class & math & english & science & total\\\\\n",
       "\\hline\n",
       "\t 1   & 1   & 50  & 98  & 50  & 198\\\\\n",
       "\t 2   & 1   & 60  & 97  & 60  & 217\\\\\n",
       "\t 3   & 1   & 45  & 86  & 78  & 209\\\\\n",
       "\t 4   & 1   & 30  & 98  & 58  & 186\\\\\n",
       "\t 5   & 2   & 25  & 80  & 65  & 170\\\\\n",
       "\t 6   & 2   & 50  & 89  & 98  & 237\\\\\n",
       "\\end{tabular}\n"
      ],
      "text/markdown": [
       "\n",
       "| id | class | math | english | science | total |\n",
       "|---|---|---|---|---|---|\n",
       "| 1   | 1   | 50  | 98  | 50  | 198 |\n",
       "| 2   | 1   | 60  | 97  | 60  | 217 |\n",
       "| 3   | 1   | 45  | 86  | 78  | 209 |\n",
       "| 4   | 1   | 30  | 98  | 58  | 186 |\n",
       "| 5   | 2   | 25  | 80  | 65  | 170 |\n",
       "| 6   | 2   | 50  | 89  | 98  | 237 |\n",
       "\n"
      ],
      "text/plain": [
       "  id class math english science total\n",
       "1 1  1     50   98      50      198  \n",
       "2 2  1     60   97      60      217  \n",
       "3 3  1     45   86      78      209  \n",
       "4 4  1     30   98      58      186  \n",
       "5 5  2     25   80      65      170  \n",
       "6 6  2     50   89      98      237  "
      ]
     },
     "metadata": {},
     "output_type": "display_data"
    }
   ],
   "source": [
    "exam %>% \n",
    "    mutate(total = math + english + science) %>%  # 총합 변수 추가\n",
    "    head                                          # 일부 추출"
   ]
  },
  {
   "cell_type": "markdown",
   "metadata": {},
   "source": [
    "#### 2. 여러 파생변수 한 번에 추가하기\n",
    "\n",
    "여러 파생변수를 한 번에 추가할 수 있다. \n",
    "\n",
    "쉼표를 이용해 새 변수명과 변수를 만드는 공식을 나열하면 된다."
   ]
  },
  {
   "cell_type": "code",
   "execution_count": 44,
   "metadata": {},
   "outputs": [
    {
     "data": {
      "text/html": [
       "<table>\n",
       "<thead><tr><th scope=col>id</th><th scope=col>class</th><th scope=col>math</th><th scope=col>english</th><th scope=col>science</th><th scope=col>total</th><th scope=col>mean</th></tr></thead>\n",
       "<tbody>\n",
       "\t<tr><td>1       </td><td>1       </td><td>50      </td><td>98      </td><td>50      </td><td>198     </td><td>66.00000</td></tr>\n",
       "\t<tr><td>2       </td><td>1       </td><td>60      </td><td>97      </td><td>60      </td><td>217     </td><td>72.33333</td></tr>\n",
       "\t<tr><td>3       </td><td>1       </td><td>45      </td><td>86      </td><td>78      </td><td>209     </td><td>69.66667</td></tr>\n",
       "\t<tr><td>4       </td><td>1       </td><td>30      </td><td>98      </td><td>58      </td><td>186     </td><td>62.00000</td></tr>\n",
       "\t<tr><td>5       </td><td>2       </td><td>25      </td><td>80      </td><td>65      </td><td>170     </td><td>56.66667</td></tr>\n",
       "\t<tr><td>6       </td><td>2       </td><td>50      </td><td>89      </td><td>98      </td><td>237     </td><td>79.00000</td></tr>\n",
       "</tbody>\n",
       "</table>\n"
      ],
      "text/latex": [
       "\\begin{tabular}{r|lllllll}\n",
       " id & class & math & english & science & total & mean\\\\\n",
       "\\hline\n",
       "\t 1        & 1        & 50       & 98       & 50       & 198      & 66.00000\\\\\n",
       "\t 2        & 1        & 60       & 97       & 60       & 217      & 72.33333\\\\\n",
       "\t 3        & 1        & 45       & 86       & 78       & 209      & 69.66667\\\\\n",
       "\t 4        & 1        & 30       & 98       & 58       & 186      & 62.00000\\\\\n",
       "\t 5        & 2        & 25       & 80       & 65       & 170      & 56.66667\\\\\n",
       "\t 6        & 2        & 50       & 89       & 98       & 237      & 79.00000\\\\\n",
       "\\end{tabular}\n"
      ],
      "text/markdown": [
       "\n",
       "| id | class | math | english | science | total | mean |\n",
       "|---|---|---|---|---|---|---|\n",
       "| 1        | 1        | 50       | 98       | 50       | 198      | 66.00000 |\n",
       "| 2        | 1        | 60       | 97       | 60       | 217      | 72.33333 |\n",
       "| 3        | 1        | 45       | 86       | 78       | 209      | 69.66667 |\n",
       "| 4        | 1        | 30       | 98       | 58       | 186      | 62.00000 |\n",
       "| 5        | 2        | 25       | 80       | 65       | 170      | 56.66667 |\n",
       "| 6        | 2        | 50       | 89       | 98       | 237      | 79.00000 |\n",
       "\n"
      ],
      "text/plain": [
       "  id class math english science total mean    \n",
       "1 1  1     50   98      50      198   66.00000\n",
       "2 2  1     60   97      60      217   72.33333\n",
       "3 3  1     45   86      78      209   69.66667\n",
       "4 4  1     30   98      58      186   62.00000\n",
       "5 5  2     25   80      65      170   56.66667\n",
       "6 6  2     50   89      98      237   79.00000"
      ]
     },
     "metadata": {},
     "output_type": "display_data"
    }
   ],
   "source": [
    "exam %>%  \n",
    "    mutate(total = math + english + science,          # 총합 변수 추가\n",
    "          mean = (math + english + science) / 3) %>%  # 총평균 변수 추가\n",
    "    head                                              # 일부 추출"
   ]
  },
  {
   "cell_type": "markdown",
   "metadata": {},
   "source": [
    "#### 3. mutate()에 ifelse() 적용하기\n",
    "\n",
    "mutate()에 ifelse()를 적용하면 조건에 따라 다른 값을 부여한 변수를 추가할 수 있다."
   ]
  },
  {
   "cell_type": "code",
   "execution_count": 46,
   "metadata": {},
   "outputs": [
    {
     "data": {
      "text/html": [
       "<table>\n",
       "<thead><tr><th scope=col>id</th><th scope=col>class</th><th scope=col>math</th><th scope=col>english</th><th scope=col>science</th><th scope=col>test</th></tr></thead>\n",
       "<tbody>\n",
       "\t<tr><td>1   </td><td>1   </td><td>50  </td><td>98  </td><td>50  </td><td>fail</td></tr>\n",
       "\t<tr><td>2   </td><td>1   </td><td>60  </td><td>97  </td><td>60  </td><td>pass</td></tr>\n",
       "\t<tr><td>3   </td><td>1   </td><td>45  </td><td>86  </td><td>78  </td><td>pass</td></tr>\n",
       "\t<tr><td>4   </td><td>1   </td><td>30  </td><td>98  </td><td>58  </td><td>fail</td></tr>\n",
       "\t<tr><td>5   </td><td>2   </td><td>25  </td><td>80  </td><td>65  </td><td>pass</td></tr>\n",
       "\t<tr><td>6   </td><td>2   </td><td>50  </td><td>89  </td><td>98  </td><td>pass</td></tr>\n",
       "</tbody>\n",
       "</table>\n"
      ],
      "text/latex": [
       "\\begin{tabular}{r|llllll}\n",
       " id & class & math & english & science & test\\\\\n",
       "\\hline\n",
       "\t 1    & 1    & 50   & 98   & 50   & fail\\\\\n",
       "\t 2    & 1    & 60   & 97   & 60   & pass\\\\\n",
       "\t 3    & 1    & 45   & 86   & 78   & pass\\\\\n",
       "\t 4    & 1    & 30   & 98   & 58   & fail\\\\\n",
       "\t 5    & 2    & 25   & 80   & 65   & pass\\\\\n",
       "\t 6    & 2    & 50   & 89   & 98   & pass\\\\\n",
       "\\end{tabular}\n"
      ],
      "text/markdown": [
       "\n",
       "| id | class | math | english | science | test |\n",
       "|---|---|---|---|---|---|\n",
       "| 1    | 1    | 50   | 98   | 50   | fail |\n",
       "| 2    | 1    | 60   | 97   | 60   | pass |\n",
       "| 3    | 1    | 45   | 86   | 78   | pass |\n",
       "| 4    | 1    | 30   | 98   | 58   | fail |\n",
       "| 5    | 2    | 25   | 80   | 65   | pass |\n",
       "| 6    | 2    | 50   | 89   | 98   | pass |\n",
       "\n"
      ],
      "text/plain": [
       "  id class math english science test\n",
       "1 1  1     50   98      50      fail\n",
       "2 2  1     60   97      60      pass\n",
       "3 3  1     45   86      78      pass\n",
       "4 4  1     30   98      58      fail\n",
       "5 5  2     25   80      65      pass\n",
       "6 6  2     50   89      98      pass"
      ]
     },
     "metadata": {},
     "output_type": "display_data"
    }
   ],
   "source": [
    "exam %>% \n",
    "    mutate(test = ifelse(science >= 60, \"pass\", \"fail\")) %>% \n",
    "    head"
   ]
  },
  {
   "cell_type": "markdown",
   "metadata": {},
   "source": [
    "#### 4. 추가한 변수를 dplyr 코드에 바로 활용하기\n",
    "\n",
    "변수를 추가하고 나면 이어지는 dplyr 코드에 바로 활용할 수 있다.\n",
    "\n",
    "아래 코드를 실행하면 mutate()로 추가한 변수를 arrange()에서 기준으로 삼아 정렬해 일부를 출력한다."
   ]
  },
  {
   "cell_type": "code",
   "execution_count": 48,
   "metadata": {},
   "outputs": [
    {
     "data": {
      "text/html": [
       "<table>\n",
       "<thead><tr><th scope=col>id</th><th scope=col>class</th><th scope=col>math</th><th scope=col>english</th><th scope=col>science</th><th scope=col>total</th></tr></thead>\n",
       "<tbody>\n",
       "\t<tr><td> 9 </td><td>3  </td><td>20 </td><td>98 </td><td>15 </td><td>133</td></tr>\n",
       "\t<tr><td>14 </td><td>4  </td><td>48 </td><td>87 </td><td>12 </td><td>147</td></tr>\n",
       "\t<tr><td>12 </td><td>3  </td><td>45 </td><td>85 </td><td>32 </td><td>162</td></tr>\n",
       "\t<tr><td> 5 </td><td>2  </td><td>25 </td><td>80 </td><td>65 </td><td>170</td></tr>\n",
       "\t<tr><td> 4 </td><td>1  </td><td>30 </td><td>98 </td><td>58 </td><td>186</td></tr>\n",
       "\t<tr><td> 8 </td><td>2  </td><td>90 </td><td>78 </td><td>25 </td><td>193</td></tr>\n",
       "</tbody>\n",
       "</table>\n"
      ],
      "text/latex": [
       "\\begin{tabular}{r|llllll}\n",
       " id & class & math & english & science & total\\\\\n",
       "\\hline\n",
       "\t  9  & 3   & 20  & 98  & 15  & 133\\\\\n",
       "\t 14  & 4   & 48  & 87  & 12  & 147\\\\\n",
       "\t 12  & 3   & 45  & 85  & 32  & 162\\\\\n",
       "\t  5  & 2   & 25  & 80  & 65  & 170\\\\\n",
       "\t  4  & 1   & 30  & 98  & 58  & 186\\\\\n",
       "\t  8  & 2   & 90  & 78  & 25  & 193\\\\\n",
       "\\end{tabular}\n"
      ],
      "text/markdown": [
       "\n",
       "| id | class | math | english | science | total |\n",
       "|---|---|---|---|---|---|\n",
       "|  9  | 3   | 20  | 98  | 15  | 133 |\n",
       "| 14  | 4   | 48  | 87  | 12  | 147 |\n",
       "| 12  | 3   | 45  | 85  | 32  | 162 |\n",
       "|  5  | 2   | 25  | 80  | 65  | 170 |\n",
       "|  4  | 1   | 30  | 98  | 58  | 186 |\n",
       "|  8  | 2   | 90  | 78  | 25  | 193 |\n",
       "\n"
      ],
      "text/plain": [
       "  id class math english science total\n",
       "1  9 3     20   98      15      133  \n",
       "2 14 4     48   87      12      147  \n",
       "3 12 3     45   85      32      162  \n",
       "4  5 2     25   80      65      170  \n",
       "5  4 1     30   98      58      186  \n",
       "6  8 2     90   78      25      193  "
      ]
     },
     "metadata": {},
     "output_type": "display_data"
    }
   ],
   "source": [
    "exam %>% \n",
    "    mutate(total = math + english + science) %>%  # 총합 변수 추가\n",
    "    arrange(total) %>%                            # 총합 변수 기준 정렬\n",
    "    head                                          # 일부 추출"
   ]
  },
  {
   "cell_type": "markdown",
   "metadata": {},
   "source": [
    "#### dplyr 함수에는 데이터 프레임명을 반복 입력하지 않는다.\n",
    "\n",
    "dplyr 패키지 함수들은 변수면 앞에 데이터 프레임명을 반복해 입력하지 않기 때문에 코드가 간결해진다는 장점이 있다.\n",
    "\n",
    "dplyr 함수 대신 기본 문법을 이용하면 변수명 앞에 데이터 프레임명을 반복해 입력한다."
   ]
  },
  {
   "cell_type": "code",
   "execution_count": 50,
   "metadata": {},
   "outputs": [],
   "source": [
    "# 예) \"df$var_sum <- df$var1 + df$var2\""
   ]
  },
  {
   "cell_type": "markdown",
   "metadata": {},
   "source": [
    "데이터 프레임명이 길수록, 코드를 구성하는 함수가 많을수록 dplyr 패키지의 장점이 드러난다."
   ]
  },
  {
   "cell_type": "markdown",
   "metadata": {},
   "source": [
    "## 06-6 집단별로 요약하기\n",
    "\n",
    "집단별 평균이나 집단별 빈도처럼 각 집단을 요약한 값을 구할 때는 group_by()와 summarise()를 사용한다.\n",
    "\n",
    "이 함수들을 이용해 요약표를 만들면 집단 간에 어떤 차이가 있는지 쉽게 파악할 수 있다."
   ]
  },
  {
   "cell_type": "markdown",
   "metadata": {},
   "source": [
    "### 집단별로 요약하기"
   ]
  },
  {
   "cell_type": "markdown",
   "metadata": {},
   "source": [
    "#### 1. 먼저 summarise()를 사용해 본다\n",
    "\n",
    "아래 코드는 수학 점수 평균을 구한 후 mean_math라는 새 변수에 할당해 출력하는 기능을 한다.\n",
    "\n",
    "변수명은 mutate()를 사용할 때와 마찬가지로 자유롭게 정하면 된다."
   ]
  },
  {
   "cell_type": "code",
   "execution_count": 51,
   "metadata": {},
   "outputs": [
    {
     "data": {
      "text/html": [
       "<table>\n",
       "<thead><tr><th scope=col>mean_math</th></tr></thead>\n",
       "<tbody>\n",
       "\t<tr><td>57.45</td></tr>\n",
       "</tbody>\n",
       "</table>\n"
      ],
      "text/latex": [
       "\\begin{tabular}{r|l}\n",
       " mean\\_math\\\\\n",
       "\\hline\n",
       "\t 57.45\\\\\n",
       "\\end{tabular}\n"
      ],
      "text/markdown": [
       "\n",
       "| mean_math |\n",
       "|---|\n",
       "| 57.45 |\n",
       "\n"
      ],
      "text/plain": [
       "  mean_math\n",
       "1 57.45    "
      ]
     },
     "metadata": {},
     "output_type": "display_data"
    }
   ],
   "source": [
    "exam %>% summarise(mean_math = mean(math))  # math 평균 산출"
   ]
  },
  {
   "cell_type": "markdown",
   "metadata": {},
   "source": [
    "평균을 구한다면 간단히 mean()을 이용하면 된다.\n",
    "\n",
    "summarise()는 전체를 요약한 값을 구하기보다는 아래처럼 group_by()와 조합해 집단별 요약표를 만들 때 사용한다."
   ]
  },
  {
   "cell_type": "markdown",
   "metadata": {},
   "source": [
    "#### 2. 집단별로 요약하기\n",
    "\n",
    "group_by()에 변수를 지정하면 변수 항목별로 데이터를 분리한다.\n",
    "\n",
    "여기에 summarise()를 조합하면 집단별 요약 통계량을 산출한다.\n",
    "\n",
    "아래 코드는 반별 수학 점수 평균을 산출하는 기능을 한다."
   ]
  },
  {
   "cell_type": "code",
   "execution_count": 53,
   "metadata": {},
   "outputs": [
    {
     "data": {
      "text/html": [
       "<table>\n",
       "<thead><tr><th scope=col>class</th><th scope=col>mean_math</th></tr></thead>\n",
       "<tbody>\n",
       "\t<tr><td>1    </td><td>46.25</td></tr>\n",
       "\t<tr><td>2    </td><td>61.25</td></tr>\n",
       "\t<tr><td>3    </td><td>45.00</td></tr>\n",
       "\t<tr><td>4    </td><td>56.75</td></tr>\n",
       "\t<tr><td>5    </td><td>78.00</td></tr>\n",
       "</tbody>\n",
       "</table>\n"
      ],
      "text/latex": [
       "\\begin{tabular}{r|ll}\n",
       " class & mean\\_math\\\\\n",
       "\\hline\n",
       "\t 1     & 46.25\\\\\n",
       "\t 2     & 61.25\\\\\n",
       "\t 3     & 45.00\\\\\n",
       "\t 4     & 56.75\\\\\n",
       "\t 5     & 78.00\\\\\n",
       "\\end{tabular}\n"
      ],
      "text/markdown": [
       "\n",
       "| class | mean_math |\n",
       "|---|---|\n",
       "| 1     | 46.25 |\n",
       "| 2     | 61.25 |\n",
       "| 3     | 45.00 |\n",
       "| 4     | 56.75 |\n",
       "| 5     | 78.00 |\n",
       "\n"
      ],
      "text/plain": [
       "  class mean_math\n",
       "1 1     46.25    \n",
       "2 2     61.25    \n",
       "3 3     45.00    \n",
       "4 4     56.75    \n",
       "5 5     78.00    "
      ]
     },
     "metadata": {},
     "output_type": "display_data"
    }
   ],
   "source": [
    "exam %>% \n",
    "    group_by(class) %>% \n",
    "    summarise(mean_math = mean(math))"
   ]
  },
  {
   "cell_type": "markdown",
   "metadata": {},
   "source": [
    "※ 출력 결과의 첫 번째 행 'A tibble: 5 x 2'는 데이터가 5행 2열의 tibble 형태라는 것을 의미한다.\n",
    "\n",
    "group_by()는 출력 결과를 데이터 프레임의 업그레이드 버전인 tibble 형태로 만들어 준다.\n",
    "\n",
    "tibble은 데이터 프레임에 몇 가지 기능이 추가된 것으로, 데이터 프레임을 다룰 때와 동일한 방식으로 활용할 수 있다.\n",
    "\n",
    "변수명 아래 <int>, <dbl>은 변수의 속성을 나타낸다.\n",
    "    \n",
    "int는 정수(integer), dbl은 소수점이 있는 숫자(double, 부동 소수점)를 의미한다."
   ]
  },
  {
   "cell_type": "markdown",
   "metadata": {},
   "source": [
    "#### 3. 여러 요약 통계량 한 번에 산출하기\n",
    "\n",
    "mutate()로 여러 변수를 동시에 추가했던 것과 마찬가지로 summarise()로도 여러 요약 통계량을 한 번에 산출할 수 있다."
   ]
  },
  {
   "cell_type": "code",
   "execution_count": 54,
   "metadata": {},
   "outputs": [
    {
     "data": {
      "text/html": [
       "<table>\n",
       "<thead><tr><th scope=col>class</th><th scope=col>mean_math</th><th scope=col>sum_math</th><th scope=col>median_math</th><th scope=col>n</th></tr></thead>\n",
       "<tbody>\n",
       "\t<tr><td>1    </td><td>46.25</td><td>185  </td><td>47.5 </td><td>4    </td></tr>\n",
       "\t<tr><td>2    </td><td>61.25</td><td>245  </td><td>65.0 </td><td>4    </td></tr>\n",
       "\t<tr><td>3    </td><td>45.00</td><td>180  </td><td>47.5 </td><td>4    </td></tr>\n",
       "\t<tr><td>4    </td><td>56.75</td><td>227  </td><td>53.0 </td><td>4    </td></tr>\n",
       "\t<tr><td>5    </td><td>78.00</td><td>312  </td><td>79.0 </td><td>4    </td></tr>\n",
       "</tbody>\n",
       "</table>\n"
      ],
      "text/latex": [
       "\\begin{tabular}{r|lllll}\n",
       " class & mean\\_math & sum\\_math & median\\_math & n\\\\\n",
       "\\hline\n",
       "\t 1     & 46.25 & 185   & 47.5  & 4    \\\\\n",
       "\t 2     & 61.25 & 245   & 65.0  & 4    \\\\\n",
       "\t 3     & 45.00 & 180   & 47.5  & 4    \\\\\n",
       "\t 4     & 56.75 & 227   & 53.0  & 4    \\\\\n",
       "\t 5     & 78.00 & 312   & 79.0  & 4    \\\\\n",
       "\\end{tabular}\n"
      ],
      "text/markdown": [
       "\n",
       "| class | mean_math | sum_math | median_math | n |\n",
       "|---|---|---|---|---|\n",
       "| 1     | 46.25 | 185   | 47.5  | 4     |\n",
       "| 2     | 61.25 | 245   | 65.0  | 4     |\n",
       "| 3     | 45.00 | 180   | 47.5  | 4     |\n",
       "| 4     | 56.75 | 227   | 53.0  | 4     |\n",
       "| 5     | 78.00 | 312   | 79.0  | 4     |\n",
       "\n"
      ],
      "text/plain": [
       "  class mean_math sum_math median_math n\n",
       "1 1     46.25     185      47.5        4\n",
       "2 2     61.25     245      65.0        4\n",
       "3 3     45.00     180      47.5        4\n",
       "4 4     56.75     227      53.0        4\n",
       "5 5     78.00     312      79.0        4"
      ]
     },
     "metadata": {},
     "output_type": "display_data"
    }
   ],
   "source": [
    "exam %>% \n",
    "    group_by(class) %>%                  # class별로 분리\n",
    "    summarise(mean_math = mean(math),    # math 평균\n",
    "             sum_math = sum(math),       # math 합계\n",
    "             median_math = median(math), # math 중앙값\n",
    "             n = n())                    # 학생 수"
   ]
  },
  {
   "cell_type": "markdown",
   "metadata": {},
   "source": [
    "코드 맨 아랫줄에 있는 n()은 데이터가 몇 행으로 되어 있는지 '빈도'를 구하는 기능을 한다.\n",
    "\n",
    "여기서는 group_by()를 이용해 반별로 집단을 나눴으니 각 반에 몇 명의 학생이 있는지 나타내게 된다.\n",
    "\n",
    "출력 결과의 n 변수 열을 보면 각 반의 빈도가 4이므로, 반별로 네 명의 학생이 있다는 것을 알 수 있다.\n",
    "\n",
    "n()은 특정 변수에 적용되는 게 아니라 행 개수를 세는 것이기 때문에 다른 함수와 달리 괄호 안에 변수명을 입력하지 않는다.\n",
    "\n",
    "아래는 summarise()에 자주 사용하는 요약 통계량 함수이다.\n",
    "\n",
    "- mean() : 평균\n",
    "- sd() : 표준편차\n",
    "- sum() : 합계\n",
    "- median() : 중앙값\n",
    "- min() : 최솟값\n",
    "- max() : 최댓값\n",
    "- n() : 빈도"
   ]
  },
  {
   "cell_type": "markdown",
   "metadata": {},
   "source": [
    "#### 4. 각 집단별로 다시 집단 나누기\n",
    "\n",
    "group_by()에 여러 변수를 지정하면 집단을 나눈 후 다시 하위 집단으로 나눌 수 있다.\n",
    "\n",
    "예를 들어 성적 데이터를 반별로 나눈 후 다시 성별로 나눠 각 반의 성별 평균 점수를 구할 수 있다.\n",
    "\n",
    "여기서는 mpg 데이터를 이용해 하위 집단별 평균을 구해 본다.\n",
    "\n",
    "회사별 집단을 나눈 후 다시 구동 방식별로 나눠 도시 연비 평균을 구한다."
   ]
  },
  {
   "cell_type": "code",
   "execution_count": 57,
   "metadata": {},
   "outputs": [
    {
     "data": {
      "text/html": [
       "<table>\n",
       "<thead><tr><th scope=col>manufacturer</th><th scope=col>drv</th><th scope=col>mean_cty</th></tr></thead>\n",
       "<tbody>\n",
       "\t<tr><td>audi     </td><td>4        </td><td>16.81818 </td></tr>\n",
       "\t<tr><td>audi     </td><td>f        </td><td>18.85714 </td></tr>\n",
       "\t<tr><td>chevrolet</td><td>4        </td><td>12.50000 </td></tr>\n",
       "\t<tr><td>chevrolet</td><td>f        </td><td>18.80000 </td></tr>\n",
       "\t<tr><td>chevrolet</td><td>r        </td><td>14.10000 </td></tr>\n",
       "\t<tr><td>dodge    </td><td>4        </td><td>12.00000 </td></tr>\n",
       "\t<tr><td>dodge    </td><td>f        </td><td>15.81818 </td></tr>\n",
       "\t<tr><td>ford     </td><td>4        </td><td>13.30769 </td></tr>\n",
       "\t<tr><td>ford     </td><td>r        </td><td>14.75000 </td></tr>\n",
       "\t<tr><td>honda    </td><td>f        </td><td>24.44444 </td></tr>\n",
       "</tbody>\n",
       "</table>\n"
      ],
      "text/latex": [
       "\\begin{tabular}{r|lll}\n",
       " manufacturer & drv & mean\\_cty\\\\\n",
       "\\hline\n",
       "\t audi      & 4         & 16.81818 \\\\\n",
       "\t audi      & f         & 18.85714 \\\\\n",
       "\t chevrolet & 4         & 12.50000 \\\\\n",
       "\t chevrolet & f         & 18.80000 \\\\\n",
       "\t chevrolet & r         & 14.10000 \\\\\n",
       "\t dodge     & 4         & 12.00000 \\\\\n",
       "\t dodge     & f         & 15.81818 \\\\\n",
       "\t ford      & 4         & 13.30769 \\\\\n",
       "\t ford      & r         & 14.75000 \\\\\n",
       "\t honda     & f         & 24.44444 \\\\\n",
       "\\end{tabular}\n"
      ],
      "text/markdown": [
       "\n",
       "| manufacturer | drv | mean_cty |\n",
       "|---|---|---|\n",
       "| audi      | 4         | 16.81818  |\n",
       "| audi      | f         | 18.85714  |\n",
       "| chevrolet | 4         | 12.50000  |\n",
       "| chevrolet | f         | 18.80000  |\n",
       "| chevrolet | r         | 14.10000  |\n",
       "| dodge     | 4         | 12.00000  |\n",
       "| dodge     | f         | 15.81818  |\n",
       "| ford      | 4         | 13.30769  |\n",
       "| ford      | r         | 14.75000  |\n",
       "| honda     | f         | 24.44444  |\n",
       "\n"
      ],
      "text/plain": [
       "   manufacturer drv mean_cty\n",
       "1  audi         4   16.81818\n",
       "2  audi         f   18.85714\n",
       "3  chevrolet    4   12.50000\n",
       "4  chevrolet    f   18.80000\n",
       "5  chevrolet    r   14.10000\n",
       "6  dodge        4   12.00000\n",
       "7  dodge        f   15.81818\n",
       "8  ford         4   13.30769\n",
       "9  ford         r   14.75000\n",
       "10 honda        f   24.44444"
      ]
     },
     "metadata": {},
     "output_type": "display_data"
    }
   ],
   "source": [
    "mpg %>% \n",
    "    group_by(manufacturer, drv) %>% \n",
    "    summarise(mean_cty = mean(cty)) %>% \n",
    "    head(10)"
   ]
  },
  {
   "cell_type": "markdown",
   "metadata": {},
   "source": [
    "출력 결과를 보면 각 회사별로 구동 방식에 따라 연비가 어떻게 다른지 알 수 있다.\n",
    "\n",
    "drv 변수에서 4는 사륜구동, f는 전륜구동, r은 후륜구동을 의미한다.\n",
    "\n",
    "어떤 회사의 drv가 두 종류밖에 없는 것은 해당 회사가 두 종류의 자동차만 생산하기 때문이다."
   ]
  },
  {
   "cell_type": "markdown",
   "metadata": {},
   "source": [
    "### dplyr 조합하기\n",
    "\n",
    "dplyr 패키지는 함수를 조합할 때 진가를 발휘한다.\n",
    "\n",
    "절차가 복잡해 보이는 분석도 dplyr 함수를 조합하면 코드 몇 줄로 간단히 해결할 수 있다.\n",
    "\n",
    "지금까지 다룬 dplyr 함수들을 하나의 구문으로 조합해 아래 분석 문제를 해결해 본다."
   ]
  },
  {
   "cell_type": "markdown",
   "metadata": {},
   "source": [
    "- \"회사별로 \"suv\" 자동차의 도시 및 고속도로 통합 연비 평균을 구해 내림차순으로 정렬하고, 1~5위까지 출력하기\""
   ]
  },
  {
   "cell_type": "markdown",
   "metadata": {},
   "source": [
    "#### 1. 코드를 작성하기 전에 어떤 절차로 어떤 함수를 사용할지 생가하면서 정리한다.\n",
    "\n",
    "1. 회사별로 분리 : group_by()\n",
    "2. sub 추출 : filter()\n",
    "3. 통합 연비 변수 생성 : mutate()\n",
    "4. 통합 연비 평균 산출 : summarise()\n",
    "5. 내림차순 정렬 : arrange()\n",
    "6. 1~5위까지 출력 : head()"
   ]
  },
  {
   "cell_type": "markdown",
   "metadata": {},
   "source": [
    "#### 2. 위의 절차에 따라 함수들을 %>% 로 연결해 하나의 dplyr 구문으로 만든다"
   ]
  },
  {
   "cell_type": "code",
   "execution_count": 60,
   "metadata": {},
   "outputs": [
    {
     "data": {
      "text/html": [
       "<table>\n",
       "<thead><tr><th scope=col>manufacturer</th><th scope=col>mean_tot</th></tr></thead>\n",
       "<tbody>\n",
       "\t<tr><td>subaru  </td><td>21.91667</td></tr>\n",
       "\t<tr><td>toyota  </td><td>16.31250</td></tr>\n",
       "\t<tr><td>nissan  </td><td>15.87500</td></tr>\n",
       "\t<tr><td>mercury </td><td>15.62500</td></tr>\n",
       "\t<tr><td>jeep    </td><td>15.56250</td></tr>\n",
       "</tbody>\n",
       "</table>\n"
      ],
      "text/latex": [
       "\\begin{tabular}{r|ll}\n",
       " manufacturer & mean\\_tot\\\\\n",
       "\\hline\n",
       "\t subaru   & 21.91667\\\\\n",
       "\t toyota   & 16.31250\\\\\n",
       "\t nissan   & 15.87500\\\\\n",
       "\t mercury  & 15.62500\\\\\n",
       "\t jeep     & 15.56250\\\\\n",
       "\\end{tabular}\n"
      ],
      "text/markdown": [
       "\n",
       "| manufacturer | mean_tot |\n",
       "|---|---|\n",
       "| subaru   | 21.91667 |\n",
       "| toyota   | 16.31250 |\n",
       "| nissan   | 15.87500 |\n",
       "| mercury  | 15.62500 |\n",
       "| jeep     | 15.56250 |\n",
       "\n"
      ],
      "text/plain": [
       "  manufacturer mean_tot\n",
       "1 subaru       21.91667\n",
       "2 toyota       16.31250\n",
       "3 nissan       15.87500\n",
       "4 mercury      15.62500\n",
       "5 jeep         15.56250"
      ]
     },
     "metadata": {},
     "output_type": "display_data"
    }
   ],
   "source": [
    "mpg %>% \n",
    "    group_by(manufacturer) %>%           # 회사별로 분리\n",
    "    filter(class == \"suv\") %>%           # suv 추출\n",
    "    mutate(tot = (cty + hwy) / 2) %>%    # 통합 연비 변수 생성\n",
    "    summarise(mean_tot = mean(tot)) %>%  # 통합 연비 평균 산출\n",
    "    arrange(desc(mean_tot)) %>%          # 내림차순 정렬\n",
    "    head(5)                              # 1~5위까지 출력"
   ]
  },
  {
   "cell_type": "markdown",
   "metadata": {},
   "source": [
    "## 06-7 데이터 합치기\n",
    "\n",
    "하나의 데이터만 가지고 분석하기도 하지만 여러 데이터를 합쳐 하나의 데이터로 만든 후에 분석하기도 한다.\n",
    "\n",
    "예를 들어, 중간고사 데이터와 기말고사 데이터를 합쳐 하나의 시험 점수 데이터를 만들어 분석할 수 있다."
   ]
  },
  {
   "cell_type": "markdown",
   "metadata": {},
   "source": [
    "#### 가로로 합치기\n",
    "\n",
    "데이터를 합치는 데에는 크게 두 가지 방법이 있다.\n",
    "\n",
    "첫번 째는 데이터를 가로로 합치는 방법이다.\n",
    "\n",
    "기존 데이터에 변수(열)을 추가한다고 볼 수 있다.\n",
    "\n",
    "앞에서 든 예처럼 중간고사 데이터에 기말고사 데이터를 합친다면 이는 가로로 합치는 작업이 된다."
   ]
  },
  {
   "cell_type": "markdown",
   "metadata": {},
   "source": [
    "#### 세로로 합치기\n",
    "\n",
    "두 번째는 데이터를 세로로 합치는 방법이다.\n",
    "\n",
    "기존 데이터에 행을 추가한다고 볼 수 있다.\n",
    "\n",
    "예를 들어, 학생 세 명이 먼저 시험을 보고, 나중에 또 다른 학생 세 명이 따로 시험을 봤을 때, 두 시험 데이터를 합치는 작업이 된다."
   ]
  },
  {
   "cell_type": "markdown",
   "metadata": {},
   "source": [
    "### 가로로 합치기"
   ]
  },
  {
   "cell_type": "markdown",
   "metadata": {},
   "source": [
    "#### 1. 먼저 데이터를 가로로 합치는 방법을 알아본다.\n",
    "\n",
    "우선 학생 다섯 명이 중간고사와 기말고사를 봤다고 가정하고, 2개의 데이터 프레임을 만든다."
   ]
  },
  {
   "cell_type": "code",
   "execution_count": 62,
   "metadata": {},
   "outputs": [
    {
     "data": {
      "text/html": [
       "<table>\n",
       "<thead><tr><th scope=col>id</th><th scope=col>midterm</th></tr></thead>\n",
       "<tbody>\n",
       "\t<tr><td>1 </td><td>60</td></tr>\n",
       "\t<tr><td>2 </td><td>80</td></tr>\n",
       "\t<tr><td>3 </td><td>70</td></tr>\n",
       "\t<tr><td>4 </td><td>90</td></tr>\n",
       "\t<tr><td>5 </td><td>85</td></tr>\n",
       "</tbody>\n",
       "</table>\n"
      ],
      "text/latex": [
       "\\begin{tabular}{r|ll}\n",
       " id & midterm\\\\\n",
       "\\hline\n",
       "\t 1  & 60\\\\\n",
       "\t 2  & 80\\\\\n",
       "\t 3  & 70\\\\\n",
       "\t 4  & 90\\\\\n",
       "\t 5  & 85\\\\\n",
       "\\end{tabular}\n"
      ],
      "text/markdown": [
       "\n",
       "| id | midterm |\n",
       "|---|---|\n",
       "| 1  | 60 |\n",
       "| 2  | 80 |\n",
       "| 3  | 70 |\n",
       "| 4  | 90 |\n",
       "| 5  | 85 |\n",
       "\n"
      ],
      "text/plain": [
       "  id midterm\n",
       "1 1  60     \n",
       "2 2  80     \n",
       "3 3  70     \n",
       "4 4  90     \n",
       "5 5  85     "
      ]
     },
     "metadata": {},
     "output_type": "display_data"
    },
    {
     "data": {
      "text/html": [
       "<table>\n",
       "<thead><tr><th scope=col>id</th><th scope=col>midterm</th></tr></thead>\n",
       "<tbody>\n",
       "\t<tr><td>1 </td><td>70</td></tr>\n",
       "\t<tr><td>2 </td><td>83</td></tr>\n",
       "\t<tr><td>3 </td><td>65</td></tr>\n",
       "\t<tr><td>4 </td><td>95</td></tr>\n",
       "\t<tr><td>5 </td><td>80</td></tr>\n",
       "</tbody>\n",
       "</table>\n"
      ],
      "text/latex": [
       "\\begin{tabular}{r|ll}\n",
       " id & midterm\\\\\n",
       "\\hline\n",
       "\t 1  & 70\\\\\n",
       "\t 2  & 83\\\\\n",
       "\t 3  & 65\\\\\n",
       "\t 4  & 95\\\\\n",
       "\t 5  & 80\\\\\n",
       "\\end{tabular}\n"
      ],
      "text/markdown": [
       "\n",
       "| id | midterm |\n",
       "|---|---|\n",
       "| 1  | 70 |\n",
       "| 2  | 83 |\n",
       "| 3  | 65 |\n",
       "| 4  | 95 |\n",
       "| 5  | 80 |\n",
       "\n"
      ],
      "text/plain": [
       "  id midterm\n",
       "1 1  70     \n",
       "2 2  83     \n",
       "3 3  65     \n",
       "4 4  95     \n",
       "5 5  80     "
      ]
     },
     "metadata": {},
     "output_type": "display_data"
    }
   ],
   "source": [
    "# 중간고사 데이터 생성\n",
    "test1 <- data.frame(id = c(1, 2, 3, 4, 5),\n",
    "                   midterm = c(60, 80, 70, 90, 85))\n",
    "\n",
    "# 기말고사 데이터 생성\n",
    "test2 <- data.frame(id = c(1, 2, 3, 4, 5),\n",
    "                   midterm = c(70, 83, 65, 95, 80))\n",
    "\n",
    "test1\n",
    "\n",
    "test2"
   ]
  },
  {
   "cell_type": "code",
   "execution_count": null,
   "metadata": {},
   "outputs": [],
   "source": []
  }
 ],
 "metadata": {
  "kernelspec": {
   "display_name": "R",
   "language": "R",
   "name": "ir"
  },
  "language_info": {
   "codemirror_mode": "r",
   "file_extension": ".r",
   "mimetype": "text/x-r-source",
   "name": "R",
   "pygments_lexer": "r",
   "version": "3.5.2"
  }
 },
 "nbformat": 4,
 "nbformat_minor": 2
}
