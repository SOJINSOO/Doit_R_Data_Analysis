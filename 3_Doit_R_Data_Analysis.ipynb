{
 "cells": [
  {
   "cell_type": "markdown",
   "metadata": {},
   "source": [
    "# CHAP05 데이터 분석 기초! - 데이터 파악하기, 다루기 쉽게 수정하기"
   ]
  },
  {
   "cell_type": "markdown",
   "metadata": {},
   "source": [
    "## 05-1 데이터 파악하기\n",
    "\n",
    "데이터가 주어졌을 때 가장 먼저 하는 일은 데이터의 전반적인 구조를 파악하는 것이다.\n",
    "\n",
    "어떤 변수들이 있는지, 몇 행으로 구성되어 있는지 전반적인 구조를 살펴보면서 데이터의 특징에 대한 감을 잡는다.\n",
    "\n",
    "이 과정에서 분석 방향에 대한 힌트를 얻게 된다."
   ]
  },
  {
   "cell_type": "markdown",
   "metadata": {},
   "source": [
    "#### 데이터를 파악할 때 사용하는 함수들\n",
    "\n",
    "- head() : 데이터의 앞부분 출력\n",
    "- tail() : 데이터의 뒷부분 출력\n",
    "- View() : 뷰어 창에서 데이터 확인\n",
    "- dim()  : 데이터 차원 출력\n",
    "- str()  : 데이터 속성 출력\n",
    "- summary() : 요약 통계량 출력"
   ]
  },
  {
   "cell_type": "code",
   "execution_count": 1,
   "metadata": {},
   "outputs": [
    {
     "data": {
      "text/html": [
       "<table>\n",
       "<thead><tr><th scope=col>id</th><th scope=col>class</th><th scope=col>math</th><th scope=col>english</th><th scope=col>science</th></tr></thead>\n",
       "<tbody>\n",
       "\t<tr><td> 1</td><td>1 </td><td>50</td><td>98</td><td>50</td></tr>\n",
       "\t<tr><td> 2</td><td>1 </td><td>60</td><td>97</td><td>60</td></tr>\n",
       "\t<tr><td> 3</td><td>1 </td><td>45</td><td>86</td><td>78</td></tr>\n",
       "\t<tr><td> 4</td><td>1 </td><td>30</td><td>98</td><td>58</td></tr>\n",
       "\t<tr><td> 5</td><td>2 </td><td>25</td><td>80</td><td>65</td></tr>\n",
       "\t<tr><td> 6</td><td>2 </td><td>50</td><td>89</td><td>98</td></tr>\n",
       "\t<tr><td> 7</td><td>2 </td><td>80</td><td>90</td><td>45</td></tr>\n",
       "\t<tr><td> 8</td><td>2 </td><td>90</td><td>78</td><td>25</td></tr>\n",
       "\t<tr><td> 9</td><td>3 </td><td>20</td><td>98</td><td>15</td></tr>\n",
       "\t<tr><td>10</td><td>3 </td><td>50</td><td>98</td><td>45</td></tr>\n",
       "\t<tr><td>11</td><td>3 </td><td>65</td><td>65</td><td>65</td></tr>\n",
       "\t<tr><td>12</td><td>3 </td><td>45</td><td>85</td><td>32</td></tr>\n",
       "\t<tr><td>13</td><td>4 </td><td>46</td><td>98</td><td>65</td></tr>\n",
       "\t<tr><td>14</td><td>4 </td><td>48</td><td>87</td><td>12</td></tr>\n",
       "\t<tr><td>15</td><td>4 </td><td>75</td><td>56</td><td>78</td></tr>\n",
       "\t<tr><td>16</td><td>4 </td><td>58</td><td>98</td><td>65</td></tr>\n",
       "\t<tr><td>17</td><td>5 </td><td>65</td><td>68</td><td>98</td></tr>\n",
       "\t<tr><td>18</td><td>5 </td><td>80</td><td>78</td><td>90</td></tr>\n",
       "\t<tr><td>19</td><td>5 </td><td>89</td><td>68</td><td>87</td></tr>\n",
       "\t<tr><td>20</td><td>5 </td><td>78</td><td>83</td><td>58</td></tr>\n",
       "</tbody>\n",
       "</table>\n"
      ],
      "text/latex": [
       "\\begin{tabular}{r|lllll}\n",
       " id & class & math & english & science\\\\\n",
       "\\hline\n",
       "\t  1 & 1  & 50 & 98 & 50\\\\\n",
       "\t  2 & 1  & 60 & 97 & 60\\\\\n",
       "\t  3 & 1  & 45 & 86 & 78\\\\\n",
       "\t  4 & 1  & 30 & 98 & 58\\\\\n",
       "\t  5 & 2  & 25 & 80 & 65\\\\\n",
       "\t  6 & 2  & 50 & 89 & 98\\\\\n",
       "\t  7 & 2  & 80 & 90 & 45\\\\\n",
       "\t  8 & 2  & 90 & 78 & 25\\\\\n",
       "\t  9 & 3  & 20 & 98 & 15\\\\\n",
       "\t 10 & 3  & 50 & 98 & 45\\\\\n",
       "\t 11 & 3  & 65 & 65 & 65\\\\\n",
       "\t 12 & 3  & 45 & 85 & 32\\\\\n",
       "\t 13 & 4  & 46 & 98 & 65\\\\\n",
       "\t 14 & 4  & 48 & 87 & 12\\\\\n",
       "\t 15 & 4  & 75 & 56 & 78\\\\\n",
       "\t 16 & 4  & 58 & 98 & 65\\\\\n",
       "\t 17 & 5  & 65 & 68 & 98\\\\\n",
       "\t 18 & 5  & 80 & 78 & 90\\\\\n",
       "\t 19 & 5  & 89 & 68 & 87\\\\\n",
       "\t 20 & 5  & 78 & 83 & 58\\\\\n",
       "\\end{tabular}\n"
      ],
      "text/markdown": [
       "\n",
       "| id | class | math | english | science |\n",
       "|---|---|---|---|---|\n",
       "|  1 | 1  | 50 | 98 | 50 |\n",
       "|  2 | 1  | 60 | 97 | 60 |\n",
       "|  3 | 1  | 45 | 86 | 78 |\n",
       "|  4 | 1  | 30 | 98 | 58 |\n",
       "|  5 | 2  | 25 | 80 | 65 |\n",
       "|  6 | 2  | 50 | 89 | 98 |\n",
       "|  7 | 2  | 80 | 90 | 45 |\n",
       "|  8 | 2  | 90 | 78 | 25 |\n",
       "|  9 | 3  | 20 | 98 | 15 |\n",
       "| 10 | 3  | 50 | 98 | 45 |\n",
       "| 11 | 3  | 65 | 65 | 65 |\n",
       "| 12 | 3  | 45 | 85 | 32 |\n",
       "| 13 | 4  | 46 | 98 | 65 |\n",
       "| 14 | 4  | 48 | 87 | 12 |\n",
       "| 15 | 4  | 75 | 56 | 78 |\n",
       "| 16 | 4  | 58 | 98 | 65 |\n",
       "| 17 | 5  | 65 | 68 | 98 |\n",
       "| 18 | 5  | 80 | 78 | 90 |\n",
       "| 19 | 5  | 89 | 68 | 87 |\n",
       "| 20 | 5  | 78 | 83 | 58 |\n",
       "\n"
      ],
      "text/plain": [
       "   id class math english science\n",
       "1   1 1     50   98      50     \n",
       "2   2 1     60   97      60     \n",
       "3   3 1     45   86      78     \n",
       "4   4 1     30   98      58     \n",
       "5   5 2     25   80      65     \n",
       "6   6 2     50   89      98     \n",
       "7   7 2     80   90      45     \n",
       "8   8 2     90   78      25     \n",
       "9   9 3     20   98      15     \n",
       "10 10 3     50   98      45     \n",
       "11 11 3     65   65      65     \n",
       "12 12 3     45   85      32     \n",
       "13 13 4     46   98      65     \n",
       "14 14 4     48   87      12     \n",
       "15 15 4     75   56      78     \n",
       "16 16 4     58   98      65     \n",
       "17 17 5     65   68      98     \n",
       "18 18 5     80   78      90     \n",
       "19 19 5     89   68      87     \n",
       "20 20 5     78   83      58     "
      ]
     },
     "metadata": {},
     "output_type": "display_data"
    }
   ],
   "source": [
    "exam <- read.csv(\"csv_exam.csv\")\n",
    "exam"
   ]
  },
  {
   "cell_type": "markdown",
   "metadata": {},
   "source": [
    "### exam 데이터 파악하기"
   ]
  },
  {
   "cell_type": "markdown",
   "metadata": {},
   "source": [
    "#### 1. head() - 데이터 앞부분 확인하기\n",
    "\n",
    "데이터 내용을 확인하려면 데이터 프레임명을 입력해 실행하면 되지만 화면에 너무 많은 내용이 출력되기 때문에 알아보기 어렵다.\n",
    "\n",
    "데이터의 일부만 출력해 데이터의 형태를 확인한다.\n",
    "\n",
    "head()는 데이터의 앞부분을 출력하는 기능을 한다.\n",
    "\n",
    "괄호 안에 데이터 프레임 이름을 입력하고 실행하면 앞에서부터 여섯 번째 행까지 출력한다."
   ]
  },
  {
   "cell_type": "code",
   "execution_count": 3,
   "metadata": {},
   "outputs": [
    {
     "data": {
      "text/html": [
       "<table>\n",
       "<thead><tr><th scope=col>id</th><th scope=col>class</th><th scope=col>math</th><th scope=col>english</th><th scope=col>science</th></tr></thead>\n",
       "<tbody>\n",
       "\t<tr><td>1 </td><td>1 </td><td>50</td><td>98</td><td>50</td></tr>\n",
       "\t<tr><td>2 </td><td>1 </td><td>60</td><td>97</td><td>60</td></tr>\n",
       "\t<tr><td>3 </td><td>1 </td><td>45</td><td>86</td><td>78</td></tr>\n",
       "\t<tr><td>4 </td><td>1 </td><td>30</td><td>98</td><td>58</td></tr>\n",
       "\t<tr><td>5 </td><td>2 </td><td>25</td><td>80</td><td>65</td></tr>\n",
       "\t<tr><td>6 </td><td>2 </td><td>50</td><td>89</td><td>98</td></tr>\n",
       "</tbody>\n",
       "</table>\n"
      ],
      "text/latex": [
       "\\begin{tabular}{r|lllll}\n",
       " id & class & math & english & science\\\\\n",
       "\\hline\n",
       "\t 1  & 1  & 50 & 98 & 50\\\\\n",
       "\t 2  & 1  & 60 & 97 & 60\\\\\n",
       "\t 3  & 1  & 45 & 86 & 78\\\\\n",
       "\t 4  & 1  & 30 & 98 & 58\\\\\n",
       "\t 5  & 2  & 25 & 80 & 65\\\\\n",
       "\t 6  & 2  & 50 & 89 & 98\\\\\n",
       "\\end{tabular}\n"
      ],
      "text/markdown": [
       "\n",
       "| id | class | math | english | science |\n",
       "|---|---|---|---|---|\n",
       "| 1  | 1  | 50 | 98 | 50 |\n",
       "| 2  | 1  | 60 | 97 | 60 |\n",
       "| 3  | 1  | 45 | 86 | 78 |\n",
       "| 4  | 1  | 30 | 98 | 58 |\n",
       "| 5  | 2  | 25 | 80 | 65 |\n",
       "| 6  | 2  | 50 | 89 | 98 |\n",
       "\n"
      ],
      "text/plain": [
       "  id class math english science\n",
       "1 1  1     50   98      50     \n",
       "2 2  1     60   97      60     \n",
       "3 3  1     45   86      78     \n",
       "4 4  1     30   98      58     \n",
       "5 5  2     25   80      65     \n",
       "6 6  2     50   89      98     "
      ]
     },
     "metadata": {},
     "output_type": "display_data"
    }
   ],
   "source": [
    "head(exam)  # 앞에서부터 6행까지 출력"
   ]
  },
  {
   "cell_type": "markdown",
   "metadata": {},
   "source": [
    "데이터 프레임 이름 뒤에 쉼표를 쓰고 숫자를 입력하면 입력한 행까지의 데이터를 출력한다."
   ]
  },
  {
   "cell_type": "code",
   "execution_count": 4,
   "metadata": {},
   "outputs": [
    {
     "data": {
      "text/html": [
       "<table>\n",
       "<thead><tr><th scope=col>id</th><th scope=col>class</th><th scope=col>math</th><th scope=col>english</th><th scope=col>science</th></tr></thead>\n",
       "<tbody>\n",
       "\t<tr><td> 1</td><td>1 </td><td>50</td><td>98</td><td>50</td></tr>\n",
       "\t<tr><td> 2</td><td>1 </td><td>60</td><td>97</td><td>60</td></tr>\n",
       "\t<tr><td> 3</td><td>1 </td><td>45</td><td>86</td><td>78</td></tr>\n",
       "\t<tr><td> 4</td><td>1 </td><td>30</td><td>98</td><td>58</td></tr>\n",
       "\t<tr><td> 5</td><td>2 </td><td>25</td><td>80</td><td>65</td></tr>\n",
       "\t<tr><td> 6</td><td>2 </td><td>50</td><td>89</td><td>98</td></tr>\n",
       "\t<tr><td> 7</td><td>2 </td><td>80</td><td>90</td><td>45</td></tr>\n",
       "\t<tr><td> 8</td><td>2 </td><td>90</td><td>78</td><td>25</td></tr>\n",
       "\t<tr><td> 9</td><td>3 </td><td>20</td><td>98</td><td>15</td></tr>\n",
       "\t<tr><td>10</td><td>3 </td><td>50</td><td>98</td><td>45</td></tr>\n",
       "</tbody>\n",
       "</table>\n"
      ],
      "text/latex": [
       "\\begin{tabular}{r|lllll}\n",
       " id & class & math & english & science\\\\\n",
       "\\hline\n",
       "\t  1 & 1  & 50 & 98 & 50\\\\\n",
       "\t  2 & 1  & 60 & 97 & 60\\\\\n",
       "\t  3 & 1  & 45 & 86 & 78\\\\\n",
       "\t  4 & 1  & 30 & 98 & 58\\\\\n",
       "\t  5 & 2  & 25 & 80 & 65\\\\\n",
       "\t  6 & 2  & 50 & 89 & 98\\\\\n",
       "\t  7 & 2  & 80 & 90 & 45\\\\\n",
       "\t  8 & 2  & 90 & 78 & 25\\\\\n",
       "\t  9 & 3  & 20 & 98 & 15\\\\\n",
       "\t 10 & 3  & 50 & 98 & 45\\\\\n",
       "\\end{tabular}\n"
      ],
      "text/markdown": [
       "\n",
       "| id | class | math | english | science |\n",
       "|---|---|---|---|---|\n",
       "|  1 | 1  | 50 | 98 | 50 |\n",
       "|  2 | 1  | 60 | 97 | 60 |\n",
       "|  3 | 1  | 45 | 86 | 78 |\n",
       "|  4 | 1  | 30 | 98 | 58 |\n",
       "|  5 | 2  | 25 | 80 | 65 |\n",
       "|  6 | 2  | 50 | 89 | 98 |\n",
       "|  7 | 2  | 80 | 90 | 45 |\n",
       "|  8 | 2  | 90 | 78 | 25 |\n",
       "|  9 | 3  | 20 | 98 | 15 |\n",
       "| 10 | 3  | 50 | 98 | 45 |\n",
       "\n"
      ],
      "text/plain": [
       "   id class math english science\n",
       "1   1 1     50   98      50     \n",
       "2   2 1     60   97      60     \n",
       "3   3 1     45   86      78     \n",
       "4   4 1     30   98      58     \n",
       "5   5 2     25   80      65     \n",
       "6   6 2     50   89      98     \n",
       "7   7 2     80   90      45     \n",
       "8   8 2     90   78      25     \n",
       "9   9 3     20   98      15     \n",
       "10 10 3     50   98      45     "
      ]
     },
     "metadata": {},
     "output_type": "display_data"
    }
   ],
   "source": [
    "head(exam, 10)  # 앞에서부터 10행까지 출력"
   ]
  },
  {
   "cell_type": "markdown",
   "metadata": {},
   "source": [
    "#### 2. tail() - 데이터 뒷부분 확인하기\n",
    "\n",
    "tail()은 데이터의 뒷부분을 출력하는 기능을 한다."
   ]
  },
  {
   "cell_type": "code",
   "execution_count": 5,
   "metadata": {},
   "outputs": [
    {
     "data": {
      "text/html": [
       "<table>\n",
       "<thead><tr><th></th><th scope=col>id</th><th scope=col>class</th><th scope=col>math</th><th scope=col>english</th><th scope=col>science</th></tr></thead>\n",
       "<tbody>\n",
       "\t<tr><th scope=row>15</th><td>15</td><td>4 </td><td>75</td><td>56</td><td>78</td></tr>\n",
       "\t<tr><th scope=row>16</th><td>16</td><td>4 </td><td>58</td><td>98</td><td>65</td></tr>\n",
       "\t<tr><th scope=row>17</th><td>17</td><td>5 </td><td>65</td><td>68</td><td>98</td></tr>\n",
       "\t<tr><th scope=row>18</th><td>18</td><td>5 </td><td>80</td><td>78</td><td>90</td></tr>\n",
       "\t<tr><th scope=row>19</th><td>19</td><td>5 </td><td>89</td><td>68</td><td>87</td></tr>\n",
       "\t<tr><th scope=row>20</th><td>20</td><td>5 </td><td>78</td><td>83</td><td>58</td></tr>\n",
       "</tbody>\n",
       "</table>\n"
      ],
      "text/latex": [
       "\\begin{tabular}{r|lllll}\n",
       "  & id & class & math & english & science\\\\\n",
       "\\hline\n",
       "\t15 & 15 & 4  & 75 & 56 & 78\\\\\n",
       "\t16 & 16 & 4  & 58 & 98 & 65\\\\\n",
       "\t17 & 17 & 5  & 65 & 68 & 98\\\\\n",
       "\t18 & 18 & 5  & 80 & 78 & 90\\\\\n",
       "\t19 & 19 & 5  & 89 & 68 & 87\\\\\n",
       "\t20 & 20 & 5  & 78 & 83 & 58\\\\\n",
       "\\end{tabular}\n"
      ],
      "text/markdown": [
       "\n",
       "| <!--/--> | id | class | math | english | science |\n",
       "|---|---|---|---|---|---|\n",
       "| 15 | 15 | 4  | 75 | 56 | 78 |\n",
       "| 16 | 16 | 4  | 58 | 98 | 65 |\n",
       "| 17 | 17 | 5  | 65 | 68 | 98 |\n",
       "| 18 | 18 | 5  | 80 | 78 | 90 |\n",
       "| 19 | 19 | 5  | 89 | 68 | 87 |\n",
       "| 20 | 20 | 5  | 78 | 83 | 58 |\n",
       "\n"
      ],
      "text/plain": [
       "   id class math english science\n",
       "15 15 4     75   56      78     \n",
       "16 16 4     58   98      65     \n",
       "17 17 5     65   68      98     \n",
       "18 18 5     80   78      90     \n",
       "19 19 5     89   68      87     \n",
       "20 20 5     78   83      58     "
      ]
     },
     "metadata": {},
     "output_type": "display_data"
    }
   ],
   "source": [
    "tail(exam)  # 뒤에서부터 6행까지 출력"
   ]
  },
  {
   "cell_type": "code",
   "execution_count": 6,
   "metadata": {},
   "outputs": [
    {
     "data": {
      "text/html": [
       "<table>\n",
       "<thead><tr><th></th><th scope=col>id</th><th scope=col>class</th><th scope=col>math</th><th scope=col>english</th><th scope=col>science</th></tr></thead>\n",
       "<tbody>\n",
       "\t<tr><th scope=row>11</th><td>11</td><td>3 </td><td>65</td><td>65</td><td>65</td></tr>\n",
       "\t<tr><th scope=row>12</th><td>12</td><td>3 </td><td>45</td><td>85</td><td>32</td></tr>\n",
       "\t<tr><th scope=row>13</th><td>13</td><td>4 </td><td>46</td><td>98</td><td>65</td></tr>\n",
       "\t<tr><th scope=row>14</th><td>14</td><td>4 </td><td>48</td><td>87</td><td>12</td></tr>\n",
       "\t<tr><th scope=row>15</th><td>15</td><td>4 </td><td>75</td><td>56</td><td>78</td></tr>\n",
       "\t<tr><th scope=row>16</th><td>16</td><td>4 </td><td>58</td><td>98</td><td>65</td></tr>\n",
       "\t<tr><th scope=row>17</th><td>17</td><td>5 </td><td>65</td><td>68</td><td>98</td></tr>\n",
       "\t<tr><th scope=row>18</th><td>18</td><td>5 </td><td>80</td><td>78</td><td>90</td></tr>\n",
       "\t<tr><th scope=row>19</th><td>19</td><td>5 </td><td>89</td><td>68</td><td>87</td></tr>\n",
       "\t<tr><th scope=row>20</th><td>20</td><td>5 </td><td>78</td><td>83</td><td>58</td></tr>\n",
       "</tbody>\n",
       "</table>\n"
      ],
      "text/latex": [
       "\\begin{tabular}{r|lllll}\n",
       "  & id & class & math & english & science\\\\\n",
       "\\hline\n",
       "\t11 & 11 & 3  & 65 & 65 & 65\\\\\n",
       "\t12 & 12 & 3  & 45 & 85 & 32\\\\\n",
       "\t13 & 13 & 4  & 46 & 98 & 65\\\\\n",
       "\t14 & 14 & 4  & 48 & 87 & 12\\\\\n",
       "\t15 & 15 & 4  & 75 & 56 & 78\\\\\n",
       "\t16 & 16 & 4  & 58 & 98 & 65\\\\\n",
       "\t17 & 17 & 5  & 65 & 68 & 98\\\\\n",
       "\t18 & 18 & 5  & 80 & 78 & 90\\\\\n",
       "\t19 & 19 & 5  & 89 & 68 & 87\\\\\n",
       "\t20 & 20 & 5  & 78 & 83 & 58\\\\\n",
       "\\end{tabular}\n"
      ],
      "text/markdown": [
       "\n",
       "| <!--/--> | id | class | math | english | science |\n",
       "|---|---|---|---|---|---|\n",
       "| 11 | 11 | 3  | 65 | 65 | 65 |\n",
       "| 12 | 12 | 3  | 45 | 85 | 32 |\n",
       "| 13 | 13 | 4  | 46 | 98 | 65 |\n",
       "| 14 | 14 | 4  | 48 | 87 | 12 |\n",
       "| 15 | 15 | 4  | 75 | 56 | 78 |\n",
       "| 16 | 16 | 4  | 58 | 98 | 65 |\n",
       "| 17 | 17 | 5  | 65 | 68 | 98 |\n",
       "| 18 | 18 | 5  | 80 | 78 | 90 |\n",
       "| 19 | 19 | 5  | 89 | 68 | 87 |\n",
       "| 20 | 20 | 5  | 78 | 83 | 58 |\n",
       "\n"
      ],
      "text/plain": [
       "   id class math english science\n",
       "11 11 3     65   65      65     \n",
       "12 12 3     45   85      32     \n",
       "13 13 4     46   98      65     \n",
       "14 14 4     48   87      12     \n",
       "15 15 4     75   56      78     \n",
       "16 16 4     58   98      65     \n",
       "17 17 5     65   68      98     \n",
       "18 18 5     80   78      90     \n",
       "19 19 5     89   68      87     \n",
       "20 20 5     78   83      58     "
      ]
     },
     "metadata": {},
     "output_type": "display_data"
    }
   ],
   "source": [
    "tail(exam, 10)  # 뒤에서부터 10행까지 출력"
   ]
  },
  {
   "cell_type": "markdown",
   "metadata": {},
   "source": [
    "#### 3. View() - 뷰어 창에서 데이터 확인하기\n",
    "\n",
    "View()는 엑셀과 유사하게 생긴 '뷰어 창'에 원자료를 직접 보여 주는 기능을 한다.\n",
    "\n",
    "View(exam)을 실행하면 exam이라는 이름의 데이터 뷰어 창이 생성된다.\n",
    "\n",
    "원자료를 눈으로 직접 확인해 보고 싶을 때 사용한다.\n",
    "\n",
    "View()에서 맨 앞의 V는 대문자로 입력해야 한다. 함수명은 대소문자가 섞여 있는 경우도 있다."
   ]
  },
  {
   "cell_type": "code",
   "execution_count": null,
   "metadata": {},
   "outputs": [],
   "source": [
    "# 데이터 뷰어 창에서 exam 데이터 확인\n",
    "View(exam)"
   ]
  },
  {
   "cell_type": "markdown",
   "metadata": {},
   "source": [
    "#### 4. dim() - 데이터가 몇 행, 몇 열로 구성되어 있는지 알아보기\n",
    "\n",
    "dim()은 데이터 프레임이 몇 행, 몇 열로 되어 있는지 알아볼 때 사용한다.\n",
    "\n",
    "출력된 2개의 숫자 중에서 앞은 '행', 뒤는 '열'의 개수를 나타냅니다."
   ]
  },
  {
   "cell_type": "code",
   "execution_count": 9,
   "metadata": {},
   "outputs": [
    {
     "data": {
      "text/html": [
       "<ol class=list-inline>\n",
       "\t<li>20</li>\n",
       "\t<li>5</li>\n",
       "</ol>\n"
      ],
      "text/latex": [
       "\\begin{enumerate*}\n",
       "\\item 20\n",
       "\\item 5\n",
       "\\end{enumerate*}\n"
      ],
      "text/markdown": [
       "1. 20\n",
       "2. 5\n",
       "\n",
       "\n"
      ],
      "text/plain": [
       "[1] 20  5"
      ]
     },
     "metadata": {},
     "output_type": "display_data"
    }
   ],
   "source": [
    "dim(exam)  # 행, 열 출력"
   ]
  },
  {
   "cell_type": "markdown",
   "metadata": {},
   "source": [
    "데이터가 20행, 5열로 구성되어 있다는 것을 의미\n",
    "\n",
    "하나의 행은 한 학생의 시험 성적을 의미하므로, exam 데이터가 학생 20명에 대한 5개 변수로 구성된다는 것을 알 수 있다."
   ]
  },
  {
   "cell_type": "markdown",
   "metadata": {},
   "source": [
    "#### 5. str() - 속성 파악하기\n",
    "\n",
    "str()은 데이터에 들어 있는 변수들의 속성을 보여준다.\n",
    "\n",
    "모든 변수의 속성을 한눈에 파악하고 싶을 때 사용한다."
   ]
  },
  {
   "cell_type": "code",
   "execution_count": 10,
   "metadata": {},
   "outputs": [
    {
     "name": "stdout",
     "output_type": "stream",
     "text": [
      "'data.frame':\t20 obs. of  5 variables:\n",
      " $ id     : int  1 2 3 4 5 6 7 8 9 10 ...\n",
      " $ class  : int  1 1 1 1 2 2 2 2 3 3 ...\n",
      " $ math   : int  50 60 45 30 25 50 80 90 20 50 ...\n",
      " $ english: int  98 97 86 98 80 89 90 78 98 98 ...\n",
      " $ science: int  50 60 78 58 65 98 45 25 15 45 ...\n"
     ]
    }
   ],
   "source": [
    "str(exam)  # 데이터 속성 확인"
   ]
  },
  {
   "cell_type": "markdown",
   "metadata": {},
   "source": [
    "출력 결과의 첫 번째 행에는 데이터의 속성이 무엇인지, 몇 개의 관측치와 변수로 구성되어 있는지 표시된다.\n",
    "\n",
    "데이터 프레임의 들어 있는 변수들의 속성은 두 번째 행부터 표시된다.\n",
    "\n",
    "각 행에 변수 이름과 속성이 표시되고, 그 뒤에 변수에 들어있는 값을 몇 개 나열해 보여준다."
   ]
  },
  {
   "cell_type": "markdown",
   "metadata": {},
   "source": [
    "#### 6. summary() - 요약 통계량 산출하기\n",
    "\n",
    "summary()는 '평균'처럼, 변수의 값을 요약한 '요약 통계량'을 산출하는 함수이다.\n",
    "\n",
    "요약 통계량을 보면 변수의 특성을 파악하는데 도움이 된다."
   ]
  },
  {
   "cell_type": "code",
   "execution_count": 11,
   "metadata": {},
   "outputs": [
    {
     "data": {
      "text/plain": [
       "       id            class        math          english        science     \n",
       " Min.   : 1.00   Min.   :1   Min.   :20.00   Min.   :56.0   Min.   :12.00  \n",
       " 1st Qu.: 5.75   1st Qu.:2   1st Qu.:45.75   1st Qu.:78.0   1st Qu.:45.00  \n",
       " Median :10.50   Median :3   Median :54.00   Median :86.5   Median :62.50  \n",
       " Mean   :10.50   Mean   :3   Mean   :57.45   Mean   :84.9   Mean   :59.45  \n",
       " 3rd Qu.:15.25   3rd Qu.:4   3rd Qu.:75.75   3rd Qu.:98.0   3rd Qu.:78.00  \n",
       " Max.   :20.00   Max.   :5   Max.   :90.00   Max.   :98.0   Max.   :98.00  "
      ]
     },
     "metadata": {},
     "output_type": "display_data"
    }
   ],
   "source": [
    "summary(exam)"
   ]
  },
  {
   "cell_type": "markdown",
   "metadata": {},
   "source": [
    "#### 요약 통계량\n",
    "\n",
    "- Min(최솟값) : 가장 작은 값\n",
    "- 1st Qu(1사분위수) : 하위 25%(4분의 1) 지점에 위치하는 값\n",
    "- Median(중앙값) : 중앙에 위치하는 값\n",
    "- Mean(평균) : 모든 값을 더해 값의 개수로 나눈 값\n",
    "- 3rd Qu(3사분위수) : 하위 75%(4분위 3) 지점에 위치하는 값\n",
    "- Max(최댓값) : 가장 큰 값"
   ]
  },
  {
   "cell_type": "markdown",
   "metadata": {},
   "source": [
    "### mpg 데이터 파악하기"
   ]
  },
  {
   "cell_type": "markdown",
   "metadata": {},
   "source": [
    "#### 1. ggplot2 패키지 설치하기"
   ]
  },
  {
   "cell_type": "markdown",
   "metadata": {},
   "source": [
    "#### 2. ggplot2 패키지의 mpg 데이터를 불러와 데이터 프레임을 생성"
   ]
  },
  {
   "cell_type": "code",
   "execution_count": 21,
   "metadata": {},
   "outputs": [],
   "source": [
    "# ggplot2의 mpg 데이터 프레임 형태로 불러오기\n",
    "mpg <- as.data.frame(ggplot2::mpg)"
   ]
  },
  {
   "cell_type": "code",
   "execution_count": 22,
   "metadata": {},
   "outputs": [
    {
     "name": "stdout",
     "output_type": "stream",
     "text": [
      "'data.frame':\t234 obs. of  11 variables:\n",
      " $ manufacturer: chr  \"audi\" \"audi\" \"audi\" \"audi\" ...\n",
      " $ model       : chr  \"a4\" \"a4\" \"a4\" \"a4\" ...\n",
      " $ displ       : num  1.8 1.8 2 2 2.8 2.8 3.1 1.8 1.8 2 ...\n",
      " $ year        : int  1999 1999 2008 2008 1999 1999 2008 1999 1999 2008 ...\n",
      " $ cyl         : int  4 4 4 4 6 6 6 4 4 4 ...\n",
      " $ trans       : chr  \"auto(l5)\" \"manual(m5)\" \"manual(m6)\" \"auto(av)\" ...\n",
      " $ drv         : chr  \"f\" \"f\" \"f\" \"f\" ...\n",
      " $ cty         : int  18 21 20 21 16 18 18 18 16 20 ...\n",
      " $ hwy         : int  29 29 31 30 26 26 27 26 25 28 ...\n",
      " $ fl          : chr  \"p\" \"p\" \"p\" \"p\" ...\n",
      " $ class       : chr  \"compact\" \"compact\" \"compact\" \"compact\" ...\n"
     ]
    }
   ],
   "source": [
    "str(mpg)"
   ]
  },
  {
   "cell_type": "markdown",
   "metadata": {},
   "source": [
    "as.data.frame()은 데이터 속성을 데이터 프레임 형태로 바꾸는 함수이다.\n",
    "\n",
    "ggplot2::mpg는 ggplot2에 들어 있는 mpg 데이터를 지칭한다.\n",
    "\n",
    "더블 콜론(::)을 이용하면 특정 패키지에 들어 있는 함수나 데이터를 지칭할 수 있다."
   ]
  },
  {
   "cell_type": "markdown",
   "metadata": {},
   "source": [
    "#### 3. head(), tail(), View()를 이용해 데이터를 확인"
   ]
  },
  {
   "cell_type": "code",
   "execution_count": 23,
   "metadata": {},
   "outputs": [
    {
     "data": {
      "text/html": [
       "<table>\n",
       "<thead><tr><th scope=col>manufacturer</th><th scope=col>model</th><th scope=col>displ</th><th scope=col>year</th><th scope=col>cyl</th><th scope=col>trans</th><th scope=col>drv</th><th scope=col>cty</th><th scope=col>hwy</th><th scope=col>fl</th><th scope=col>class</th></tr></thead>\n",
       "<tbody>\n",
       "\t<tr><td>audi      </td><td>a4        </td><td>1.8       </td><td>1999      </td><td>4         </td><td>auto(l5)  </td><td>f         </td><td>18        </td><td>29        </td><td>p         </td><td>compact   </td></tr>\n",
       "\t<tr><td>audi      </td><td>a4        </td><td>1.8       </td><td>1999      </td><td>4         </td><td>manual(m5)</td><td>f         </td><td>21        </td><td>29        </td><td>p         </td><td>compact   </td></tr>\n",
       "\t<tr><td>audi      </td><td>a4        </td><td>2.0       </td><td>2008      </td><td>4         </td><td>manual(m6)</td><td>f         </td><td>20        </td><td>31        </td><td>p         </td><td>compact   </td></tr>\n",
       "\t<tr><td>audi      </td><td>a4        </td><td>2.0       </td><td>2008      </td><td>4         </td><td>auto(av)  </td><td>f         </td><td>21        </td><td>30        </td><td>p         </td><td>compact   </td></tr>\n",
       "\t<tr><td>audi      </td><td>a4        </td><td>2.8       </td><td>1999      </td><td>6         </td><td>auto(l5)  </td><td>f         </td><td>16        </td><td>26        </td><td>p         </td><td>compact   </td></tr>\n",
       "\t<tr><td>audi      </td><td>a4        </td><td>2.8       </td><td>1999      </td><td>6         </td><td>manual(m5)</td><td>f         </td><td>18        </td><td>26        </td><td>p         </td><td>compact   </td></tr>\n",
       "</tbody>\n",
       "</table>\n"
      ],
      "text/latex": [
       "\\begin{tabular}{r|lllllllllll}\n",
       " manufacturer & model & displ & year & cyl & trans & drv & cty & hwy & fl & class\\\\\n",
       "\\hline\n",
       "\t audi       & a4         & 1.8        & 1999       & 4          & auto(l5)   & f          & 18         & 29         & p          & compact   \\\\\n",
       "\t audi       & a4         & 1.8        & 1999       & 4          & manual(m5) & f          & 21         & 29         & p          & compact   \\\\\n",
       "\t audi       & a4         & 2.0        & 2008       & 4          & manual(m6) & f          & 20         & 31         & p          & compact   \\\\\n",
       "\t audi       & a4         & 2.0        & 2008       & 4          & auto(av)   & f          & 21         & 30         & p          & compact   \\\\\n",
       "\t audi       & a4         & 2.8        & 1999       & 6          & auto(l5)   & f          & 16         & 26         & p          & compact   \\\\\n",
       "\t audi       & a4         & 2.8        & 1999       & 6          & manual(m5) & f          & 18         & 26         & p          & compact   \\\\\n",
       "\\end{tabular}\n"
      ],
      "text/markdown": [
       "\n",
       "| manufacturer | model | displ | year | cyl | trans | drv | cty | hwy | fl | class |\n",
       "|---|---|---|---|---|---|---|---|---|---|---|\n",
       "| audi       | a4         | 1.8        | 1999       | 4          | auto(l5)   | f          | 18         | 29         | p          | compact    |\n",
       "| audi       | a4         | 1.8        | 1999       | 4          | manual(m5) | f          | 21         | 29         | p          | compact    |\n",
       "| audi       | a4         | 2.0        | 2008       | 4          | manual(m6) | f          | 20         | 31         | p          | compact    |\n",
       "| audi       | a4         | 2.0        | 2008       | 4          | auto(av)   | f          | 21         | 30         | p          | compact    |\n",
       "| audi       | a4         | 2.8        | 1999       | 6          | auto(l5)   | f          | 16         | 26         | p          | compact    |\n",
       "| audi       | a4         | 2.8        | 1999       | 6          | manual(m5) | f          | 18         | 26         | p          | compact    |\n",
       "\n"
      ],
      "text/plain": [
       "  manufacturer model displ year cyl trans      drv cty hwy fl class  \n",
       "1 audi         a4    1.8   1999 4   auto(l5)   f   18  29  p  compact\n",
       "2 audi         a4    1.8   1999 4   manual(m5) f   21  29  p  compact\n",
       "3 audi         a4    2.0   2008 4   manual(m6) f   20  31  p  compact\n",
       "4 audi         a4    2.0   2008 4   auto(av)   f   21  30  p  compact\n",
       "5 audi         a4    2.8   1999 6   auto(l5)   f   16  26  p  compact\n",
       "6 audi         a4    2.8   1999 6   manual(m5) f   18  26  p  compact"
      ]
     },
     "metadata": {},
     "output_type": "display_data"
    }
   ],
   "source": [
    "head(mpg)  # Raw 데이터 앞부분 확인"
   ]
  },
  {
   "cell_type": "code",
   "execution_count": 24,
   "metadata": {},
   "outputs": [
    {
     "data": {
      "text/html": [
       "<table>\n",
       "<thead><tr><th></th><th scope=col>manufacturer</th><th scope=col>model</th><th scope=col>displ</th><th scope=col>year</th><th scope=col>cyl</th><th scope=col>trans</th><th scope=col>drv</th><th scope=col>cty</th><th scope=col>hwy</th><th scope=col>fl</th><th scope=col>class</th></tr></thead>\n",
       "<tbody>\n",
       "\t<tr><th scope=row>229</th><td>volkswagen</td><td>passat    </td><td>1.8       </td><td>1999      </td><td>4         </td><td>auto(l5)  </td><td>f         </td><td>18        </td><td>29        </td><td>p         </td><td>midsize   </td></tr>\n",
       "\t<tr><th scope=row>230</th><td>volkswagen</td><td>passat    </td><td>2.0       </td><td>2008      </td><td>4         </td><td>auto(s6)  </td><td>f         </td><td>19        </td><td>28        </td><td>p         </td><td>midsize   </td></tr>\n",
       "\t<tr><th scope=row>231</th><td>volkswagen</td><td>passat    </td><td>2.0       </td><td>2008      </td><td>4         </td><td>manual(m6)</td><td>f         </td><td>21        </td><td>29        </td><td>p         </td><td>midsize   </td></tr>\n",
       "\t<tr><th scope=row>232</th><td>volkswagen</td><td>passat    </td><td>2.8       </td><td>1999      </td><td>6         </td><td>auto(l5)  </td><td>f         </td><td>16        </td><td>26        </td><td>p         </td><td>midsize   </td></tr>\n",
       "\t<tr><th scope=row>233</th><td>volkswagen</td><td>passat    </td><td>2.8       </td><td>1999      </td><td>6         </td><td>manual(m5)</td><td>f         </td><td>18        </td><td>26        </td><td>p         </td><td>midsize   </td></tr>\n",
       "\t<tr><th scope=row>234</th><td>volkswagen</td><td>passat    </td><td>3.6       </td><td>2008      </td><td>6         </td><td>auto(s6)  </td><td>f         </td><td>17        </td><td>26        </td><td>p         </td><td>midsize   </td></tr>\n",
       "</tbody>\n",
       "</table>\n"
      ],
      "text/latex": [
       "\\begin{tabular}{r|lllllllllll}\n",
       "  & manufacturer & model & displ & year & cyl & trans & drv & cty & hwy & fl & class\\\\\n",
       "\\hline\n",
       "\t229 & volkswagen & passat     & 1.8        & 1999       & 4          & auto(l5)   & f          & 18         & 29         & p          & midsize   \\\\\n",
       "\t230 & volkswagen & passat     & 2.0        & 2008       & 4          & auto(s6)   & f          & 19         & 28         & p          & midsize   \\\\\n",
       "\t231 & volkswagen & passat     & 2.0        & 2008       & 4          & manual(m6) & f          & 21         & 29         & p          & midsize   \\\\\n",
       "\t232 & volkswagen & passat     & 2.8        & 1999       & 6          & auto(l5)   & f          & 16         & 26         & p          & midsize   \\\\\n",
       "\t233 & volkswagen & passat     & 2.8        & 1999       & 6          & manual(m5) & f          & 18         & 26         & p          & midsize   \\\\\n",
       "\t234 & volkswagen & passat     & 3.6        & 2008       & 6          & auto(s6)   & f          & 17         & 26         & p          & midsize   \\\\\n",
       "\\end{tabular}\n"
      ],
      "text/markdown": [
       "\n",
       "| <!--/--> | manufacturer | model | displ | year | cyl | trans | drv | cty | hwy | fl | class |\n",
       "|---|---|---|---|---|---|---|---|---|---|---|---|\n",
       "| 229 | volkswagen | passat     | 1.8        | 1999       | 4          | auto(l5)   | f          | 18         | 29         | p          | midsize    |\n",
       "| 230 | volkswagen | passat     | 2.0        | 2008       | 4          | auto(s6)   | f          | 19         | 28         | p          | midsize    |\n",
       "| 231 | volkswagen | passat     | 2.0        | 2008       | 4          | manual(m6) | f          | 21         | 29         | p          | midsize    |\n",
       "| 232 | volkswagen | passat     | 2.8        | 1999       | 6          | auto(l5)   | f          | 16         | 26         | p          | midsize    |\n",
       "| 233 | volkswagen | passat     | 2.8        | 1999       | 6          | manual(m5) | f          | 18         | 26         | p          | midsize    |\n",
       "| 234 | volkswagen | passat     | 3.6        | 2008       | 6          | auto(s6)   | f          | 17         | 26         | p          | midsize    |\n",
       "\n"
      ],
      "text/plain": [
       "    manufacturer model  displ year cyl trans      drv cty hwy fl class  \n",
       "229 volkswagen   passat 1.8   1999 4   auto(l5)   f   18  29  p  midsize\n",
       "230 volkswagen   passat 2.0   2008 4   auto(s6)   f   19  28  p  midsize\n",
       "231 volkswagen   passat 2.0   2008 4   manual(m6) f   21  29  p  midsize\n",
       "232 volkswagen   passat 2.8   1999 6   auto(l5)   f   16  26  p  midsize\n",
       "233 volkswagen   passat 2.8   1999 6   manual(m5) f   18  26  p  midsize\n",
       "234 volkswagen   passat 3.6   2008 6   auto(s6)   f   17  26  p  midsize"
      ]
     },
     "metadata": {},
     "output_type": "display_data"
    }
   ],
   "source": [
    "tail(mpg)  # Raw 데이터 뒷부분 확인"
   ]
  },
  {
   "cell_type": "code",
   "execution_count": null,
   "metadata": {},
   "outputs": [],
   "source": [
    "View(mpg)"
   ]
  },
  {
   "cell_type": "markdown",
   "metadata": {},
   "source": [
    "#### 4. dim()을 이용해 데이터가 몇 행, 몇 열로 구성되어 있는지 알아본다."
   ]
  },
  {
   "cell_type": "code",
   "execution_count": 25,
   "metadata": {},
   "outputs": [
    {
     "data": {
      "text/html": [
       "<ol class=list-inline>\n",
       "\t<li>234</li>\n",
       "\t<li>11</li>\n",
       "</ol>\n"
      ],
      "text/latex": [
       "\\begin{enumerate*}\n",
       "\\item 234\n",
       "\\item 11\n",
       "\\end{enumerate*}\n"
      ],
      "text/markdown": [
       "1. 234\n",
       "2. 11\n",
       "\n",
       "\n"
      ],
      "text/plain": [
       "[1] 234  11"
      ]
     },
     "metadata": {},
     "output_type": "display_data"
    }
   ],
   "source": [
    "dim(mpg)  # 행, 열 출력"
   ]
  },
  {
   "cell_type": "markdown",
   "metadata": {},
   "source": [
    "mpg 데이터가 자동차 234종에 대한 11개 변수로 구성되어 있다."
   ]
  },
  {
   "cell_type": "markdown",
   "metadata": {},
   "source": [
    "#### 5. str()을 이용해 각 변수의 속성을 알아본다."
   ]
  },
  {
   "cell_type": "code",
   "execution_count": 26,
   "metadata": {},
   "outputs": [
    {
     "name": "stdout",
     "output_type": "stream",
     "text": [
      "'data.frame':\t234 obs. of  11 variables:\n",
      " $ manufacturer: chr  \"audi\" \"audi\" \"audi\" \"audi\" ...\n",
      " $ model       : chr  \"a4\" \"a4\" \"a4\" \"a4\" ...\n",
      " $ displ       : num  1.8 1.8 2 2 2.8 2.8 3.1 1.8 1.8 2 ...\n",
      " $ year        : int  1999 1999 2008 2008 1999 1999 2008 1999 1999 2008 ...\n",
      " $ cyl         : int  4 4 4 4 6 6 6 4 4 4 ...\n",
      " $ trans       : chr  \"auto(l5)\" \"manual(m5)\" \"manual(m6)\" \"auto(av)\" ...\n",
      " $ drv         : chr  \"f\" \"f\" \"f\" \"f\" ...\n",
      " $ cty         : int  18 21 20 21 16 18 18 18 16 20 ...\n",
      " $ hwy         : int  29 29 31 30 26 26 27 26 25 28 ...\n",
      " $ fl          : chr  \"p\" \"p\" \"p\" \"p\" ...\n",
      " $ class       : chr  \"compact\" \"compact\" \"compact\" \"compact\" ...\n"
     ]
    }
   ],
   "source": [
    "str(mpg)"
   ]
  },
  {
   "cell_type": "markdown",
   "metadata": {},
   "source": [
    "첫 번째 행에서 mpg 데이터가 데이터 프레임이고, 234개 관측치, 11개 변수로 구성되어 있다는 것을 알 수 있다.\n",
    "\n",
    "두 번째 행에서 각 변수들의 속성과 몇 개의 값을 보여주고 있다.\n",
    "\n",
    "chr : 문자(Character),\n",
    "num : 소수점이 있는 실수(Numeric),\n",
    "int : 소수점 없는 정수(Integer)"
   ]
  },
  {
   "cell_type": "markdown",
   "metadata": {},
   "source": [
    "#### 데이터에 대한 설명을 보려면 help 함수를 이용한다.\n",
    "\n",
    "패키지에 들어 있는 데이터는 help 함수를 이용해 설명 글을 볼 수 있다.\n",
    "\n",
    "- manufacturer : 제조회사\n",
    "- displ : 배기량\n",
    "- cyl : 실린더 개수\n",
    "- drv : 구동 방식\n",
    "- hwy : 고속도로 연비\n",
    "- class : 자동차 종류\n",
    "- model : 자동차 모델명\n",
    "- year : 생산연도\n",
    "- trans : 변속기 종류\n",
    "- cty : 도시 연비\n",
    "- fl : 연료 종류"
   ]
  },
  {
   "cell_type": "markdown",
   "metadata": {},
   "source": [
    "#### 6. summary()를 이용해 요약 통계량을 살펴본다"
   ]
  },
  {
   "cell_type": "code",
   "execution_count": 28,
   "metadata": {},
   "outputs": [
    {
     "data": {
      "text/plain": [
       " manufacturer          model               displ            year     \n",
       " Length:234         Length:234         Min.   :1.600   Min.   :1999  \n",
       " Class :character   Class :character   1st Qu.:2.400   1st Qu.:1999  \n",
       " Mode  :character   Mode  :character   Median :3.300   Median :2004  \n",
       "                                       Mean   :3.472   Mean   :2004  \n",
       "                                       3rd Qu.:4.600   3rd Qu.:2008  \n",
       "                                       Max.   :7.000   Max.   :2008  \n",
       "      cyl           trans               drv                 cty       \n",
       " Min.   :4.000   Length:234         Length:234         Min.   : 9.00  \n",
       " 1st Qu.:4.000   Class :character   Class :character   1st Qu.:14.00  \n",
       " Median :6.000   Mode  :character   Mode  :character   Median :17.00  \n",
       " Mean   :5.889                                         Mean   :16.86  \n",
       " 3rd Qu.:8.000                                         3rd Qu.:19.00  \n",
       " Max.   :8.000                                         Max.   :35.00  \n",
       "      hwy             fl               class          \n",
       " Min.   :12.00   Length:234         Length:234        \n",
       " 1st Qu.:18.00   Class :character   Class :character  \n",
       " Median :24.00   Mode  :character   Mode  :character  \n",
       " Mean   :23.44                                        \n",
       " 3rd Qu.:27.00                                        \n",
       " Max.   :44.00                                        "
      ]
     },
     "metadata": {},
     "output_type": "display_data"
    }
   ],
   "source": [
    "summary(mpg)  # 요약 통계량 출력"
   ]
  },
  {
   "cell_type": "markdown",
   "metadata": {},
   "source": [
    "숫자로 된 변수는 여섯 가지 요약 통계량을 보여준다. \n",
    "\n",
    "문자로 된 변수는 요약 통계량을 계산할 수 없으니 값의 개수(Length)와 변수의 속성(Class, Mode)을 보여준다."
   ]
  },
  {
   "cell_type": "markdown",
   "metadata": {},
   "source": [
    "#### 가장 먼저 이런 함수들을 활용해 전반적인 특징을 파악하는 작업을 해야한다."
   ]
  },
  {
   "cell_type": "markdown",
   "metadata": {},
   "source": [
    "## 05-2 변수명 바꾸기\n",
    "\n",
    "데이터의 전반적인 특징을 파악하고 나면 본격적으로 분석하기 전에 변수명을 수정하는 작업을 해야한다.\n",
    "\n",
    "변수명이 어려운 문자로 되어있으면 변수명을 이해하기 쉬운 단어로 바꾸면 데이터를 수월하게 다룰 수 있다.\n",
    "\n",
    "'한국복지패널데이터'는 응답자의 성별이 h0901_4, 소득이 h09_din으로 되어있다.\n",
    "\n",
    "이런경우 sex, income 처럼 이해하기 쉽게 변경해야 헷갈리지 않고 작업할 수 있다.\n"
   ]
  },
  {
   "cell_type": "markdown",
   "metadata": {},
   "source": [
    "### 변수명 바꾸기\n",
    "\n",
    "dplyr 패키지의 rename()을 이용해 변수명을 바꾸는 방법을 알아본다"
   ]
  },
  {
   "cell_type": "markdown",
   "metadata": {},
   "source": [
    "#### 1. 우선 실습에 활용하기 위해 2개의 변수로 구성된 데이터 프레임을 생성한다."
   ]
  },
  {
   "cell_type": "code",
   "execution_count": 30,
   "metadata": {},
   "outputs": [
    {
     "data": {
      "text/html": [
       "<table>\n",
       "<thead><tr><th scope=col>var1</th><th scope=col>var2</th></tr></thead>\n",
       "<tbody>\n",
       "\t<tr><td>1</td><td>2</td></tr>\n",
       "\t<tr><td>2</td><td>3</td></tr>\n",
       "\t<tr><td>1</td><td>2</td></tr>\n",
       "</tbody>\n",
       "</table>\n"
      ],
      "text/latex": [
       "\\begin{tabular}{r|ll}\n",
       " var1 & var2\\\\\n",
       "\\hline\n",
       "\t 1 & 2\\\\\n",
       "\t 2 & 3\\\\\n",
       "\t 1 & 2\\\\\n",
       "\\end{tabular}\n"
      ],
      "text/markdown": [
       "\n",
       "| var1 | var2 |\n",
       "|---|---|\n",
       "| 1 | 2 |\n",
       "| 2 | 3 |\n",
       "| 1 | 2 |\n",
       "\n"
      ],
      "text/plain": [
       "  var1 var2\n",
       "1 1    2   \n",
       "2 2    3   \n",
       "3 1    2   "
      ]
     },
     "metadata": {},
     "output_type": "display_data"
    }
   ],
   "source": [
    "df_raw <- data.frame(var1 = c(1, 2, 1), var2 = c(2, 3, 2))\n",
    "df_raw"
   ]
  },
  {
   "cell_type": "markdown",
   "metadata": {},
   "source": [
    "#### 2. rename()을 이용하기 위해 먼저 dplyr 패키지를 설치하고 로드한다.\n",
    "\n",
    "dplyr은 데이터를 원하는 형태로 가공할 때 사용하는 패키지이다"
   ]
  },
  {
   "cell_type": "code",
   "execution_count": 31,
   "metadata": {},
   "outputs": [
    {
     "name": "stderr",
     "output_type": "stream",
     "text": [
      "Installing package into 'C:/Users/SOJINSOO/Documents/R/win-library/3.5'\n",
      "(as 'lib' is unspecified)\n",
      "also installing the dependencies 'purrr', 'tidyselect', 'BH', 'plogr'\n",
      "\n"
     ]
    },
    {
     "name": "stdout",
     "output_type": "stream",
     "text": [
      "package 'purrr' successfully unpacked and MD5 sums checked\n",
      "package 'tidyselect' successfully unpacked and MD5 sums checked\n",
      "package 'BH' successfully unpacked and MD5 sums checked\n",
      "package 'plogr' successfully unpacked and MD5 sums checked\n",
      "package 'dplyr' successfully unpacked and MD5 sums checked\n",
      "\n",
      "The downloaded binary packages are in\n",
      "\tC:\\Users\\SOJINSOO\\AppData\\Local\\Temp\\Rtmp4iYn7y\\downloaded_packages\n"
     ]
    }
   ],
   "source": [
    "install.packages(\"dplyr\")  # dplyr 설치"
   ]
  },
  {
   "cell_type": "code",
   "execution_count": 32,
   "metadata": {},
   "outputs": [
    {
     "name": "stderr",
     "output_type": "stream",
     "text": [
      "\n",
      "Attaching package: 'dplyr'\n",
      "\n",
      "The following objects are masked from 'package:stats':\n",
      "\n",
      "    filter, lag\n",
      "\n",
      "The following objects are masked from 'package:base':\n",
      "\n",
      "    intersect, setdiff, setequal, union\n",
      "\n"
     ]
    }
   ],
   "source": [
    "library(dplyr)  # dplyr 로드"
   ]
  },
  {
   "cell_type": "markdown",
   "metadata": {},
   "source": [
    "#### 3. 데이터 프레임 복사본 만들기\n",
    "\n",
    "변수명을 바꾸기 전에 원본을 보유하기 위해 df_new라는 데이터 프레임 복사본을 만든다.\n",
    "\n",
    "데이터를 변형하는 작업을 할 때는 원본을 직접 사용하기보다 복사본을 만들어 사용하는 습관을 들이는 게 좋다.\n",
    "\n",
    "오류가 발생하더라도 원 상태로 되돌릴 수 있고, 데이터를 비교하면서 변형되는 과정을 검토할 수 있다."
   ]
  },
  {
   "cell_type": "code",
   "execution_count": 34,
   "metadata": {},
   "outputs": [
    {
     "data": {
      "text/html": [
       "<table>\n",
       "<thead><tr><th scope=col>var1</th><th scope=col>var2</th></tr></thead>\n",
       "<tbody>\n",
       "\t<tr><td>1</td><td>2</td></tr>\n",
       "\t<tr><td>2</td><td>3</td></tr>\n",
       "\t<tr><td>1</td><td>2</td></tr>\n",
       "</tbody>\n",
       "</table>\n"
      ],
      "text/latex": [
       "\\begin{tabular}{r|ll}\n",
       " var1 & var2\\\\\n",
       "\\hline\n",
       "\t 1 & 2\\\\\n",
       "\t 2 & 3\\\\\n",
       "\t 1 & 2\\\\\n",
       "\\end{tabular}\n"
      ],
      "text/markdown": [
       "\n",
       "| var1 | var2 |\n",
       "|---|---|\n",
       "| 1 | 2 |\n",
       "| 2 | 3 |\n",
       "| 1 | 2 |\n",
       "\n"
      ],
      "text/plain": [
       "  var1 var2\n",
       "1 1    2   \n",
       "2 2    3   \n",
       "3 1    2   "
      ]
     },
     "metadata": {},
     "output_type": "display_data"
    }
   ],
   "source": [
    "df_new <- df_raw\n",
    "df_new"
   ]
  },
  {
   "cell_type": "markdown",
   "metadata": {},
   "source": [
    "#### 4. 변수명 바꾸기\n",
    "\n",
    "rename()을 이용해 변수명을 바꿔본다.\n",
    "\n",
    "var2를 v2로 바꾼다.\n",
    "\n",
    "rename()에 '데이터 프레임명, 새 변수명 = 기존 변수명'을 입력하면 된다.\n",
    "\n",
    "순서가 바뀌면 실행되지 않는다."
   ]
  },
  {
   "cell_type": "code",
   "execution_count": 35,
   "metadata": {},
   "outputs": [
    {
     "data": {
      "text/html": [
       "<table>\n",
       "<thead><tr><th scope=col>var1</th><th scope=col>v2</th></tr></thead>\n",
       "<tbody>\n",
       "\t<tr><td>1</td><td>2</td></tr>\n",
       "\t<tr><td>2</td><td>3</td></tr>\n",
       "\t<tr><td>1</td><td>2</td></tr>\n",
       "</tbody>\n",
       "</table>\n"
      ],
      "text/latex": [
       "\\begin{tabular}{r|ll}\n",
       " var1 & v2\\\\\n",
       "\\hline\n",
       "\t 1 & 2\\\\\n",
       "\t 2 & 3\\\\\n",
       "\t 1 & 2\\\\\n",
       "\\end{tabular}\n"
      ],
      "text/markdown": [
       "\n",
       "| var1 | v2 |\n",
       "|---|---|\n",
       "| 1 | 2 |\n",
       "| 2 | 3 |\n",
       "| 1 | 2 |\n",
       "\n"
      ],
      "text/plain": [
       "  var1 v2\n",
       "1 1    2 \n",
       "2 2    3 \n",
       "3 1    2 "
      ]
     },
     "metadata": {},
     "output_type": "display_data"
    }
   ],
   "source": [
    "df_new <- rename(df_new, v2 = var2)  # var2를 v2로 수정\n",
    "df_new"
   ]
  },
  {
   "cell_type": "markdown",
   "metadata": {},
   "source": [
    "#### 5. 원본 df_raw와 복사본 df_new를 함께 출력하면 var2가 v2로 수정된 것을 비교해 볼 수 있다."
   ]
  },
  {
   "cell_type": "code",
   "execution_count": 36,
   "metadata": {},
   "outputs": [
    {
     "data": {
      "text/html": [
       "<table>\n",
       "<thead><tr><th scope=col>var1</th><th scope=col>var2</th></tr></thead>\n",
       "<tbody>\n",
       "\t<tr><td>1</td><td>2</td></tr>\n",
       "\t<tr><td>2</td><td>3</td></tr>\n",
       "\t<tr><td>1</td><td>2</td></tr>\n",
       "</tbody>\n",
       "</table>\n"
      ],
      "text/latex": [
       "\\begin{tabular}{r|ll}\n",
       " var1 & var2\\\\\n",
       "\\hline\n",
       "\t 1 & 2\\\\\n",
       "\t 2 & 3\\\\\n",
       "\t 1 & 2\\\\\n",
       "\\end{tabular}\n"
      ],
      "text/markdown": [
       "\n",
       "| var1 | var2 |\n",
       "|---|---|\n",
       "| 1 | 2 |\n",
       "| 2 | 3 |\n",
       "| 1 | 2 |\n",
       "\n"
      ],
      "text/plain": [
       "  var1 var2\n",
       "1 1    2   \n",
       "2 2    3   \n",
       "3 1    2   "
      ]
     },
     "metadata": {},
     "output_type": "display_data"
    }
   ],
   "source": [
    " df_raw"
   ]
  },
  {
   "cell_type": "code",
   "execution_count": 37,
   "metadata": {},
   "outputs": [
    {
     "data": {
      "text/html": [
       "<table>\n",
       "<thead><tr><th scope=col>var1</th><th scope=col>v2</th></tr></thead>\n",
       "<tbody>\n",
       "\t<tr><td>1</td><td>2</td></tr>\n",
       "\t<tr><td>2</td><td>3</td></tr>\n",
       "\t<tr><td>1</td><td>2</td></tr>\n",
       "</tbody>\n",
       "</table>\n"
      ],
      "text/latex": [
       "\\begin{tabular}{r|ll}\n",
       " var1 & v2\\\\\n",
       "\\hline\n",
       "\t 1 & 2\\\\\n",
       "\t 2 & 3\\\\\n",
       "\t 1 & 2\\\\\n",
       "\\end{tabular}\n"
      ],
      "text/markdown": [
       "\n",
       "| var1 | v2 |\n",
       "|---|---|\n",
       "| 1 | 2 |\n",
       "| 2 | 3 |\n",
       "| 1 | 2 |\n",
       "\n"
      ],
      "text/plain": [
       "  var1 v2\n",
       "1 1    2 \n",
       "2 2    3 \n",
       "3 1    2 "
      ]
     },
     "metadata": {},
     "output_type": "display_data"
    }
   ],
   "source": [
    "df_new"
   ]
  },
  {
   "cell_type": "markdown",
   "metadata": {},
   "source": [
    "## 05-3 파생변수 만들기"
   ]
  },
  {
   "cell_type": "markdown",
   "metadata": {},
   "source": [
    "변수를 조합하거나 함수를 적용해 새 변수를 만들어 분석할 수도 있다.\n",
    "\n",
    "기존의 변수를 변형해 만든 변수를 '파생변수'라고 한다."
   ]
  },
  {
   "cell_type": "markdown",
   "metadata": {},
   "source": [
    "### 변수 조합해 파생변수 만들기"
   ]
  },
  {
   "cell_type": "markdown",
   "metadata": {},
   "source": [
    "#### 1. 데이터 프레임 생성"
   ]
  },
  {
   "cell_type": "code",
   "execution_count": 3,
   "metadata": {},
   "outputs": [
    {
     "data": {
      "text/html": [
       "<table>\n",
       "<thead><tr><th scope=col>var1</th><th scope=col>var2</th></tr></thead>\n",
       "<tbody>\n",
       "\t<tr><td>4</td><td>2</td></tr>\n",
       "\t<tr><td>3</td><td>6</td></tr>\n",
       "\t<tr><td>8</td><td>1</td></tr>\n",
       "</tbody>\n",
       "</table>\n"
      ],
      "text/latex": [
       "\\begin{tabular}{r|ll}\n",
       " var1 & var2\\\\\n",
       "\\hline\n",
       "\t 4 & 2\\\\\n",
       "\t 3 & 6\\\\\n",
       "\t 8 & 1\\\\\n",
       "\\end{tabular}\n"
      ],
      "text/markdown": [
       "\n",
       "| var1 | var2 |\n",
       "|---|---|\n",
       "| 4 | 2 |\n",
       "| 3 | 6 |\n",
       "| 8 | 1 |\n",
       "\n"
      ],
      "text/plain": [
       "  var1 var2\n",
       "1 4    2   \n",
       "2 3    6   \n",
       "3 8    1   "
      ]
     },
     "metadata": {},
     "output_type": "display_data"
    }
   ],
   "source": [
    "df <- data.frame(var1 = c(4, 3, 8),\n",
    "                 var2 = c(2, 6, 1))\n",
    "df"
   ]
  },
  {
   "cell_type": "markdown",
   "metadata": {},
   "source": [
    "#### 2. var1과 var2 변수의 값을 더한 var_sum이라는 파생변수 생성\n",
    "\n",
    "데이터 프레임명에 $를 붙여 새로 만들 변수명을 입력하고, <-로 계산 공식을 할당하는 형태로 코드를 작성"
   ]
  },
  {
   "cell_type": "code",
   "execution_count": 6,
   "metadata": {},
   "outputs": [
    {
     "data": {
      "text/html": [
       "<table>\n",
       "<thead><tr><th scope=col>var1</th><th scope=col>var2</th><th scope=col>var_sum</th></tr></thead>\n",
       "<tbody>\n",
       "\t<tr><td>4</td><td>2</td><td>6</td></tr>\n",
       "\t<tr><td>3</td><td>6</td><td>9</td></tr>\n",
       "\t<tr><td>8</td><td>1</td><td>9</td></tr>\n",
       "</tbody>\n",
       "</table>\n"
      ],
      "text/latex": [
       "\\begin{tabular}{r|lll}\n",
       " var1 & var2 & var\\_sum\\\\\n",
       "\\hline\n",
       "\t 4 & 2 & 6\\\\\n",
       "\t 3 & 6 & 9\\\\\n",
       "\t 8 & 1 & 9\\\\\n",
       "\\end{tabular}\n"
      ],
      "text/markdown": [
       "\n",
       "| var1 | var2 | var_sum |\n",
       "|---|---|---|\n",
       "| 4 | 2 | 6 |\n",
       "| 3 | 6 | 9 |\n",
       "| 8 | 1 | 9 |\n",
       "\n"
      ],
      "text/plain": [
       "  var1 var2 var_sum\n",
       "1 4    2    6      \n",
       "2 3    6    9      \n",
       "3 8    1    9      "
      ]
     },
     "metadata": {},
     "output_type": "display_data"
    }
   ],
   "source": [
    "df$var_sum <- df$var1 + df$var2\n",
    "df"
   ]
  },
  {
   "cell_type": "markdown",
   "metadata": {},
   "source": [
    "#### 3. var1과 var2를 더한 후 2로 나눠 var_mean이라는 파생변수 생성"
   ]
  },
  {
   "cell_type": "code",
   "execution_count": 9,
   "metadata": {},
   "outputs": [
    {
     "data": {
      "text/html": [
       "<table>\n",
       "<thead><tr><th scope=col>var1</th><th scope=col>var2</th><th scope=col>var_sum</th><th scope=col>var_mean</th></tr></thead>\n",
       "<tbody>\n",
       "\t<tr><td>4  </td><td>2  </td><td>6  </td><td>3.0</td></tr>\n",
       "\t<tr><td>3  </td><td>6  </td><td>9  </td><td>4.5</td></tr>\n",
       "\t<tr><td>8  </td><td>1  </td><td>9  </td><td>4.5</td></tr>\n",
       "</tbody>\n",
       "</table>\n"
      ],
      "text/latex": [
       "\\begin{tabular}{r|llll}\n",
       " var1 & var2 & var\\_sum & var\\_mean\\\\\n",
       "\\hline\n",
       "\t 4   & 2   & 6   & 3.0\\\\\n",
       "\t 3   & 6   & 9   & 4.5\\\\\n",
       "\t 8   & 1   & 9   & 4.5\\\\\n",
       "\\end{tabular}\n"
      ],
      "text/markdown": [
       "\n",
       "| var1 | var2 | var_sum | var_mean |\n",
       "|---|---|---|---|\n",
       "| 4   | 2   | 6   | 3.0 |\n",
       "| 3   | 6   | 9   | 4.5 |\n",
       "| 8   | 1   | 9   | 4.5 |\n",
       "\n"
      ],
      "text/plain": [
       "  var1 var2 var_sum var_mean\n",
       "1 4    2    6       3.0     \n",
       "2 3    6    9       4.5     \n",
       "3 8    1    9       4.5     "
      ]
     },
     "metadata": {},
     "output_type": "display_data"
    }
   ],
   "source": [
    "df$var_mean <- (df$var1 + df$var2) / 2\n",
    "df"
   ]
  },
  {
   "cell_type": "markdown",
   "metadata": {},
   "source": [
    "### mpg 통합 연비 변수 만들기\n",
    "\n",
    "mpg 데이터에는 도시 연비를 의미하는 cty, 고속도리 연비를 의미하는 hwy, 두 종류의 연비 변수가 있다."
   ]
  },
  {
   "cell_type": "markdown",
   "metadata": {},
   "source": [
    "#### 1. cty, hwy 두 변수를 더해 2로 나눠 도로 유형을 통합한 연비 변수를 만든다."
   ]
  },
  {
   "cell_type": "code",
   "execution_count": 12,
   "metadata": {},
   "outputs": [
    {
     "data": {
      "text/html": [
       "<table>\n",
       "<thead><tr><th scope=col>manufacturer</th><th scope=col>model</th><th scope=col>displ</th><th scope=col>year</th><th scope=col>cyl</th><th scope=col>trans</th><th scope=col>drv</th><th scope=col>cty</th><th scope=col>hwy</th><th scope=col>fl</th><th scope=col>class</th><th scope=col>total</th></tr></thead>\n",
       "<tbody>\n",
       "\t<tr><td>audi      </td><td>a4        </td><td>1.8       </td><td>1999      </td><td>4         </td><td>auto(l5)  </td><td>f         </td><td>18        </td><td>29        </td><td>p         </td><td>compact   </td><td>23.5      </td></tr>\n",
       "\t<tr><td>audi      </td><td>a4        </td><td>1.8       </td><td>1999      </td><td>4         </td><td>manual(m5)</td><td>f         </td><td>21        </td><td>29        </td><td>p         </td><td>compact   </td><td>25.0      </td></tr>\n",
       "\t<tr><td>audi      </td><td>a4        </td><td>2.0       </td><td>2008      </td><td>4         </td><td>manual(m6)</td><td>f         </td><td>20        </td><td>31        </td><td>p         </td><td>compact   </td><td>25.5      </td></tr>\n",
       "\t<tr><td>audi      </td><td>a4        </td><td>2.0       </td><td>2008      </td><td>4         </td><td>auto(av)  </td><td>f         </td><td>21        </td><td>30        </td><td>p         </td><td>compact   </td><td>25.5      </td></tr>\n",
       "\t<tr><td>audi      </td><td>a4        </td><td>2.8       </td><td>1999      </td><td>6         </td><td>auto(l5)  </td><td>f         </td><td>16        </td><td>26        </td><td>p         </td><td>compact   </td><td>21.0      </td></tr>\n",
       "\t<tr><td>audi      </td><td>a4        </td><td>2.8       </td><td>1999      </td><td>6         </td><td>manual(m5)</td><td>f         </td><td>18        </td><td>26        </td><td>p         </td><td>compact   </td><td>22.0      </td></tr>\n",
       "</tbody>\n",
       "</table>\n"
      ],
      "text/latex": [
       "\\begin{tabular}{r|llllllllllll}\n",
       " manufacturer & model & displ & year & cyl & trans & drv & cty & hwy & fl & class & total\\\\\n",
       "\\hline\n",
       "\t audi       & a4         & 1.8        & 1999       & 4          & auto(l5)   & f          & 18         & 29         & p          & compact    & 23.5      \\\\\n",
       "\t audi       & a4         & 1.8        & 1999       & 4          & manual(m5) & f          & 21         & 29         & p          & compact    & 25.0      \\\\\n",
       "\t audi       & a4         & 2.0        & 2008       & 4          & manual(m6) & f          & 20         & 31         & p          & compact    & 25.5      \\\\\n",
       "\t audi       & a4         & 2.0        & 2008       & 4          & auto(av)   & f          & 21         & 30         & p          & compact    & 25.5      \\\\\n",
       "\t audi       & a4         & 2.8        & 1999       & 6          & auto(l5)   & f          & 16         & 26         & p          & compact    & 21.0      \\\\\n",
       "\t audi       & a4         & 2.8        & 1999       & 6          & manual(m5) & f          & 18         & 26         & p          & compact    & 22.0      \\\\\n",
       "\\end{tabular}\n"
      ],
      "text/markdown": [
       "\n",
       "| manufacturer | model | displ | year | cyl | trans | drv | cty | hwy | fl | class | total |\n",
       "|---|---|---|---|---|---|---|---|---|---|---|---|\n",
       "| audi       | a4         | 1.8        | 1999       | 4          | auto(l5)   | f          | 18         | 29         | p          | compact    | 23.5       |\n",
       "| audi       | a4         | 1.8        | 1999       | 4          | manual(m5) | f          | 21         | 29         | p          | compact    | 25.0       |\n",
       "| audi       | a4         | 2.0        | 2008       | 4          | manual(m6) | f          | 20         | 31         | p          | compact    | 25.5       |\n",
       "| audi       | a4         | 2.0        | 2008       | 4          | auto(av)   | f          | 21         | 30         | p          | compact    | 25.5       |\n",
       "| audi       | a4         | 2.8        | 1999       | 6          | auto(l5)   | f          | 16         | 26         | p          | compact    | 21.0       |\n",
       "| audi       | a4         | 2.8        | 1999       | 6          | manual(m5) | f          | 18         | 26         | p          | compact    | 22.0       |\n",
       "\n"
      ],
      "text/plain": [
       "  manufacturer model displ year cyl trans      drv cty hwy fl class   total\n",
       "1 audi         a4    1.8   1999 4   auto(l5)   f   18  29  p  compact 23.5 \n",
       "2 audi         a4    1.8   1999 4   manual(m5) f   21  29  p  compact 25.0 \n",
       "3 audi         a4    2.0   2008 4   manual(m6) f   20  31  p  compact 25.5 \n",
       "4 audi         a4    2.0   2008 4   auto(av)   f   21  30  p  compact 25.5 \n",
       "5 audi         a4    2.8   1999 6   auto(l5)   f   16  26  p  compact 21.0 \n",
       "6 audi         a4    2.8   1999 6   manual(m5) f   18  26  p  compact 22.0 "
      ]
     },
     "metadata": {},
     "output_type": "display_data"
    }
   ],
   "source": [
    "mpg$total <- (mpg$cty + mpg$hwy) / 2\n",
    "head(mpg)"
   ]
  },
  {
   "cell_type": "markdown",
   "metadata": {},
   "source": [
    "#### 2. 통합 연비 변수 평균을 구한다."
   ]
  },
  {
   "cell_type": "code",
   "execution_count": 14,
   "metadata": {},
   "outputs": [
    {
     "data": {
      "text/html": [
       "20.1495726495727"
      ],
      "text/latex": [
       "20.1495726495727"
      ],
      "text/markdown": [
       "20.1495726495727"
      ],
      "text/plain": [
       "[1] 20.14957"
      ]
     },
     "metadata": {},
     "output_type": "display_data"
    }
   ],
   "source": [
    " mean(mpg$total)"
   ]
  },
  {
   "cell_type": "markdown",
   "metadata": {},
   "source": [
    "### 조건문을 활용해 파생변수 만들기\n",
    "\n",
    "조건에 따라 서로 다른 값을 반환하는 '조건문 함수'를 이용해 파생변수를 생성하는 방법을 알아본다.\n",
    "\n",
    "mpg 데이터를 이용해 전체 자동차 중에서 연비 기준을 충족해 '고연비 합격 판정'을 받은 자동차가 몇 대나 되는지 알아보는 상황을 가정"
   ]
  },
  {
   "cell_type": "markdown",
   "metadata": {},
   "source": [
    "#### 1. 기준값 정하기\n",
    "\n",
    "summary()를 이용해 앞에서 만든 통합 연비 변수 total의 평균과 중앙값을 확인한다."
   ]
  },
  {
   "cell_type": "code",
   "execution_count": 16,
   "metadata": {},
   "outputs": [
    {
     "data": {
      "text/plain": [
       "   Min. 1st Qu.  Median    Mean 3rd Qu.    Max. \n",
       "  10.50   15.50   20.50   20.15   23.50   39.50 "
      ]
     },
     "metadata": {},
     "output_type": "display_data"
    }
   ],
   "source": [
    "summary(mpg$total)"
   ]
  },
  {
   "cell_type": "markdown",
   "metadata": {},
   "source": [
    "히스토그램을 생성해 자동차들의 연비 분포를 알아본다.\n",
    "\n",
    "히스토그램은 값의 빈도를 막대 길이로 표현한 그래프이다. 어떤 값을 지닌 데이터가 많은지 전반적인 분포를 알 수 있다."
   ]
  },
  {
   "cell_type": "code",
   "execution_count": 21,
   "metadata": {},
   "outputs": [
    {
     "data": {
      "image/png": "[encoded data removed]",
      "text/plain": [
       "Plot with title \"Histogram of mpg$total\""
      ]
     },
     "metadata": {},
     "output_type": "display_data"
    }
   ],
   "source": [
    "hist(mpg$total)"
   ]
  },
  {
   "cell_type": "markdown",
   "metadata": {},
   "source": [
    "- total 연비의 평균과 중앙값이 약 20이다.\n",
    "- total 연비가 20~25 사이에 해당하는 자동차 모델이 가장 많다.\n",
    "- 대부분 25 이하이고, 25를 넘기는 자동차는 많지 않다."
   ]
  },
  {
   "cell_type": "markdown",
   "metadata": {},
   "source": [
    "연비가 20을 넘기는 자동차에 고연비 합격 판정을 내리면 적당할 것이라고 판단된다."
   ]
  },
  {
   "cell_type": "markdown",
   "metadata": {},
   "source": [
    "#### 2. 합격 판정 변수 만들기\n",
    "\n",
    "조건에 따라 서로 다른 값을 반환하는 함수를 '조건문 함수'라고 한다.\n",
    "\n",
    "특정 조건을 만족했는지의 여부에 따라 서로 다른 값을 부여해 변수를 생성할 수 있다.\n",
    "\n",
    "ifelse()는 가장 많이 사용하는 조건문 함수이다.\n",
    "\n",
    "ifelse((1. 조건)mpg$total >= 20, (2. 조건에 맞을 때 부여)\"pass\", (3. 조건에 맞지 않을 때 부여)\"fail\")"
   ]
  },
  {
   "cell_type": "code",
   "execution_count": 24,
   "metadata": {},
   "outputs": [
    {
     "data": {
      "text/html": [
       "<table>\n",
       "<thead><tr><th scope=col>manufacturer</th><th scope=col>model</th><th scope=col>displ</th><th scope=col>year</th><th scope=col>cyl</th><th scope=col>trans</th><th scope=col>drv</th><th scope=col>cty</th><th scope=col>hwy</th><th scope=col>fl</th><th scope=col>class</th><th scope=col>total</th><th scope=col>test</th></tr></thead>\n",
       "<tbody>\n",
       "\t<tr><td>audi              </td><td>a4                </td><td>1.8               </td><td>1999              </td><td>4                 </td><td>auto(l5)          </td><td>f                 </td><td>18                </td><td>29                </td><td>p                 </td><td>compact           </td><td>23.5              </td><td>pass              </td></tr>\n",
       "\t<tr><td>audi              </td><td>a4                </td><td>1.8               </td><td>1999              </td><td>4                 </td><td>manual(m5)        </td><td>f                 </td><td>21                </td><td>29                </td><td>p                 </td><td>compact           </td><td>25.0              </td><td>pass              </td></tr>\n",
       "\t<tr><td>audi              </td><td>a4                </td><td>2.0               </td><td>2008              </td><td>4                 </td><td>manual(m6)        </td><td>f                 </td><td>20                </td><td>31                </td><td>p                 </td><td>compact           </td><td>25.5              </td><td>pass              </td></tr>\n",
       "\t<tr><td>audi              </td><td>a4                </td><td>2.0               </td><td>2008              </td><td>4                 </td><td>auto(av)          </td><td>f                 </td><td>21                </td><td>30                </td><td>p                 </td><td>compact           </td><td>25.5              </td><td>pass              </td></tr>\n",
       "\t<tr><td>audi              </td><td>a4                </td><td>2.8               </td><td>1999              </td><td>6                 </td><td>auto(l5)          </td><td>f                 </td><td>16                </td><td>26                </td><td>p                 </td><td>compact           </td><td>21.0              </td><td>pass              </td></tr>\n",
       "\t<tr><td>audi              </td><td>a4                </td><td>2.8               </td><td>1999              </td><td>6                 </td><td>manual(m5)        </td><td>f                 </td><td>18                </td><td>26                </td><td>p                 </td><td>compact           </td><td>22.0              </td><td>pass              </td></tr>\n",
       "\t<tr><td>audi              </td><td>a4                </td><td>3.1               </td><td>2008              </td><td>6                 </td><td>auto(av)          </td><td>f                 </td><td>18                </td><td>27                </td><td>p                 </td><td>compact           </td><td>22.5              </td><td>pass              </td></tr>\n",
       "\t<tr><td>audi              </td><td>a4 quattro        </td><td>1.8               </td><td>1999              </td><td>4                 </td><td>manual(m5)        </td><td>4                 </td><td>18                </td><td>26                </td><td>p                 </td><td>compact           </td><td>22.0              </td><td>pass              </td></tr>\n",
       "\t<tr><td>audi              </td><td>a4 quattro        </td><td>1.8               </td><td>1999              </td><td>4                 </td><td>auto(l5)          </td><td>4                 </td><td>16                </td><td>25                </td><td>p                 </td><td>compact           </td><td>20.5              </td><td>pass              </td></tr>\n",
       "\t<tr><td>audi              </td><td>a4 quattro        </td><td>2.0               </td><td>2008              </td><td>4                 </td><td>manual(m6)        </td><td>4                 </td><td>20                </td><td>28                </td><td>p                 </td><td>compact           </td><td>24.0              </td><td>pass              </td></tr>\n",
       "\t<tr><td>audi              </td><td>a4 quattro        </td><td>2.0               </td><td>2008              </td><td>4                 </td><td>auto(s6)          </td><td>4                 </td><td>19                </td><td>27                </td><td>p                 </td><td>compact           </td><td>23.0              </td><td>pass              </td></tr>\n",
       "\t<tr><td>audi              </td><td>a4 quattro        </td><td>2.8               </td><td>1999              </td><td>6                 </td><td>auto(l5)          </td><td>4                 </td><td>15                </td><td>25                </td><td>p                 </td><td>compact           </td><td>20.0              </td><td>pass              </td></tr>\n",
       "\t<tr><td>audi              </td><td>a4 quattro        </td><td>2.8               </td><td>1999              </td><td>6                 </td><td>manual(m5)        </td><td>4                 </td><td>17                </td><td>25                </td><td>p                 </td><td>compact           </td><td>21.0              </td><td>pass              </td></tr>\n",
       "\t<tr><td>audi              </td><td>a4 quattro        </td><td>3.1               </td><td>2008              </td><td>6                 </td><td>auto(s6)          </td><td>4                 </td><td>17                </td><td>25                </td><td>p                 </td><td>compact           </td><td>21.0              </td><td>pass              </td></tr>\n",
       "\t<tr><td>audi              </td><td>a4 quattro        </td><td>3.1               </td><td>2008              </td><td>6                 </td><td>manual(m6)        </td><td>4                 </td><td>15                </td><td>25                </td><td>p                 </td><td>compact           </td><td>20.0              </td><td>pass              </td></tr>\n",
       "\t<tr><td>audi              </td><td>a6 quattro        </td><td>2.8               </td><td>1999              </td><td>6                 </td><td>auto(l5)          </td><td>4                 </td><td>15                </td><td>24                </td><td>p                 </td><td>midsize           </td><td>19.5              </td><td>fail              </td></tr>\n",
       "\t<tr><td>audi              </td><td>a6 quattro        </td><td>3.1               </td><td>2008              </td><td>6                 </td><td>auto(s6)          </td><td>4                 </td><td>17                </td><td>25                </td><td>p                 </td><td>midsize           </td><td>21.0              </td><td>pass              </td></tr>\n",
       "\t<tr><td>audi              </td><td>a6 quattro        </td><td>4.2               </td><td>2008              </td><td>8                 </td><td>auto(s6)          </td><td>4                 </td><td>16                </td><td>23                </td><td>p                 </td><td>midsize           </td><td>19.5              </td><td>fail              </td></tr>\n",
       "\t<tr><td>chevrolet         </td><td>c1500 suburban 2wd</td><td>5.3               </td><td>2008              </td><td>8                 </td><td>auto(l4)          </td><td>r                 </td><td>14                </td><td>20                </td><td>r                 </td><td>suv               </td><td>17.0              </td><td>fail              </td></tr>\n",
       "\t<tr><td>chevrolet         </td><td>c1500 suburban 2wd</td><td>5.3               </td><td>2008              </td><td>8                 </td><td>auto(l4)          </td><td>r                 </td><td>11                </td><td>15                </td><td>e                 </td><td>suv               </td><td>13.0              </td><td>fail              </td></tr>\n",
       "</tbody>\n",
       "</table>\n"
      ],
      "text/latex": [
       "\\begin{tabular}{r|lllllllllllll}\n",
       " manufacturer & model & displ & year & cyl & trans & drv & cty & hwy & fl & class & total & test\\\\\n",
       "\\hline\n",
       "\t audi               & a4                 & 1.8                & 1999               & 4                  & auto(l5)           & f                  & 18                 & 29                 & p                  & compact            & 23.5               & pass              \\\\\n",
       "\t audi               & a4                 & 1.8                & 1999               & 4                  & manual(m5)         & f                  & 21                 & 29                 & p                  & compact            & 25.0               & pass              \\\\\n",
       "\t audi               & a4                 & 2.0                & 2008               & 4                  & manual(m6)         & f                  & 20                 & 31                 & p                  & compact            & 25.5               & pass              \\\\\n",
       "\t audi               & a4                 & 2.0                & 2008               & 4                  & auto(av)           & f                  & 21                 & 30                 & p                  & compact            & 25.5               & pass              \\\\\n",
       "\t audi               & a4                 & 2.8                & 1999               & 6                  & auto(l5)           & f                  & 16                 & 26                 & p                  & compact            & 21.0               & pass              \\\\\n",
       "\t audi               & a4                 & 2.8                & 1999               & 6                  & manual(m5)         & f                  & 18                 & 26                 & p                  & compact            & 22.0               & pass              \\\\\n",
       "\t audi               & a4                 & 3.1                & 2008               & 6                  & auto(av)           & f                  & 18                 & 27                 & p                  & compact            & 22.5               & pass              \\\\\n",
       "\t audi               & a4 quattro         & 1.8                & 1999               & 4                  & manual(m5)         & 4                  & 18                 & 26                 & p                  & compact            & 22.0               & pass              \\\\\n",
       "\t audi               & a4 quattro         & 1.8                & 1999               & 4                  & auto(l5)           & 4                  & 16                 & 25                 & p                  & compact            & 20.5               & pass              \\\\\n",
       "\t audi               & a4 quattro         & 2.0                & 2008               & 4                  & manual(m6)         & 4                  & 20                 & 28                 & p                  & compact            & 24.0               & pass              \\\\\n",
       "\t audi               & a4 quattro         & 2.0                & 2008               & 4                  & auto(s6)           & 4                  & 19                 & 27                 & p                  & compact            & 23.0               & pass              \\\\\n",
       "\t audi               & a4 quattro         & 2.8                & 1999               & 6                  & auto(l5)           & 4                  & 15                 & 25                 & p                  & compact            & 20.0               & pass              \\\\\n",
       "\t audi               & a4 quattro         & 2.8                & 1999               & 6                  & manual(m5)         & 4                  & 17                 & 25                 & p                  & compact            & 21.0               & pass              \\\\\n",
       "\t audi               & a4 quattro         & 3.1                & 2008               & 6                  & auto(s6)           & 4                  & 17                 & 25                 & p                  & compact            & 21.0               & pass              \\\\\n",
       "\t audi               & a4 quattro         & 3.1                & 2008               & 6                  & manual(m6)         & 4                  & 15                 & 25                 & p                  & compact            & 20.0               & pass              \\\\\n",
       "\t audi               & a6 quattro         & 2.8                & 1999               & 6                  & auto(l5)           & 4                  & 15                 & 24                 & p                  & midsize            & 19.5               & fail              \\\\\n",
       "\t audi               & a6 quattro         & 3.1                & 2008               & 6                  & auto(s6)           & 4                  & 17                 & 25                 & p                  & midsize            & 21.0               & pass              \\\\\n",
       "\t audi               & a6 quattro         & 4.2                & 2008               & 8                  & auto(s6)           & 4                  & 16                 & 23                 & p                  & midsize            & 19.5               & fail              \\\\\n",
       "\t chevrolet          & c1500 suburban 2wd & 5.3                & 2008               & 8                  & auto(l4)           & r                  & 14                 & 20                 & r                  & suv                & 17.0               & fail              \\\\\n",
       "\t chevrolet          & c1500 suburban 2wd & 5.3                & 2008               & 8                  & auto(l4)           & r                  & 11                 & 15                 & e                  & suv                & 13.0               & fail              \\\\\n",
       "\\end{tabular}\n"
      ],
      "text/markdown": [
       "\n",
       "| manufacturer | model | displ | year | cyl | trans | drv | cty | hwy | fl | class | total | test |\n",
       "|---|---|---|---|---|---|---|---|---|---|---|---|---|\n",
       "| audi               | a4                 | 1.8                | 1999               | 4                  | auto(l5)           | f                  | 18                 | 29                 | p                  | compact            | 23.5               | pass               |\n",
       "| audi               | a4                 | 1.8                | 1999               | 4                  | manual(m5)         | f                  | 21                 | 29                 | p                  | compact            | 25.0               | pass               |\n",
       "| audi               | a4                 | 2.0                | 2008               | 4                  | manual(m6)         | f                  | 20                 | 31                 | p                  | compact            | 25.5               | pass               |\n",
       "| audi               | a4                 | 2.0                | 2008               | 4                  | auto(av)           | f                  | 21                 | 30                 | p                  | compact            | 25.5               | pass               |\n",
       "| audi               | a4                 | 2.8                | 1999               | 6                  | auto(l5)           | f                  | 16                 | 26                 | p                  | compact            | 21.0               | pass               |\n",
       "| audi               | a4                 | 2.8                | 1999               | 6                  | manual(m5)         | f                  | 18                 | 26                 | p                  | compact            | 22.0               | pass               |\n",
       "| audi               | a4                 | 3.1                | 2008               | 6                  | auto(av)           | f                  | 18                 | 27                 | p                  | compact            | 22.5               | pass               |\n",
       "| audi               | a4 quattro         | 1.8                | 1999               | 4                  | manual(m5)         | 4                  | 18                 | 26                 | p                  | compact            | 22.0               | pass               |\n",
       "| audi               | a4 quattro         | 1.8                | 1999               | 4                  | auto(l5)           | 4                  | 16                 | 25                 | p                  | compact            | 20.5               | pass               |\n",
       "| audi               | a4 quattro         | 2.0                | 2008               | 4                  | manual(m6)         | 4                  | 20                 | 28                 | p                  | compact            | 24.0               | pass               |\n",
       "| audi               | a4 quattro         | 2.0                | 2008               | 4                  | auto(s6)           | 4                  | 19                 | 27                 | p                  | compact            | 23.0               | pass               |\n",
       "| audi               | a4 quattro         | 2.8                | 1999               | 6                  | auto(l5)           | 4                  | 15                 | 25                 | p                  | compact            | 20.0               | pass               |\n",
       "| audi               | a4 quattro         | 2.8                | 1999               | 6                  | manual(m5)         | 4                  | 17                 | 25                 | p                  | compact            | 21.0               | pass               |\n",
       "| audi               | a4 quattro         | 3.1                | 2008               | 6                  | auto(s6)           | 4                  | 17                 | 25                 | p                  | compact            | 21.0               | pass               |\n",
       "| audi               | a4 quattro         | 3.1                | 2008               | 6                  | manual(m6)         | 4                  | 15                 | 25                 | p                  | compact            | 20.0               | pass               |\n",
       "| audi               | a6 quattro         | 2.8                | 1999               | 6                  | auto(l5)           | 4                  | 15                 | 24                 | p                  | midsize            | 19.5               | fail               |\n",
       "| audi               | a6 quattro         | 3.1                | 2008               | 6                  | auto(s6)           | 4                  | 17                 | 25                 | p                  | midsize            | 21.0               | pass               |\n",
       "| audi               | a6 quattro         | 4.2                | 2008               | 8                  | auto(s6)           | 4                  | 16                 | 23                 | p                  | midsize            | 19.5               | fail               |\n",
       "| chevrolet          | c1500 suburban 2wd | 5.3                | 2008               | 8                  | auto(l4)           | r                  | 14                 | 20                 | r                  | suv                | 17.0               | fail               |\n",
       "| chevrolet          | c1500 suburban 2wd | 5.3                | 2008               | 8                  | auto(l4)           | r                  | 11                 | 15                 | e                  | suv                | 13.0               | fail               |\n",
       "\n"
      ],
      "text/plain": [
       "   manufacturer model              displ year cyl trans      drv cty hwy fl\n",
       "1  audi         a4                 1.8   1999 4   auto(l5)   f   18  29  p \n",
       "2  audi         a4                 1.8   1999 4   manual(m5) f   21  29  p \n",
       "3  audi         a4                 2.0   2008 4   manual(m6) f   20  31  p \n",
       "4  audi         a4                 2.0   2008 4   auto(av)   f   21  30  p \n",
       "5  audi         a4                 2.8   1999 6   auto(l5)   f   16  26  p \n",
       "6  audi         a4                 2.8   1999 6   manual(m5) f   18  26  p \n",
       "7  audi         a4                 3.1   2008 6   auto(av)   f   18  27  p \n",
       "8  audi         a4 quattro         1.8   1999 4   manual(m5) 4   18  26  p \n",
       "9  audi         a4 quattro         1.8   1999 4   auto(l5)   4   16  25  p \n",
       "10 audi         a4 quattro         2.0   2008 4   manual(m6) 4   20  28  p \n",
       "11 audi         a4 quattro         2.0   2008 4   auto(s6)   4   19  27  p \n",
       "12 audi         a4 quattro         2.8   1999 6   auto(l5)   4   15  25  p \n",
       "13 audi         a4 quattro         2.8   1999 6   manual(m5) 4   17  25  p \n",
       "14 audi         a4 quattro         3.1   2008 6   auto(s6)   4   17  25  p \n",
       "15 audi         a4 quattro         3.1   2008 6   manual(m6) 4   15  25  p \n",
       "16 audi         a6 quattro         2.8   1999 6   auto(l5)   4   15  24  p \n",
       "17 audi         a6 quattro         3.1   2008 6   auto(s6)   4   17  25  p \n",
       "18 audi         a6 quattro         4.2   2008 8   auto(s6)   4   16  23  p \n",
       "19 chevrolet    c1500 suburban 2wd 5.3   2008 8   auto(l4)   r   14  20  r \n",
       "20 chevrolet    c1500 suburban 2wd 5.3   2008 8   auto(l4)   r   11  15  e \n",
       "   class   total test\n",
       "1  compact 23.5  pass\n",
       "2  compact 25.0  pass\n",
       "3  compact 25.5  pass\n",
       "4  compact 25.5  pass\n",
       "5  compact 21.0  pass\n",
       "6  compact 22.0  pass\n",
       "7  compact 22.5  pass\n",
       "8  compact 22.0  pass\n",
       "9  compact 20.5  pass\n",
       "10 compact 24.0  pass\n",
       "11 compact 23.0  pass\n",
       "12 compact 20.0  pass\n",
       "13 compact 21.0  pass\n",
       "14 compact 21.0  pass\n",
       "15 compact 20.0  pass\n",
       "16 midsize 19.5  fail\n",
       "17 midsize 21.0  pass\n",
       "18 midsize 19.5  fail\n",
       "19 suv     17.0  fail\n",
       "20 suv     13.0  fail"
      ]
     },
     "metadata": {},
     "output_type": "display_data"
    }
   ],
   "source": [
    "mpg$test <- ifelse(mpg$total >= 20, \"pass\", \"fail\")\n",
    "head(mpg, 20)"
   ]
  },
  {
   "cell_type": "markdown",
   "metadata": {},
   "source": [
    "#### 3. 빈도표로 합격 판정 자동차 수 살펴보기\n",
    "\n",
    "빈도표는 변수의 각 값들이 몇 개씩 존재하는지, 데이터의 개수를 나타낸 표이다.\n",
    "\n",
    "table()을 이용해 빈도표를 만든다"
   ]
  },
  {
   "cell_type": "code",
   "execution_count": 27,
   "metadata": {},
   "outputs": [
    {
     "data": {
      "text/plain": [
       "\n",
       "fail pass \n",
       " 106  128 "
      ]
     },
     "metadata": {},
     "output_type": "display_data"
    }
   ],
   "source": [
    "table(mpg$test)"
   ]
  },
  {
   "cell_type": "markdown",
   "metadata": {},
   "source": [
    "합격 판정을 받은 자동차는 128대, 불합격 판정을 받은 자동차는 106대이다."
   ]
  },
  {
   "cell_type": "markdown",
   "metadata": {},
   "source": [
    "#### 4. 막대 그래프로 빈도 표현하기\n",
    "\n",
    "막대 그래프를 만들면 각 항목의 빈도가 얼마나 되는지 한눈에 파악할 수 있다.\n",
    "\n",
    "ggplot2 패키지에 내장된 qplot()은 값의 개수를 막대의 길이로 표현하는 기능을 한다."
   ]
  },
  {
   "cell_type": "code",
   "execution_count": 28,
   "metadata": {},
   "outputs": [
    {
     "data": {
      "image/png": "[encoded data removed]",
      "text/plain": [
       "plot without title"
      ]
     },
     "metadata": {},
     "output_type": "display_data"
    }
   ],
   "source": [
    "library(ggplot2)\n",
    "qplot(mpg$test)"
   ]
  },
  {
   "cell_type": "markdown",
   "metadata": {},
   "source": [
    "### 중첩 조건문 활용하기\n",
    "\n",
    "A, B, C 세 종류의 연비 등급으로 분류하는 변수를 만들어 본다.\n",
    "\n",
    "total이 30 이상이면 A, 20~29는 B, 20미만이면 C등급으로 분류한다.\n",
    "\n",
    "세 가지 이상의 범주로 값을 부여하려면 ifelse() 안에 다시 ifelse()를 넣는 형식으로 조건문을 중첩해 작성해야 한다.\n",
    "\n",
    "여러 개의 조건문을 중첩한 코드를 '중첩 조건문'이라고 한다."
   ]
  },
  {
   "cell_type": "markdown",
   "metadata": {},
   "source": [
    "#### 1. 연비에 따라 세가지 종류의 등급을 부여해 grade 변수를 생성"
   ]
  },
  {
   "cell_type": "code",
   "execution_count": 29,
   "metadata": {},
   "outputs": [
    {
     "data": {
      "text/html": [
       "<table>\n",
       "<thead><tr><th scope=col>manufacturer</th><th scope=col>model</th><th scope=col>displ</th><th scope=col>year</th><th scope=col>cyl</th><th scope=col>trans</th><th scope=col>drv</th><th scope=col>cty</th><th scope=col>hwy</th><th scope=col>fl</th><th scope=col>class</th><th scope=col>total</th><th scope=col>test</th><th scope=col>grade</th></tr></thead>\n",
       "<tbody>\n",
       "\t<tr><td>audi              </td><td>a4                </td><td>1.8               </td><td>1999              </td><td>4                 </td><td>auto(l5)          </td><td>f                 </td><td>18                </td><td>29                </td><td>p                 </td><td>compact           </td><td>23.5              </td><td>pass              </td><td>B                 </td></tr>\n",
       "\t<tr><td>audi              </td><td>a4                </td><td>1.8               </td><td>1999              </td><td>4                 </td><td>manual(m5)        </td><td>f                 </td><td>21                </td><td>29                </td><td>p                 </td><td>compact           </td><td>25.0              </td><td>pass              </td><td>B                 </td></tr>\n",
       "\t<tr><td>audi              </td><td>a4                </td><td>2.0               </td><td>2008              </td><td>4                 </td><td>manual(m6)        </td><td>f                 </td><td>20                </td><td>31                </td><td>p                 </td><td>compact           </td><td>25.5              </td><td>pass              </td><td>B                 </td></tr>\n",
       "\t<tr><td>audi              </td><td>a4                </td><td>2.0               </td><td>2008              </td><td>4                 </td><td>auto(av)          </td><td>f                 </td><td>21                </td><td>30                </td><td>p                 </td><td>compact           </td><td>25.5              </td><td>pass              </td><td>B                 </td></tr>\n",
       "\t<tr><td>audi              </td><td>a4                </td><td>2.8               </td><td>1999              </td><td>6                 </td><td>auto(l5)          </td><td>f                 </td><td>16                </td><td>26                </td><td>p                 </td><td>compact           </td><td>21.0              </td><td>pass              </td><td>B                 </td></tr>\n",
       "\t<tr><td>audi              </td><td>a4                </td><td>2.8               </td><td>1999              </td><td>6                 </td><td>manual(m5)        </td><td>f                 </td><td>18                </td><td>26                </td><td>p                 </td><td>compact           </td><td>22.0              </td><td>pass              </td><td>B                 </td></tr>\n",
       "\t<tr><td>audi              </td><td>a4                </td><td>3.1               </td><td>2008              </td><td>6                 </td><td>auto(av)          </td><td>f                 </td><td>18                </td><td>27                </td><td>p                 </td><td>compact           </td><td>22.5              </td><td>pass              </td><td>B                 </td></tr>\n",
       "\t<tr><td>audi              </td><td>a4 quattro        </td><td>1.8               </td><td>1999              </td><td>4                 </td><td>manual(m5)        </td><td>4                 </td><td>18                </td><td>26                </td><td>p                 </td><td>compact           </td><td>22.0              </td><td>pass              </td><td>B                 </td></tr>\n",
       "\t<tr><td>audi              </td><td>a4 quattro        </td><td>1.8               </td><td>1999              </td><td>4                 </td><td>auto(l5)          </td><td>4                 </td><td>16                </td><td>25                </td><td>p                 </td><td>compact           </td><td>20.5              </td><td>pass              </td><td>B                 </td></tr>\n",
       "\t<tr><td>audi              </td><td>a4 quattro        </td><td>2.0               </td><td>2008              </td><td>4                 </td><td>manual(m6)        </td><td>4                 </td><td>20                </td><td>28                </td><td>p                 </td><td>compact           </td><td>24.0              </td><td>pass              </td><td>B                 </td></tr>\n",
       "\t<tr><td>audi              </td><td>a4 quattro        </td><td>2.0               </td><td>2008              </td><td>4                 </td><td>auto(s6)          </td><td>4                 </td><td>19                </td><td>27                </td><td>p                 </td><td>compact           </td><td>23.0              </td><td>pass              </td><td>B                 </td></tr>\n",
       "\t<tr><td>audi              </td><td>a4 quattro        </td><td>2.8               </td><td>1999              </td><td>6                 </td><td>auto(l5)          </td><td>4                 </td><td>15                </td><td>25                </td><td>p                 </td><td>compact           </td><td>20.0              </td><td>pass              </td><td>B                 </td></tr>\n",
       "\t<tr><td>audi              </td><td>a4 quattro        </td><td>2.8               </td><td>1999              </td><td>6                 </td><td>manual(m5)        </td><td>4                 </td><td>17                </td><td>25                </td><td>p                 </td><td>compact           </td><td>21.0              </td><td>pass              </td><td>B                 </td></tr>\n",
       "\t<tr><td>audi              </td><td>a4 quattro        </td><td>3.1               </td><td>2008              </td><td>6                 </td><td>auto(s6)          </td><td>4                 </td><td>17                </td><td>25                </td><td>p                 </td><td>compact           </td><td>21.0              </td><td>pass              </td><td>B                 </td></tr>\n",
       "\t<tr><td>audi              </td><td>a4 quattro        </td><td>3.1               </td><td>2008              </td><td>6                 </td><td>manual(m6)        </td><td>4                 </td><td>15                </td><td>25                </td><td>p                 </td><td>compact           </td><td>20.0              </td><td>pass              </td><td>B                 </td></tr>\n",
       "\t<tr><td>audi              </td><td>a6 quattro        </td><td>2.8               </td><td>1999              </td><td>6                 </td><td>auto(l5)          </td><td>4                 </td><td>15                </td><td>24                </td><td>p                 </td><td>midsize           </td><td>19.5              </td><td>fail              </td><td>C                 </td></tr>\n",
       "\t<tr><td>audi              </td><td>a6 quattro        </td><td>3.1               </td><td>2008              </td><td>6                 </td><td>auto(s6)          </td><td>4                 </td><td>17                </td><td>25                </td><td>p                 </td><td>midsize           </td><td>21.0              </td><td>pass              </td><td>B                 </td></tr>\n",
       "\t<tr><td>audi              </td><td>a6 quattro        </td><td>4.2               </td><td>2008              </td><td>8                 </td><td>auto(s6)          </td><td>4                 </td><td>16                </td><td>23                </td><td>p                 </td><td>midsize           </td><td>19.5              </td><td>fail              </td><td>C                 </td></tr>\n",
       "\t<tr><td>chevrolet         </td><td>c1500 suburban 2wd</td><td>5.3               </td><td>2008              </td><td>8                 </td><td>auto(l4)          </td><td>r                 </td><td>14                </td><td>20                </td><td>r                 </td><td>suv               </td><td>17.0              </td><td>fail              </td><td>C                 </td></tr>\n",
       "\t<tr><td>chevrolet         </td><td>c1500 suburban 2wd</td><td>5.3               </td><td>2008              </td><td>8                 </td><td>auto(l4)          </td><td>r                 </td><td>11                </td><td>15                </td><td>e                 </td><td>suv               </td><td>13.0              </td><td>fail              </td><td>C                 </td></tr>\n",
       "</tbody>\n",
       "</table>\n"
      ],
      "text/latex": [
       "\\begin{tabular}{r|llllllllllllll}\n",
       " manufacturer & model & displ & year & cyl & trans & drv & cty & hwy & fl & class & total & test & grade\\\\\n",
       "\\hline\n",
       "\t audi               & a4                 & 1.8                & 1999               & 4                  & auto(l5)           & f                  & 18                 & 29                 & p                  & compact            & 23.5               & pass               & B                 \\\\\n",
       "\t audi               & a4                 & 1.8                & 1999               & 4                  & manual(m5)         & f                  & 21                 & 29                 & p                  & compact            & 25.0               & pass               & B                 \\\\\n",
       "\t audi               & a4                 & 2.0                & 2008               & 4                  & manual(m6)         & f                  & 20                 & 31                 & p                  & compact            & 25.5               & pass               & B                 \\\\\n",
       "\t audi               & a4                 & 2.0                & 2008               & 4                  & auto(av)           & f                  & 21                 & 30                 & p                  & compact            & 25.5               & pass               & B                 \\\\\n",
       "\t audi               & a4                 & 2.8                & 1999               & 6                  & auto(l5)           & f                  & 16                 & 26                 & p                  & compact            & 21.0               & pass               & B                 \\\\\n",
       "\t audi               & a4                 & 2.8                & 1999               & 6                  & manual(m5)         & f                  & 18                 & 26                 & p                  & compact            & 22.0               & pass               & B                 \\\\\n",
       "\t audi               & a4                 & 3.1                & 2008               & 6                  & auto(av)           & f                  & 18                 & 27                 & p                  & compact            & 22.5               & pass               & B                 \\\\\n",
       "\t audi               & a4 quattro         & 1.8                & 1999               & 4                  & manual(m5)         & 4                  & 18                 & 26                 & p                  & compact            & 22.0               & pass               & B                 \\\\\n",
       "\t audi               & a4 quattro         & 1.8                & 1999               & 4                  & auto(l5)           & 4                  & 16                 & 25                 & p                  & compact            & 20.5               & pass               & B                 \\\\\n",
       "\t audi               & a4 quattro         & 2.0                & 2008               & 4                  & manual(m6)         & 4                  & 20                 & 28                 & p                  & compact            & 24.0               & pass               & B                 \\\\\n",
       "\t audi               & a4 quattro         & 2.0                & 2008               & 4                  & auto(s6)           & 4                  & 19                 & 27                 & p                  & compact            & 23.0               & pass               & B                 \\\\\n",
       "\t audi               & a4 quattro         & 2.8                & 1999               & 6                  & auto(l5)           & 4                  & 15                 & 25                 & p                  & compact            & 20.0               & pass               & B                 \\\\\n",
       "\t audi               & a4 quattro         & 2.8                & 1999               & 6                  & manual(m5)         & 4                  & 17                 & 25                 & p                  & compact            & 21.0               & pass               & B                 \\\\\n",
       "\t audi               & a4 quattro         & 3.1                & 2008               & 6                  & auto(s6)           & 4                  & 17                 & 25                 & p                  & compact            & 21.0               & pass               & B                 \\\\\n",
       "\t audi               & a4 quattro         & 3.1                & 2008               & 6                  & manual(m6)         & 4                  & 15                 & 25                 & p                  & compact            & 20.0               & pass               & B                 \\\\\n",
       "\t audi               & a6 quattro         & 2.8                & 1999               & 6                  & auto(l5)           & 4                  & 15                 & 24                 & p                  & midsize            & 19.5               & fail               & C                 \\\\\n",
       "\t audi               & a6 quattro         & 3.1                & 2008               & 6                  & auto(s6)           & 4                  & 17                 & 25                 & p                  & midsize            & 21.0               & pass               & B                 \\\\\n",
       "\t audi               & a6 quattro         & 4.2                & 2008               & 8                  & auto(s6)           & 4                  & 16                 & 23                 & p                  & midsize            & 19.5               & fail               & C                 \\\\\n",
       "\t chevrolet          & c1500 suburban 2wd & 5.3                & 2008               & 8                  & auto(l4)           & r                  & 14                 & 20                 & r                  & suv                & 17.0               & fail               & C                 \\\\\n",
       "\t chevrolet          & c1500 suburban 2wd & 5.3                & 2008               & 8                  & auto(l4)           & r                  & 11                 & 15                 & e                  & suv                & 13.0               & fail               & C                 \\\\\n",
       "\\end{tabular}\n"
      ],
      "text/markdown": [
       "\n",
       "| manufacturer | model | displ | year | cyl | trans | drv | cty | hwy | fl | class | total | test | grade |\n",
       "|---|---|---|---|---|---|---|---|---|---|---|---|---|---|\n",
       "| audi               | a4                 | 1.8                | 1999               | 4                  | auto(l5)           | f                  | 18                 | 29                 | p                  | compact            | 23.5               | pass               | B                  |\n",
       "| audi               | a4                 | 1.8                | 1999               | 4                  | manual(m5)         | f                  | 21                 | 29                 | p                  | compact            | 25.0               | pass               | B                  |\n",
       "| audi               | a4                 | 2.0                | 2008               | 4                  | manual(m6)         | f                  | 20                 | 31                 | p                  | compact            | 25.5               | pass               | B                  |\n",
       "| audi               | a4                 | 2.0                | 2008               | 4                  | auto(av)           | f                  | 21                 | 30                 | p                  | compact            | 25.5               | pass               | B                  |\n",
       "| audi               | a4                 | 2.8                | 1999               | 6                  | auto(l5)           | f                  | 16                 | 26                 | p                  | compact            | 21.0               | pass               | B                  |\n",
       "| audi               | a4                 | 2.8                | 1999               | 6                  | manual(m5)         | f                  | 18                 | 26                 | p                  | compact            | 22.0               | pass               | B                  |\n",
       "| audi               | a4                 | 3.1                | 2008               | 6                  | auto(av)           | f                  | 18                 | 27                 | p                  | compact            | 22.5               | pass               | B                  |\n",
       "| audi               | a4 quattro         | 1.8                | 1999               | 4                  | manual(m5)         | 4                  | 18                 | 26                 | p                  | compact            | 22.0               | pass               | B                  |\n",
       "| audi               | a4 quattro         | 1.8                | 1999               | 4                  | auto(l5)           | 4                  | 16                 | 25                 | p                  | compact            | 20.5               | pass               | B                  |\n",
       "| audi               | a4 quattro         | 2.0                | 2008               | 4                  | manual(m6)         | 4                  | 20                 | 28                 | p                  | compact            | 24.0               | pass               | B                  |\n",
       "| audi               | a4 quattro         | 2.0                | 2008               | 4                  | auto(s6)           | 4                  | 19                 | 27                 | p                  | compact            | 23.0               | pass               | B                  |\n",
       "| audi               | a4 quattro         | 2.8                | 1999               | 6                  | auto(l5)           | 4                  | 15                 | 25                 | p                  | compact            | 20.0               | pass               | B                  |\n",
       "| audi               | a4 quattro         | 2.8                | 1999               | 6                  | manual(m5)         | 4                  | 17                 | 25                 | p                  | compact            | 21.0               | pass               | B                  |\n",
       "| audi               | a4 quattro         | 3.1                | 2008               | 6                  | auto(s6)           | 4                  | 17                 | 25                 | p                  | compact            | 21.0               | pass               | B                  |\n",
       "| audi               | a4 quattro         | 3.1                | 2008               | 6                  | manual(m6)         | 4                  | 15                 | 25                 | p                  | compact            | 20.0               | pass               | B                  |\n",
       "| audi               | a6 quattro         | 2.8                | 1999               | 6                  | auto(l5)           | 4                  | 15                 | 24                 | p                  | midsize            | 19.5               | fail               | C                  |\n",
       "| audi               | a6 quattro         | 3.1                | 2008               | 6                  | auto(s6)           | 4                  | 17                 | 25                 | p                  | midsize            | 21.0               | pass               | B                  |\n",
       "| audi               | a6 quattro         | 4.2                | 2008               | 8                  | auto(s6)           | 4                  | 16                 | 23                 | p                  | midsize            | 19.5               | fail               | C                  |\n",
       "| chevrolet          | c1500 suburban 2wd | 5.3                | 2008               | 8                  | auto(l4)           | r                  | 14                 | 20                 | r                  | suv                | 17.0               | fail               | C                  |\n",
       "| chevrolet          | c1500 suburban 2wd | 5.3                | 2008               | 8                  | auto(l4)           | r                  | 11                 | 15                 | e                  | suv                | 13.0               | fail               | C                  |\n",
       "\n"
      ],
      "text/plain": [
       "   manufacturer model              displ year cyl trans      drv cty hwy fl\n",
       "1  audi         a4                 1.8   1999 4   auto(l5)   f   18  29  p \n",
       "2  audi         a4                 1.8   1999 4   manual(m5) f   21  29  p \n",
       "3  audi         a4                 2.0   2008 4   manual(m6) f   20  31  p \n",
       "4  audi         a4                 2.0   2008 4   auto(av)   f   21  30  p \n",
       "5  audi         a4                 2.8   1999 6   auto(l5)   f   16  26  p \n",
       "6  audi         a4                 2.8   1999 6   manual(m5) f   18  26  p \n",
       "7  audi         a4                 3.1   2008 6   auto(av)   f   18  27  p \n",
       "8  audi         a4 quattro         1.8   1999 4   manual(m5) 4   18  26  p \n",
       "9  audi         a4 quattro         1.8   1999 4   auto(l5)   4   16  25  p \n",
       "10 audi         a4 quattro         2.0   2008 4   manual(m6) 4   20  28  p \n",
       "11 audi         a4 quattro         2.0   2008 4   auto(s6)   4   19  27  p \n",
       "12 audi         a4 quattro         2.8   1999 6   auto(l5)   4   15  25  p \n",
       "13 audi         a4 quattro         2.8   1999 6   manual(m5) 4   17  25  p \n",
       "14 audi         a4 quattro         3.1   2008 6   auto(s6)   4   17  25  p \n",
       "15 audi         a4 quattro         3.1   2008 6   manual(m6) 4   15  25  p \n",
       "16 audi         a6 quattro         2.8   1999 6   auto(l5)   4   15  24  p \n",
       "17 audi         a6 quattro         3.1   2008 6   auto(s6)   4   17  25  p \n",
       "18 audi         a6 quattro         4.2   2008 8   auto(s6)   4   16  23  p \n",
       "19 chevrolet    c1500 suburban 2wd 5.3   2008 8   auto(l4)   r   14  20  r \n",
       "20 chevrolet    c1500 suburban 2wd 5.3   2008 8   auto(l4)   r   11  15  e \n",
       "   class   total test grade\n",
       "1  compact 23.5  pass B    \n",
       "2  compact 25.0  pass B    \n",
       "3  compact 25.5  pass B    \n",
       "4  compact 25.5  pass B    \n",
       "5  compact 21.0  pass B    \n",
       "6  compact 22.0  pass B    \n",
       "7  compact 22.5  pass B    \n",
       "8  compact 22.0  pass B    \n",
       "9  compact 20.5  pass B    \n",
       "10 compact 24.0  pass B    \n",
       "11 compact 23.0  pass B    \n",
       "12 compact 20.0  pass B    \n",
       "13 compact 21.0  pass B    \n",
       "14 compact 21.0  pass B    \n",
       "15 compact 20.0  pass B    \n",
       "16 midsize 19.5  fail C    \n",
       "17 midsize 21.0  pass B    \n",
       "18 midsize 19.5  fail C    \n",
       "19 suv     17.0  fail C    \n",
       "20 suv     13.0  fail C    "
      ]
     },
     "metadata": {},
     "output_type": "display_data"
    }
   ],
   "source": [
    "mpg$grade <- ifelse(mpg$total >= 30, \"A\",\n",
    "                   ifelse(mpg$total >= 20, \"B\", \"C\"))\n",
    "head(mpg, 20)"
   ]
  },
  {
   "cell_type": "markdown",
   "metadata": {},
   "source": [
    "- 1. 첫 번쨰 ifelse()의 조건에 따라 total이 30이면 \"A\"를 부여한다.\n",
    "- 2. 조건에 맞지 않으면 두 번째 ifelse()를 실행한다. 두 번째 조건에 따라 total이 20 이상이면 \"B\"를 부여한다.\n",
    "- 3. 두 번째 조건도 맞지 않으면 \"C\"를 부여한다."
   ]
  },
  {
   "cell_type": "markdown",
   "metadata": {},
   "source": [
    "#### 2. 빈도표, 막대 그래프로 연비 등급 살펴보기"
   ]
  },
  {
   "cell_type": "code",
   "execution_count": 30,
   "metadata": {},
   "outputs": [
    {
     "data": {
      "text/plain": [
       "\n",
       "  A   B   C \n",
       " 10 118 106 "
      ]
     },
     "metadata": {},
     "output_type": "display_data"
    }
   ],
   "source": [
    "table(mpg$grade)"
   ]
  },
  {
   "cell_type": "code",
   "execution_count": 31,
   "metadata": {},
   "outputs": [
    {
     "data": {
      "image/png": "[encoded data removed]",
      "text/plain": [
       "plot without title"
      ]
     },
     "metadata": {},
     "output_type": "display_data"
    }
   ],
   "source": [
    "qplot(mpg$grade)"
   ]
  },
  {
   "cell_type": "markdown",
   "metadata": {},
   "source": [
    "막대 그래프를 보면 등급 간 빈도 차이가 확연히 드러난다."
   ]
  },
  {
   "cell_type": "markdown",
   "metadata": {},
   "source": [
    "#### 원하는 만큼 범주 만들기\n",
    "\n",
    "ifelse()를 더 중첩하면 원하는 만큼 범주의 수를 늘릴 수 있다."
   ]
  },
  {
   "cell_type": "code",
   "execution_count": 33,
   "metadata": {},
   "outputs": [],
   "source": [
    "mpg$grade2 <- ifelse(mpg$total >= 30, \"A\",\n",
    "                    ifelse(mpg$total >= 25, \"B\", \n",
    "                           ifelse(mpg$total >= 20, \"C\", \"D\")))"
   ]
  }
 ],
 "metadata": {
  "kernelspec": {
   "display_name": "R",
   "language": "R",
   "name": "ir"
  },
  "language_info": {
   "codemirror_mode": "r",
   "file_extension": ".r",
   "mimetype": "text/x-r-source",
   "name": "R",
   "pygments_lexer": "r",
   "version": "3.5.2"
  }
 },
 "nbformat": 4,
 "nbformat_minor": 2
}
